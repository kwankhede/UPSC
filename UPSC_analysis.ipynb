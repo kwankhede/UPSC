{
 "cells": [
  {
   "cell_type": "code",
   "execution_count": 105,
   "id": "0b6eb3cb",
   "metadata": {},
   "outputs": [],
   "source": [
    "#import Libraries \n",
    "\n",
    "import pandas as pd\n",
    "import plotly.express as px\n",
    "import plotly.graph_objects as go"
   ]
  },
  {
   "cell_type": "code",
   "execution_count": 106,
   "id": "76cb71e5",
   "metadata": {},
   "outputs": [
    {
     "name": "stdout",
     "output_type": "stream",
     "text": [
      "     Roll_No                Name Comm    PwBD  W_total  PT_Marks  F_Total  \\\n",
      "0    5809986      ISHITA KISHORE  NaN     NaN      901       193     1094   \n",
      "1    1506175        GARIMA LOHIA  OBC     NaN      876       187     1063   \n",
      "2    1019872       UMA HARATHI N  OBC     NaN      873       187     1060   \n",
      "3     858695       SMRITI MISHRA  NaN     NaN      882       173     1055   \n",
      "4     906457      MAYUR HAZARIKA  NaN     NaN      861       193     1054   \n",
      "..       ...                 ...  ...     ...      ...       ...      ...   \n",
      "928   339130           MANOJ H P  NaN  PwBD-3      500       138      638   \n",
      "929   866498          YASH KUMAR  NaN  PwBD-3      457       178      635   \n",
      "930  6500028  HARE KRISHNA MEHER  OBC  PwBD-3      497       135      632   \n",
      "931   851078      PREETI BENIWAL  NaN  PwBD-5      503       124      627   \n",
      "932  5918926           SONU SHIV  NaN  PwBD-5      419       171      590   \n",
      "\n",
      "     Rank  \n",
      "0       1  \n",
      "1       2  \n",
      "2       3  \n",
      "3       4  \n",
      "4       5  \n",
      "..    ...  \n",
      "928   929  \n",
      "929   930  \n",
      "930   931  \n",
      "931   932  \n",
      "932   933  \n",
      "\n",
      "[933 rows x 8 columns]\n"
     ]
    }
   ],
   "source": [
    "# Replace 'upsc_2022.xlsx' with the path to your Excel file\n",
    "excel_file_path = 'upsc_2022.xlsx'\n",
    "\n",
    "# Create an empty DataFrame to store the concatenated tables\n",
    "upsc_2022_df = pd.DataFrame()\n",
    "\n",
    "# Read all sheets from the Excel file into a dictionary of DataFrames\n",
    "sheets_dict = pd.read_excel(excel_file_path, sheet_name=None)\n",
    "\n",
    "# Iterate through sheets and concatenate them vertically\n",
    "for sheet_name, sheet_df in sheets_dict.items():\n",
    "    # Filter and keep only the specified columns\n",
    "    sheet_df = sheet_df[['Roll_No', 'Name', 'Comm', 'PwBD', 'W_total', 'PT_Marks', 'F_Total', 'Rank']]\n",
    "    \n",
    "    # Concatenate tables vertically\n",
    "    upsc_2022_df = pd.concat([upsc_2022_df, sheet_df], ignore_index=True)\n",
    "\n",
    "# Display the resulting DataFrame\n",
    "print(upsc_2022_df)\n"
   ]
  },
  {
   "cell_type": "code",
   "execution_count": 107,
   "id": "6ead2baf",
   "metadata": {},
   "outputs": [
    {
     "data": {
      "text/plain": [
       "array([nan, 'OBC', 'EWS', 'ST', 'SC'], dtype=object)"
      ]
     },
     "execution_count": 107,
     "metadata": {},
     "output_type": "execute_result"
    }
   ],
   "source": [
    "upsc_2022_df.Comm.unique()"
   ]
  },
  {
   "cell_type": "code",
   "execution_count": 108,
   "id": "f76ab487",
   "metadata": {},
   "outputs": [],
   "source": [
    "# Replace NaN values in the 'Comm' column with 'Open'\n",
    "upsc_2022_df['Comm'] = upsc_2022_df['Comm'].fillna('Open')\n",
    "\n",
    "# Replace NaN values in the 'PwBD' column with 'No'\n",
    "upsc_2022_df['PwBD'] = upsc_2022_df['PwBD'].fillna('No')"
   ]
  },
  {
   "cell_type": "code",
   "execution_count": 109,
   "id": "2b6460f9",
   "metadata": {},
   "outputs": [
    {
     "data": {
      "text/html": [
       "<div>\n",
       "<style scoped>\n",
       "    .dataframe tbody tr th:only-of-type {\n",
       "        vertical-align: middle;\n",
       "    }\n",
       "\n",
       "    .dataframe tbody tr th {\n",
       "        vertical-align: top;\n",
       "    }\n",
       "\n",
       "    .dataframe thead th {\n",
       "        text-align: right;\n",
       "    }\n",
       "</style>\n",
       "<table border=\"1\" class=\"dataframe\">\n",
       "  <thead>\n",
       "    <tr style=\"text-align: right;\">\n",
       "      <th></th>\n",
       "      <th>Roll_No</th>\n",
       "      <th>Name</th>\n",
       "      <th>Comm</th>\n",
       "      <th>PwBD</th>\n",
       "      <th>W_total</th>\n",
       "      <th>PT_Marks</th>\n",
       "      <th>F_Total</th>\n",
       "      <th>Rank</th>\n",
       "    </tr>\n",
       "  </thead>\n",
       "  <tbody>\n",
       "    <tr>\n",
       "      <th>0</th>\n",
       "      <td>5809986</td>\n",
       "      <td>ISHITA KISHORE</td>\n",
       "      <td>Open</td>\n",
       "      <td>No</td>\n",
       "      <td>901</td>\n",
       "      <td>193</td>\n",
       "      <td>1094</td>\n",
       "      <td>1</td>\n",
       "    </tr>\n",
       "    <tr>\n",
       "      <th>1</th>\n",
       "      <td>1506175</td>\n",
       "      <td>GARIMA LOHIA</td>\n",
       "      <td>OBC</td>\n",
       "      <td>No</td>\n",
       "      <td>876</td>\n",
       "      <td>187</td>\n",
       "      <td>1063</td>\n",
       "      <td>2</td>\n",
       "    </tr>\n",
       "    <tr>\n",
       "      <th>2</th>\n",
       "      <td>1019872</td>\n",
       "      <td>UMA HARATHI N</td>\n",
       "      <td>OBC</td>\n",
       "      <td>No</td>\n",
       "      <td>873</td>\n",
       "      <td>187</td>\n",
       "      <td>1060</td>\n",
       "      <td>3</td>\n",
       "    </tr>\n",
       "    <tr>\n",
       "      <th>3</th>\n",
       "      <td>858695</td>\n",
       "      <td>SMRITI MISHRA</td>\n",
       "      <td>Open</td>\n",
       "      <td>No</td>\n",
       "      <td>882</td>\n",
       "      <td>173</td>\n",
       "      <td>1055</td>\n",
       "      <td>4</td>\n",
       "    </tr>\n",
       "    <tr>\n",
       "      <th>4</th>\n",
       "      <td>906457</td>\n",
       "      <td>MAYUR HAZARIKA</td>\n",
       "      <td>Open</td>\n",
       "      <td>No</td>\n",
       "      <td>861</td>\n",
       "      <td>193</td>\n",
       "      <td>1054</td>\n",
       "      <td>5</td>\n",
       "    </tr>\n",
       "    <tr>\n",
       "      <th>5</th>\n",
       "      <td>2409491</td>\n",
       "      <td>GAHANA NAVYA JAMES</td>\n",
       "      <td>Open</td>\n",
       "      <td>No</td>\n",
       "      <td>861</td>\n",
       "      <td>193</td>\n",
       "      <td>1054</td>\n",
       "      <td>6</td>\n",
       "    </tr>\n",
       "    <tr>\n",
       "      <th>6</th>\n",
       "      <td>1802522</td>\n",
       "      <td>WASEEM AHMAD BHAT</td>\n",
       "      <td>Open</td>\n",
       "      <td>No</td>\n",
       "      <td>871</td>\n",
       "      <td>182</td>\n",
       "      <td>1053</td>\n",
       "      <td>7</td>\n",
       "    </tr>\n",
       "    <tr>\n",
       "      <th>7</th>\n",
       "      <td>853004</td>\n",
       "      <td>ANIRUDDH YADAV</td>\n",
       "      <td>Open</td>\n",
       "      <td>No</td>\n",
       "      <td>856</td>\n",
       "      <td>195</td>\n",
       "      <td>1051</td>\n",
       "      <td>8</td>\n",
       "    </tr>\n",
       "    <tr>\n",
       "      <th>8</th>\n",
       "      <td>3517201</td>\n",
       "      <td>KANIKA GOYAL</td>\n",
       "      <td>EWS</td>\n",
       "      <td>No</td>\n",
       "      <td>865</td>\n",
       "      <td>180</td>\n",
       "      <td>1045</td>\n",
       "      <td>9</td>\n",
       "    </tr>\n",
       "    <tr>\n",
       "      <th>9</th>\n",
       "      <td>205139</td>\n",
       "      <td>RAHUL SRIVASTAVA</td>\n",
       "      <td>Open</td>\n",
       "      <td>No</td>\n",
       "      <td>863</td>\n",
       "      <td>180</td>\n",
       "      <td>1043</td>\n",
       "      <td>10</td>\n",
       "    </tr>\n",
       "  </tbody>\n",
       "</table>\n",
       "</div>"
      ],
      "text/plain": [
       "   Roll_No                Name  Comm PwBD  W_total  PT_Marks  F_Total  Rank\n",
       "0  5809986      ISHITA KISHORE  Open   No      901       193     1094     1\n",
       "1  1506175        GARIMA LOHIA   OBC   No      876       187     1063     2\n",
       "2  1019872       UMA HARATHI N   OBC   No      873       187     1060     3\n",
       "3   858695       SMRITI MISHRA  Open   No      882       173     1055     4\n",
       "4   906457      MAYUR HAZARIKA  Open   No      861       193     1054     5\n",
       "5  2409491  GAHANA NAVYA JAMES  Open   No      861       193     1054     6\n",
       "6  1802522   WASEEM AHMAD BHAT  Open   No      871       182     1053     7\n",
       "7   853004      ANIRUDDH YADAV  Open   No      856       195     1051     8\n",
       "8  3517201        KANIKA GOYAL   EWS   No      865       180     1045     9\n",
       "9   205139    RAHUL SRIVASTAVA  Open   No      863       180     1043    10"
      ]
     },
     "execution_count": 109,
     "metadata": {},
     "output_type": "execute_result"
    }
   ],
   "source": [
    "upsc_2022_df.head(10)"
   ]
  },
  {
   "cell_type": "code",
   "execution_count": null,
   "id": "79866e68",
   "metadata": {},
   "outputs": [],
   "source": []
  },
  {
   "cell_type": "code",
   "execution_count": null,
   "id": "83d90d7c",
   "metadata": {},
   "outputs": [],
   "source": []
  },
  {
   "cell_type": "code",
   "execution_count": null,
   "id": "d9ac6c9d",
   "metadata": {},
   "outputs": [],
   "source": []
  },
  {
   "cell_type": "markdown",
   "id": "009db9e2",
   "metadata": {},
   "source": [
    "# Analysis:"
   ]
  },
  {
   "cell_type": "code",
   "execution_count": 115,
   "id": "9d1b2f0c",
   "metadata": {},
   "outputs": [
    {
     "data": {
      "application/vnd.plotly.v1+json": {
       "config": {
        "plotlyServerURL": "https://plot.ly"
       },
       "data": [
        {
         "domain": {
          "x": [
           0,
           1
          ],
          "y": [
           0,
           1
          ]
         },
         "hole": 0.3,
         "hoverinfo": "label+percent",
         "hovertemplate": "Comm=%{label}<br>value=%{value}<extra></extra>",
         "labels": [
          "Open",
          "OBC",
          "SC",
          "EWS",
          "ST"
         ],
         "legendgroup": "",
         "name": "",
         "showlegend": true,
         "textfont": {
          "size": 15
         },
         "textinfo": "percent+label",
         "type": "pie",
         "values": [
          345,
          263,
          154,
          99,
          72
         ]
        }
       ],
       "layout": {
        "legend": {
         "tracegroupgap": 0
        },
        "template": {
         "data": {
          "bar": [
           {
            "error_x": {
             "color": "#2a3f5f"
            },
            "error_y": {
             "color": "#2a3f5f"
            },
            "marker": {
             "line": {
              "color": "#E5ECF6",
              "width": 0.5
             },
             "pattern": {
              "fillmode": "overlay",
              "size": 10,
              "solidity": 0.2
             }
            },
            "type": "bar"
           }
          ],
          "barpolar": [
           {
            "marker": {
             "line": {
              "color": "#E5ECF6",
              "width": 0.5
             },
             "pattern": {
              "fillmode": "overlay",
              "size": 10,
              "solidity": 0.2
             }
            },
            "type": "barpolar"
           }
          ],
          "carpet": [
           {
            "aaxis": {
             "endlinecolor": "#2a3f5f",
             "gridcolor": "white",
             "linecolor": "white",
             "minorgridcolor": "white",
             "startlinecolor": "#2a3f5f"
            },
            "baxis": {
             "endlinecolor": "#2a3f5f",
             "gridcolor": "white",
             "linecolor": "white",
             "minorgridcolor": "white",
             "startlinecolor": "#2a3f5f"
            },
            "type": "carpet"
           }
          ],
          "choropleth": [
           {
            "colorbar": {
             "outlinewidth": 0,
             "ticks": ""
            },
            "type": "choropleth"
           }
          ],
          "contour": [
           {
            "colorbar": {
             "outlinewidth": 0,
             "ticks": ""
            },
            "colorscale": [
             [
              0,
              "#0d0887"
             ],
             [
              0.1111111111111111,
              "#46039f"
             ],
             [
              0.2222222222222222,
              "#7201a8"
             ],
             [
              0.3333333333333333,
              "#9c179e"
             ],
             [
              0.4444444444444444,
              "#bd3786"
             ],
             [
              0.5555555555555556,
              "#d8576b"
             ],
             [
              0.6666666666666666,
              "#ed7953"
             ],
             [
              0.7777777777777778,
              "#fb9f3a"
             ],
             [
              0.8888888888888888,
              "#fdca26"
             ],
             [
              1,
              "#f0f921"
             ]
            ],
            "type": "contour"
           }
          ],
          "contourcarpet": [
           {
            "colorbar": {
             "outlinewidth": 0,
             "ticks": ""
            },
            "type": "contourcarpet"
           }
          ],
          "heatmap": [
           {
            "colorbar": {
             "outlinewidth": 0,
             "ticks": ""
            },
            "colorscale": [
             [
              0,
              "#0d0887"
             ],
             [
              0.1111111111111111,
              "#46039f"
             ],
             [
              0.2222222222222222,
              "#7201a8"
             ],
             [
              0.3333333333333333,
              "#9c179e"
             ],
             [
              0.4444444444444444,
              "#bd3786"
             ],
             [
              0.5555555555555556,
              "#d8576b"
             ],
             [
              0.6666666666666666,
              "#ed7953"
             ],
             [
              0.7777777777777778,
              "#fb9f3a"
             ],
             [
              0.8888888888888888,
              "#fdca26"
             ],
             [
              1,
              "#f0f921"
             ]
            ],
            "type": "heatmap"
           }
          ],
          "heatmapgl": [
           {
            "colorbar": {
             "outlinewidth": 0,
             "ticks": ""
            },
            "colorscale": [
             [
              0,
              "#0d0887"
             ],
             [
              0.1111111111111111,
              "#46039f"
             ],
             [
              0.2222222222222222,
              "#7201a8"
             ],
             [
              0.3333333333333333,
              "#9c179e"
             ],
             [
              0.4444444444444444,
              "#bd3786"
             ],
             [
              0.5555555555555556,
              "#d8576b"
             ],
             [
              0.6666666666666666,
              "#ed7953"
             ],
             [
              0.7777777777777778,
              "#fb9f3a"
             ],
             [
              0.8888888888888888,
              "#fdca26"
             ],
             [
              1,
              "#f0f921"
             ]
            ],
            "type": "heatmapgl"
           }
          ],
          "histogram": [
           {
            "marker": {
             "pattern": {
              "fillmode": "overlay",
              "size": 10,
              "solidity": 0.2
             }
            },
            "type": "histogram"
           }
          ],
          "histogram2d": [
           {
            "colorbar": {
             "outlinewidth": 0,
             "ticks": ""
            },
            "colorscale": [
             [
              0,
              "#0d0887"
             ],
             [
              0.1111111111111111,
              "#46039f"
             ],
             [
              0.2222222222222222,
              "#7201a8"
             ],
             [
              0.3333333333333333,
              "#9c179e"
             ],
             [
              0.4444444444444444,
              "#bd3786"
             ],
             [
              0.5555555555555556,
              "#d8576b"
             ],
             [
              0.6666666666666666,
              "#ed7953"
             ],
             [
              0.7777777777777778,
              "#fb9f3a"
             ],
             [
              0.8888888888888888,
              "#fdca26"
             ],
             [
              1,
              "#f0f921"
             ]
            ],
            "type": "histogram2d"
           }
          ],
          "histogram2dcontour": [
           {
            "colorbar": {
             "outlinewidth": 0,
             "ticks": ""
            },
            "colorscale": [
             [
              0,
              "#0d0887"
             ],
             [
              0.1111111111111111,
              "#46039f"
             ],
             [
              0.2222222222222222,
              "#7201a8"
             ],
             [
              0.3333333333333333,
              "#9c179e"
             ],
             [
              0.4444444444444444,
              "#bd3786"
             ],
             [
              0.5555555555555556,
              "#d8576b"
             ],
             [
              0.6666666666666666,
              "#ed7953"
             ],
             [
              0.7777777777777778,
              "#fb9f3a"
             ],
             [
              0.8888888888888888,
              "#fdca26"
             ],
             [
              1,
              "#f0f921"
             ]
            ],
            "type": "histogram2dcontour"
           }
          ],
          "mesh3d": [
           {
            "colorbar": {
             "outlinewidth": 0,
             "ticks": ""
            },
            "type": "mesh3d"
           }
          ],
          "parcoords": [
           {
            "line": {
             "colorbar": {
              "outlinewidth": 0,
              "ticks": ""
             }
            },
            "type": "parcoords"
           }
          ],
          "pie": [
           {
            "automargin": true,
            "type": "pie"
           }
          ],
          "scatter": [
           {
            "fillpattern": {
             "fillmode": "overlay",
             "size": 10,
             "solidity": 0.2
            },
            "type": "scatter"
           }
          ],
          "scatter3d": [
           {
            "line": {
             "colorbar": {
              "outlinewidth": 0,
              "ticks": ""
             }
            },
            "marker": {
             "colorbar": {
              "outlinewidth": 0,
              "ticks": ""
             }
            },
            "type": "scatter3d"
           }
          ],
          "scattercarpet": [
           {
            "marker": {
             "colorbar": {
              "outlinewidth": 0,
              "ticks": ""
             }
            },
            "type": "scattercarpet"
           }
          ],
          "scattergeo": [
           {
            "marker": {
             "colorbar": {
              "outlinewidth": 0,
              "ticks": ""
             }
            },
            "type": "scattergeo"
           }
          ],
          "scattergl": [
           {
            "marker": {
             "colorbar": {
              "outlinewidth": 0,
              "ticks": ""
             }
            },
            "type": "scattergl"
           }
          ],
          "scattermapbox": [
           {
            "marker": {
             "colorbar": {
              "outlinewidth": 0,
              "ticks": ""
             }
            },
            "type": "scattermapbox"
           }
          ],
          "scatterpolar": [
           {
            "marker": {
             "colorbar": {
              "outlinewidth": 0,
              "ticks": ""
             }
            },
            "type": "scatterpolar"
           }
          ],
          "scatterpolargl": [
           {
            "marker": {
             "colorbar": {
              "outlinewidth": 0,
              "ticks": ""
             }
            },
            "type": "scatterpolargl"
           }
          ],
          "scatterternary": [
           {
            "marker": {
             "colorbar": {
              "outlinewidth": 0,
              "ticks": ""
             }
            },
            "type": "scatterternary"
           }
          ],
          "surface": [
           {
            "colorbar": {
             "outlinewidth": 0,
             "ticks": ""
            },
            "colorscale": [
             [
              0,
              "#0d0887"
             ],
             [
              0.1111111111111111,
              "#46039f"
             ],
             [
              0.2222222222222222,
              "#7201a8"
             ],
             [
              0.3333333333333333,
              "#9c179e"
             ],
             [
              0.4444444444444444,
              "#bd3786"
             ],
             [
              0.5555555555555556,
              "#d8576b"
             ],
             [
              0.6666666666666666,
              "#ed7953"
             ],
             [
              0.7777777777777778,
              "#fb9f3a"
             ],
             [
              0.8888888888888888,
              "#fdca26"
             ],
             [
              1,
              "#f0f921"
             ]
            ],
            "type": "surface"
           }
          ],
          "table": [
           {
            "cells": {
             "fill": {
              "color": "#EBF0F8"
             },
             "line": {
              "color": "white"
             }
            },
            "header": {
             "fill": {
              "color": "#C8D4E3"
             },
             "line": {
              "color": "white"
             }
            },
            "type": "table"
           }
          ]
         },
         "layout": {
          "annotationdefaults": {
           "arrowcolor": "#2a3f5f",
           "arrowhead": 0,
           "arrowwidth": 1
          },
          "autotypenumbers": "strict",
          "coloraxis": {
           "colorbar": {
            "outlinewidth": 0,
            "ticks": ""
           }
          },
          "colorscale": {
           "diverging": [
            [
             0,
             "#8e0152"
            ],
            [
             0.1,
             "#c51b7d"
            ],
            [
             0.2,
             "#de77ae"
            ],
            [
             0.3,
             "#f1b6da"
            ],
            [
             0.4,
             "#fde0ef"
            ],
            [
             0.5,
             "#f7f7f7"
            ],
            [
             0.6,
             "#e6f5d0"
            ],
            [
             0.7,
             "#b8e186"
            ],
            [
             0.8,
             "#7fbc41"
            ],
            [
             0.9,
             "#4d9221"
            ],
            [
             1,
             "#276419"
            ]
           ],
           "sequential": [
            [
             0,
             "#0d0887"
            ],
            [
             0.1111111111111111,
             "#46039f"
            ],
            [
             0.2222222222222222,
             "#7201a8"
            ],
            [
             0.3333333333333333,
             "#9c179e"
            ],
            [
             0.4444444444444444,
             "#bd3786"
            ],
            [
             0.5555555555555556,
             "#d8576b"
            ],
            [
             0.6666666666666666,
             "#ed7953"
            ],
            [
             0.7777777777777778,
             "#fb9f3a"
            ],
            [
             0.8888888888888888,
             "#fdca26"
            ],
            [
             1,
             "#f0f921"
            ]
           ],
           "sequentialminus": [
            [
             0,
             "#0d0887"
            ],
            [
             0.1111111111111111,
             "#46039f"
            ],
            [
             0.2222222222222222,
             "#7201a8"
            ],
            [
             0.3333333333333333,
             "#9c179e"
            ],
            [
             0.4444444444444444,
             "#bd3786"
            ],
            [
             0.5555555555555556,
             "#d8576b"
            ],
            [
             0.6666666666666666,
             "#ed7953"
            ],
            [
             0.7777777777777778,
             "#fb9f3a"
            ],
            [
             0.8888888888888888,
             "#fdca26"
            ],
            [
             1,
             "#f0f921"
            ]
           ]
          },
          "colorway": [
           "#636efa",
           "#EF553B",
           "#00cc96",
           "#ab63fa",
           "#FFA15A",
           "#19d3f3",
           "#FF6692",
           "#B6E880",
           "#FF97FF",
           "#FECB52"
          ],
          "font": {
           "color": "#2a3f5f"
          },
          "geo": {
           "bgcolor": "white",
           "lakecolor": "white",
           "landcolor": "#E5ECF6",
           "showlakes": true,
           "showland": true,
           "subunitcolor": "white"
          },
          "hoverlabel": {
           "align": "left"
          },
          "hovermode": "closest",
          "mapbox": {
           "style": "light"
          },
          "paper_bgcolor": "white",
          "plot_bgcolor": "#E5ECF6",
          "polar": {
           "angularaxis": {
            "gridcolor": "white",
            "linecolor": "white",
            "ticks": ""
           },
           "bgcolor": "#E5ECF6",
           "radialaxis": {
            "gridcolor": "white",
            "linecolor": "white",
            "ticks": ""
           }
          },
          "scene": {
           "xaxis": {
            "backgroundcolor": "#E5ECF6",
            "gridcolor": "white",
            "gridwidth": 2,
            "linecolor": "white",
            "showbackground": true,
            "ticks": "",
            "zerolinecolor": "white"
           },
           "yaxis": {
            "backgroundcolor": "#E5ECF6",
            "gridcolor": "white",
            "gridwidth": 2,
            "linecolor": "white",
            "showbackground": true,
            "ticks": "",
            "zerolinecolor": "white"
           },
           "zaxis": {
            "backgroundcolor": "#E5ECF6",
            "gridcolor": "white",
            "gridwidth": 2,
            "linecolor": "white",
            "showbackground": true,
            "ticks": "",
            "zerolinecolor": "white"
           }
          },
          "shapedefaults": {
           "line": {
            "color": "#2a3f5f"
           }
          },
          "ternary": {
           "aaxis": {
            "gridcolor": "white",
            "linecolor": "white",
            "ticks": ""
           },
           "baxis": {
            "gridcolor": "white",
            "linecolor": "white",
            "ticks": ""
           },
           "bgcolor": "#E5ECF6",
           "caxis": {
            "gridcolor": "white",
            "linecolor": "white",
            "ticks": ""
           }
          },
          "title": {
           "x": 0.05
          },
          "xaxis": {
           "automargin": true,
           "gridcolor": "white",
           "linecolor": "white",
           "ticks": "",
           "title": {
            "standoff": 15
           },
           "zerolinecolor": "white",
           "zerolinewidth": 2
          },
          "yaxis": {
           "automargin": true,
           "gridcolor": "white",
           "linecolor": "white",
           "ticks": "",
           "title": {
            "standoff": 15
           },
           "zerolinecolor": "white",
           "zerolinewidth": 2
          }
         }
        },
        "title": {
         "text": "Distribution of Comm Categories"
        }
       }
      },
      "text/html": [
       "<div>                            <div id=\"0cc8a46f-ae3e-4042-9f93-1e116d96fbf2\" class=\"plotly-graph-div\" style=\"height:525px; width:100%;\"></div>            <script type=\"text/javascript\">                require([\"plotly\"], function(Plotly) {                    window.PLOTLYENV=window.PLOTLYENV || {};                                    if (document.getElementById(\"0cc8a46f-ae3e-4042-9f93-1e116d96fbf2\")) {                    Plotly.newPlot(                        \"0cc8a46f-ae3e-4042-9f93-1e116d96fbf2\",                        [{\"domain\":{\"x\":[0.0,1.0],\"y\":[0.0,1.0]},\"hole\":0.3,\"hovertemplate\":\"Comm=%{label}<br>value=%{value}<extra></extra>\",\"labels\":[\"Open\",\"OBC\",\"SC\",\"EWS\",\"ST\"],\"legendgroup\":\"\",\"name\":\"\",\"showlegend\":true,\"values\":[345,263,154,99,72],\"type\":\"pie\",\"textfont\":{\"size\":15},\"hoverinfo\":\"label+percent\",\"textinfo\":\"percent+label\"}],                        {\"template\":{\"data\":{\"histogram2dcontour\":[{\"type\":\"histogram2dcontour\",\"colorbar\":{\"outlinewidth\":0,\"ticks\":\"\"},\"colorscale\":[[0.0,\"#0d0887\"],[0.1111111111111111,\"#46039f\"],[0.2222222222222222,\"#7201a8\"],[0.3333333333333333,\"#9c179e\"],[0.4444444444444444,\"#bd3786\"],[0.5555555555555556,\"#d8576b\"],[0.6666666666666666,\"#ed7953\"],[0.7777777777777778,\"#fb9f3a\"],[0.8888888888888888,\"#fdca26\"],[1.0,\"#f0f921\"]]}],\"choropleth\":[{\"type\":\"choropleth\",\"colorbar\":{\"outlinewidth\":0,\"ticks\":\"\"}}],\"histogram2d\":[{\"type\":\"histogram2d\",\"colorbar\":{\"outlinewidth\":0,\"ticks\":\"\"},\"colorscale\":[[0.0,\"#0d0887\"],[0.1111111111111111,\"#46039f\"],[0.2222222222222222,\"#7201a8\"],[0.3333333333333333,\"#9c179e\"],[0.4444444444444444,\"#bd3786\"],[0.5555555555555556,\"#d8576b\"],[0.6666666666666666,\"#ed7953\"],[0.7777777777777778,\"#fb9f3a\"],[0.8888888888888888,\"#fdca26\"],[1.0,\"#f0f921\"]]}],\"heatmap\":[{\"type\":\"heatmap\",\"colorbar\":{\"outlinewidth\":0,\"ticks\":\"\"},\"colorscale\":[[0.0,\"#0d0887\"],[0.1111111111111111,\"#46039f\"],[0.2222222222222222,\"#7201a8\"],[0.3333333333333333,\"#9c179e\"],[0.4444444444444444,\"#bd3786\"],[0.5555555555555556,\"#d8576b\"],[0.6666666666666666,\"#ed7953\"],[0.7777777777777778,\"#fb9f3a\"],[0.8888888888888888,\"#fdca26\"],[1.0,\"#f0f921\"]]}],\"heatmapgl\":[{\"type\":\"heatmapgl\",\"colorbar\":{\"outlinewidth\":0,\"ticks\":\"\"},\"colorscale\":[[0.0,\"#0d0887\"],[0.1111111111111111,\"#46039f\"],[0.2222222222222222,\"#7201a8\"],[0.3333333333333333,\"#9c179e\"],[0.4444444444444444,\"#bd3786\"],[0.5555555555555556,\"#d8576b\"],[0.6666666666666666,\"#ed7953\"],[0.7777777777777778,\"#fb9f3a\"],[0.8888888888888888,\"#fdca26\"],[1.0,\"#f0f921\"]]}],\"contourcarpet\":[{\"type\":\"contourcarpet\",\"colorbar\":{\"outlinewidth\":0,\"ticks\":\"\"}}],\"contour\":[{\"type\":\"contour\",\"colorbar\":{\"outlinewidth\":0,\"ticks\":\"\"},\"colorscale\":[[0.0,\"#0d0887\"],[0.1111111111111111,\"#46039f\"],[0.2222222222222222,\"#7201a8\"],[0.3333333333333333,\"#9c179e\"],[0.4444444444444444,\"#bd3786\"],[0.5555555555555556,\"#d8576b\"],[0.6666666666666666,\"#ed7953\"],[0.7777777777777778,\"#fb9f3a\"],[0.8888888888888888,\"#fdca26\"],[1.0,\"#f0f921\"]]}],\"surface\":[{\"type\":\"surface\",\"colorbar\":{\"outlinewidth\":0,\"ticks\":\"\"},\"colorscale\":[[0.0,\"#0d0887\"],[0.1111111111111111,\"#46039f\"],[0.2222222222222222,\"#7201a8\"],[0.3333333333333333,\"#9c179e\"],[0.4444444444444444,\"#bd3786\"],[0.5555555555555556,\"#d8576b\"],[0.6666666666666666,\"#ed7953\"],[0.7777777777777778,\"#fb9f3a\"],[0.8888888888888888,\"#fdca26\"],[1.0,\"#f0f921\"]]}],\"mesh3d\":[{\"type\":\"mesh3d\",\"colorbar\":{\"outlinewidth\":0,\"ticks\":\"\"}}],\"scatter\":[{\"fillpattern\":{\"fillmode\":\"overlay\",\"size\":10,\"solidity\":0.2},\"type\":\"scatter\"}],\"parcoords\":[{\"type\":\"parcoords\",\"line\":{\"colorbar\":{\"outlinewidth\":0,\"ticks\":\"\"}}}],\"scatterpolargl\":[{\"type\":\"scatterpolargl\",\"marker\":{\"colorbar\":{\"outlinewidth\":0,\"ticks\":\"\"}}}],\"bar\":[{\"error_x\":{\"color\":\"#2a3f5f\"},\"error_y\":{\"color\":\"#2a3f5f\"},\"marker\":{\"line\":{\"color\":\"#E5ECF6\",\"width\":0.5},\"pattern\":{\"fillmode\":\"overlay\",\"size\":10,\"solidity\":0.2}},\"type\":\"bar\"}],\"scattergeo\":[{\"type\":\"scattergeo\",\"marker\":{\"colorbar\":{\"outlinewidth\":0,\"ticks\":\"\"}}}],\"scatterpolar\":[{\"type\":\"scatterpolar\",\"marker\":{\"colorbar\":{\"outlinewidth\":0,\"ticks\":\"\"}}}],\"histogram\":[{\"marker\":{\"pattern\":{\"fillmode\":\"overlay\",\"size\":10,\"solidity\":0.2}},\"type\":\"histogram\"}],\"scattergl\":[{\"type\":\"scattergl\",\"marker\":{\"colorbar\":{\"outlinewidth\":0,\"ticks\":\"\"}}}],\"scatter3d\":[{\"type\":\"scatter3d\",\"line\":{\"colorbar\":{\"outlinewidth\":0,\"ticks\":\"\"}},\"marker\":{\"colorbar\":{\"outlinewidth\":0,\"ticks\":\"\"}}}],\"scattermapbox\":[{\"type\":\"scattermapbox\",\"marker\":{\"colorbar\":{\"outlinewidth\":0,\"ticks\":\"\"}}}],\"scatterternary\":[{\"type\":\"scatterternary\",\"marker\":{\"colorbar\":{\"outlinewidth\":0,\"ticks\":\"\"}}}],\"scattercarpet\":[{\"type\":\"scattercarpet\",\"marker\":{\"colorbar\":{\"outlinewidth\":0,\"ticks\":\"\"}}}],\"carpet\":[{\"aaxis\":{\"endlinecolor\":\"#2a3f5f\",\"gridcolor\":\"white\",\"linecolor\":\"white\",\"minorgridcolor\":\"white\",\"startlinecolor\":\"#2a3f5f\"},\"baxis\":{\"endlinecolor\":\"#2a3f5f\",\"gridcolor\":\"white\",\"linecolor\":\"white\",\"minorgridcolor\":\"white\",\"startlinecolor\":\"#2a3f5f\"},\"type\":\"carpet\"}],\"table\":[{\"cells\":{\"fill\":{\"color\":\"#EBF0F8\"},\"line\":{\"color\":\"white\"}},\"header\":{\"fill\":{\"color\":\"#C8D4E3\"},\"line\":{\"color\":\"white\"}},\"type\":\"table\"}],\"barpolar\":[{\"marker\":{\"line\":{\"color\":\"#E5ECF6\",\"width\":0.5},\"pattern\":{\"fillmode\":\"overlay\",\"size\":10,\"solidity\":0.2}},\"type\":\"barpolar\"}],\"pie\":[{\"automargin\":true,\"type\":\"pie\"}]},\"layout\":{\"autotypenumbers\":\"strict\",\"colorway\":[\"#636efa\",\"#EF553B\",\"#00cc96\",\"#ab63fa\",\"#FFA15A\",\"#19d3f3\",\"#FF6692\",\"#B6E880\",\"#FF97FF\",\"#FECB52\"],\"font\":{\"color\":\"#2a3f5f\"},\"hovermode\":\"closest\",\"hoverlabel\":{\"align\":\"left\"},\"paper_bgcolor\":\"white\",\"plot_bgcolor\":\"#E5ECF6\",\"polar\":{\"bgcolor\":\"#E5ECF6\",\"angularaxis\":{\"gridcolor\":\"white\",\"linecolor\":\"white\",\"ticks\":\"\"},\"radialaxis\":{\"gridcolor\":\"white\",\"linecolor\":\"white\",\"ticks\":\"\"}},\"ternary\":{\"bgcolor\":\"#E5ECF6\",\"aaxis\":{\"gridcolor\":\"white\",\"linecolor\":\"white\",\"ticks\":\"\"},\"baxis\":{\"gridcolor\":\"white\",\"linecolor\":\"white\",\"ticks\":\"\"},\"caxis\":{\"gridcolor\":\"white\",\"linecolor\":\"white\",\"ticks\":\"\"}},\"coloraxis\":{\"colorbar\":{\"outlinewidth\":0,\"ticks\":\"\"}},\"colorscale\":{\"sequential\":[[0.0,\"#0d0887\"],[0.1111111111111111,\"#46039f\"],[0.2222222222222222,\"#7201a8\"],[0.3333333333333333,\"#9c179e\"],[0.4444444444444444,\"#bd3786\"],[0.5555555555555556,\"#d8576b\"],[0.6666666666666666,\"#ed7953\"],[0.7777777777777778,\"#fb9f3a\"],[0.8888888888888888,\"#fdca26\"],[1.0,\"#f0f921\"]],\"sequentialminus\":[[0.0,\"#0d0887\"],[0.1111111111111111,\"#46039f\"],[0.2222222222222222,\"#7201a8\"],[0.3333333333333333,\"#9c179e\"],[0.4444444444444444,\"#bd3786\"],[0.5555555555555556,\"#d8576b\"],[0.6666666666666666,\"#ed7953\"],[0.7777777777777778,\"#fb9f3a\"],[0.8888888888888888,\"#fdca26\"],[1.0,\"#f0f921\"]],\"diverging\":[[0,\"#8e0152\"],[0.1,\"#c51b7d\"],[0.2,\"#de77ae\"],[0.3,\"#f1b6da\"],[0.4,\"#fde0ef\"],[0.5,\"#f7f7f7\"],[0.6,\"#e6f5d0\"],[0.7,\"#b8e186\"],[0.8,\"#7fbc41\"],[0.9,\"#4d9221\"],[1,\"#276419\"]]},\"xaxis\":{\"gridcolor\":\"white\",\"linecolor\":\"white\",\"ticks\":\"\",\"title\":{\"standoff\":15},\"zerolinecolor\":\"white\",\"automargin\":true,\"zerolinewidth\":2},\"yaxis\":{\"gridcolor\":\"white\",\"linecolor\":\"white\",\"ticks\":\"\",\"title\":{\"standoff\":15},\"zerolinecolor\":\"white\",\"automargin\":true,\"zerolinewidth\":2},\"scene\":{\"xaxis\":{\"backgroundcolor\":\"#E5ECF6\",\"gridcolor\":\"white\",\"linecolor\":\"white\",\"showbackground\":true,\"ticks\":\"\",\"zerolinecolor\":\"white\",\"gridwidth\":2},\"yaxis\":{\"backgroundcolor\":\"#E5ECF6\",\"gridcolor\":\"white\",\"linecolor\":\"white\",\"showbackground\":true,\"ticks\":\"\",\"zerolinecolor\":\"white\",\"gridwidth\":2},\"zaxis\":{\"backgroundcolor\":\"#E5ECF6\",\"gridcolor\":\"white\",\"linecolor\":\"white\",\"showbackground\":true,\"ticks\":\"\",\"zerolinecolor\":\"white\",\"gridwidth\":2}},\"shapedefaults\":{\"line\":{\"color\":\"#2a3f5f\"}},\"annotationdefaults\":{\"arrowcolor\":\"#2a3f5f\",\"arrowhead\":0,\"arrowwidth\":1},\"geo\":{\"bgcolor\":\"white\",\"landcolor\":\"#E5ECF6\",\"subunitcolor\":\"white\",\"showland\":true,\"showlakes\":true,\"lakecolor\":\"white\"},\"title\":{\"x\":0.05},\"mapbox\":{\"style\":\"light\"}}},\"legend\":{\"tracegroupgap\":0},\"title\":{\"text\":\"Distribution of Comm Categories\"}},                        {\"responsive\": true}                    ).then(function(){\n",
       "                            \n",
       "var gd = document.getElementById('0cc8a46f-ae3e-4042-9f93-1e116d96fbf2');\n",
       "var x = new MutationObserver(function (mutations, observer) {{\n",
       "        var display = window.getComputedStyle(gd).display;\n",
       "        if (!display || display === 'none') {{\n",
       "            console.log([gd, 'removed!']);\n",
       "            Plotly.purge(gd);\n",
       "            observer.disconnect();\n",
       "        }}\n",
       "}});\n",
       "\n",
       "// Listen for the removal of the full notebook cells\n",
       "var notebookContainer = gd.closest('#notebook-container');\n",
       "if (notebookContainer) {{\n",
       "    x.observe(notebookContainer, {childList: true});\n",
       "}}\n",
       "\n",
       "// Listen for the clearing of the current output cell\n",
       "var outputEl = gd.closest('.output');\n",
       "if (outputEl) {{\n",
       "    x.observe(outputEl, {childList: true});\n",
       "}}\n",
       "\n",
       "                        })                };                });            </script>        </div>"
      ]
     },
     "metadata": {},
     "output_type": "display_data"
    }
   ],
   "source": [
    "# Count the occurrences of each 'Comm' category\n",
    "comm_counts = upsc_2022_df['Comm'].value_counts()\n",
    "\n",
    "# Create a pie chart with a hole using Plotly Express\n",
    "fig = px.pie(\n",
    "    comm_counts,\n",
    "    names=comm_counts.index,\n",
    "    values=comm_counts.values,\n",
    "    title='Distribution of Comm Categories',\n",
    "    hole=0.3  # Adjust the hole size to control the thickness of the donut\n",
    ")\n",
    "\n",
    "fig.update_traces(\n",
    "    hoverinfo='label+percent',\n",
    "    textinfo='percent+label',\n",
    "    textfont_size=15)\n",
    "\n",
    "# Show the plot\n",
    "fig.show()\n"
   ]
  },
  {
   "cell_type": "markdown",
   "id": "80183cdb",
   "metadata": {},
   "source": [
    "# Category wise mean and standard deviation"
   ]
  },
  {
   "cell_type": "code",
   "execution_count": 118,
   "id": "e64a774c",
   "metadata": {},
   "outputs": [
    {
     "data": {
      "text/plain": [
       "Index(['Roll_No', 'Name', 'Comm', 'PwBD', 'W_total', 'PT_Marks', 'F_Total',\n",
       "       'Rank'],\n",
       "      dtype='object')"
      ]
     },
     "execution_count": 118,
     "metadata": {},
     "output_type": "execute_result"
    }
   ],
   "source": [
    "upsc_2022_df.columns"
   ]
  },
  {
   "cell_type": "code",
   "execution_count": 135,
   "id": "58843d3e",
   "metadata": {},
   "outputs": [
    {
     "data": {
      "application/vnd.plotly.v1+json": {
       "config": {
        "plotlyServerURL": "https://plot.ly"
       },
       "data": [
        {
         "hovertemplate": "Comm=Open<br>W_total=%{x}<br>PT_Marks=%{y}<extra></extra>",
         "legendgroup": "Open",
         "marker": {
          "color": "#636efa",
          "symbol": "circle"
         },
         "mode": "markers",
         "name": "Open",
         "orientation": "v",
         "showlegend": true,
         "type": "scatter",
         "x": [
          901,
          882,
          861,
          861,
          871,
          856,
          863,
          837,
          856,
          855,
          831,
          873,
          858,
          858,
          853,
          826,
          851,
          849,
          833,
          856,
          843,
          839,
          838,
          835,
          868,
          827,
          838,
          814,
          827,
          835,
          827,
          836,
          810,
          836,
          834,
          819,
          818,
          820,
          806,
          822,
          832,
          829,
          835,
          804,
          827,
          833,
          813,
          821,
          815,
          806,
          814,
          822,
          834,
          801,
          824,
          822,
          821,
          815,
          829,
          832,
          820,
          841,
          808,
          812,
          816,
          822,
          801,
          812,
          823,
          809,
          825,
          810,
          813,
          818,
          810,
          823,
          826,
          797,
          833,
          802,
          822,
          805
         ],
         "xaxis": "x",
         "y": [
          193,
          173,
          193,
          193,
          182,
          195,
          180,
          205,
          185,
          184,
          204,
          162,
          176,
          176,
          180,
          204,
          178,
          179,
          195,
          171,
          184,
          184,
          185,
          187,
          154,
          195,
          184,
          206,
          193,
          184,
          190,
          180,
          206,
          179,
          180,
          195,
          195,
          193,
          206,
          190,
          180,
          182,
          176,
          206,
          182,
          176,
          195,
          187,
          193,
          201,
          193,
          185,
          173,
          206,
          182,
          184,
          185,
          190,
          176,
          173,
          184,
          162,
          195,
          190,
          185,
          179,
          198,
          187,
          176,
          190,
          173,
          187,
          184,
          179,
          187,
          173,
          170,
          198,
          162,
          193,
          173,
          190
         ],
         "yaxis": "y"
        },
        {
         "hovertemplate": "Comm=OBC<br>W_total=%{x}<br>PT_Marks=%{y}<extra></extra>",
         "legendgroup": "OBC",
         "marker": {
          "color": "#EF553B",
          "symbol": "circle"
         },
         "mode": "markers",
         "name": "OBC",
         "orientation": "v",
         "showlegend": true,
         "type": "scatter",
         "x": [
          876,
          873,
          834,
          829,
          826,
          813,
          829,
          806,
          809
         ],
         "xaxis": "x",
         "y": [
          187,
          187,
          195,
          198,
          187,
          198,
          182,
          193,
          187
         ],
         "yaxis": "y"
        },
        {
         "hovertemplate": "Comm=EWS<br>W_total=%{x}<br>PT_Marks=%{y}<extra></extra>",
         "legendgroup": "EWS",
         "marker": {
          "color": "#00cc96",
          "symbol": "circle"
         },
         "mode": "markers",
         "name": "EWS",
         "orientation": "v",
         "showlegend": true,
         "type": "scatter",
         "x": [
          865,
          858,
          836,
          833,
          802,
          821
         ],
         "xaxis": "x",
         "y": [
          180,
          175,
          173,
          171,
          202,
          176
         ],
         "yaxis": "y"
        },
        {
         "hovertemplate": "Comm=ST<br>W_total=%{x}<br>PT_Marks=%{y}<extra></extra>",
         "legendgroup": "ST",
         "marker": {
          "color": "#ab63fa",
          "symbol": "circle"
         },
         "mode": "markers",
         "name": "ST",
         "orientation": "v",
         "showlegend": true,
         "type": "scatter",
         "x": [
          830,
          800
         ],
         "xaxis": "x",
         "y": [
          190,
          198
         ],
         "yaxis": "y"
        },
        {
         "hovertemplate": "Comm=SC<br>W_total=%{x}<br>PT_Marks=%{y}<extra></extra>",
         "legendgroup": "SC",
         "marker": {
          "color": "#FFA15A",
          "symbol": "circle"
         },
         "mode": "markers",
         "name": "SC",
         "orientation": "v",
         "showlegend": true,
         "type": "scatter",
         "x": [
          807
         ],
         "xaxis": "x",
         "y": [
          190
         ],
         "yaxis": "y"
        }
       ],
       "layout": {
        "legend": {
         "title": {
          "text": "Comm"
         },
         "tracegroupgap": 0
        },
        "template": {
         "data": {
          "bar": [
           {
            "error_x": {
             "color": "#2a3f5f"
            },
            "error_y": {
             "color": "#2a3f5f"
            },
            "marker": {
             "line": {
              "color": "#E5ECF6",
              "width": 0.5
             },
             "pattern": {
              "fillmode": "overlay",
              "size": 10,
              "solidity": 0.2
             }
            },
            "type": "bar"
           }
          ],
          "barpolar": [
           {
            "marker": {
             "line": {
              "color": "#E5ECF6",
              "width": 0.5
             },
             "pattern": {
              "fillmode": "overlay",
              "size": 10,
              "solidity": 0.2
             }
            },
            "type": "barpolar"
           }
          ],
          "carpet": [
           {
            "aaxis": {
             "endlinecolor": "#2a3f5f",
             "gridcolor": "white",
             "linecolor": "white",
             "minorgridcolor": "white",
             "startlinecolor": "#2a3f5f"
            },
            "baxis": {
             "endlinecolor": "#2a3f5f",
             "gridcolor": "white",
             "linecolor": "white",
             "minorgridcolor": "white",
             "startlinecolor": "#2a3f5f"
            },
            "type": "carpet"
           }
          ],
          "choropleth": [
           {
            "colorbar": {
             "outlinewidth": 0,
             "ticks": ""
            },
            "type": "choropleth"
           }
          ],
          "contour": [
           {
            "colorbar": {
             "outlinewidth": 0,
             "ticks": ""
            },
            "colorscale": [
             [
              0,
              "#0d0887"
             ],
             [
              0.1111111111111111,
              "#46039f"
             ],
             [
              0.2222222222222222,
              "#7201a8"
             ],
             [
              0.3333333333333333,
              "#9c179e"
             ],
             [
              0.4444444444444444,
              "#bd3786"
             ],
             [
              0.5555555555555556,
              "#d8576b"
             ],
             [
              0.6666666666666666,
              "#ed7953"
             ],
             [
              0.7777777777777778,
              "#fb9f3a"
             ],
             [
              0.8888888888888888,
              "#fdca26"
             ],
             [
              1,
              "#f0f921"
             ]
            ],
            "type": "contour"
           }
          ],
          "contourcarpet": [
           {
            "colorbar": {
             "outlinewidth": 0,
             "ticks": ""
            },
            "type": "contourcarpet"
           }
          ],
          "heatmap": [
           {
            "colorbar": {
             "outlinewidth": 0,
             "ticks": ""
            },
            "colorscale": [
             [
              0,
              "#0d0887"
             ],
             [
              0.1111111111111111,
              "#46039f"
             ],
             [
              0.2222222222222222,
              "#7201a8"
             ],
             [
              0.3333333333333333,
              "#9c179e"
             ],
             [
              0.4444444444444444,
              "#bd3786"
             ],
             [
              0.5555555555555556,
              "#d8576b"
             ],
             [
              0.6666666666666666,
              "#ed7953"
             ],
             [
              0.7777777777777778,
              "#fb9f3a"
             ],
             [
              0.8888888888888888,
              "#fdca26"
             ],
             [
              1,
              "#f0f921"
             ]
            ],
            "type": "heatmap"
           }
          ],
          "heatmapgl": [
           {
            "colorbar": {
             "outlinewidth": 0,
             "ticks": ""
            },
            "colorscale": [
             [
              0,
              "#0d0887"
             ],
             [
              0.1111111111111111,
              "#46039f"
             ],
             [
              0.2222222222222222,
              "#7201a8"
             ],
             [
              0.3333333333333333,
              "#9c179e"
             ],
             [
              0.4444444444444444,
              "#bd3786"
             ],
             [
              0.5555555555555556,
              "#d8576b"
             ],
             [
              0.6666666666666666,
              "#ed7953"
             ],
             [
              0.7777777777777778,
              "#fb9f3a"
             ],
             [
              0.8888888888888888,
              "#fdca26"
             ],
             [
              1,
              "#f0f921"
             ]
            ],
            "type": "heatmapgl"
           }
          ],
          "histogram": [
           {
            "marker": {
             "pattern": {
              "fillmode": "overlay",
              "size": 10,
              "solidity": 0.2
             }
            },
            "type": "histogram"
           }
          ],
          "histogram2d": [
           {
            "colorbar": {
             "outlinewidth": 0,
             "ticks": ""
            },
            "colorscale": [
             [
              0,
              "#0d0887"
             ],
             [
              0.1111111111111111,
              "#46039f"
             ],
             [
              0.2222222222222222,
              "#7201a8"
             ],
             [
              0.3333333333333333,
              "#9c179e"
             ],
             [
              0.4444444444444444,
              "#bd3786"
             ],
             [
              0.5555555555555556,
              "#d8576b"
             ],
             [
              0.6666666666666666,
              "#ed7953"
             ],
             [
              0.7777777777777778,
              "#fb9f3a"
             ],
             [
              0.8888888888888888,
              "#fdca26"
             ],
             [
              1,
              "#f0f921"
             ]
            ],
            "type": "histogram2d"
           }
          ],
          "histogram2dcontour": [
           {
            "colorbar": {
             "outlinewidth": 0,
             "ticks": ""
            },
            "colorscale": [
             [
              0,
              "#0d0887"
             ],
             [
              0.1111111111111111,
              "#46039f"
             ],
             [
              0.2222222222222222,
              "#7201a8"
             ],
             [
              0.3333333333333333,
              "#9c179e"
             ],
             [
              0.4444444444444444,
              "#bd3786"
             ],
             [
              0.5555555555555556,
              "#d8576b"
             ],
             [
              0.6666666666666666,
              "#ed7953"
             ],
             [
              0.7777777777777778,
              "#fb9f3a"
             ],
             [
              0.8888888888888888,
              "#fdca26"
             ],
             [
              1,
              "#f0f921"
             ]
            ],
            "type": "histogram2dcontour"
           }
          ],
          "mesh3d": [
           {
            "colorbar": {
             "outlinewidth": 0,
             "ticks": ""
            },
            "type": "mesh3d"
           }
          ],
          "parcoords": [
           {
            "line": {
             "colorbar": {
              "outlinewidth": 0,
              "ticks": ""
             }
            },
            "type": "parcoords"
           }
          ],
          "pie": [
           {
            "automargin": true,
            "type": "pie"
           }
          ],
          "scatter": [
           {
            "fillpattern": {
             "fillmode": "overlay",
             "size": 10,
             "solidity": 0.2
            },
            "type": "scatter"
           }
          ],
          "scatter3d": [
           {
            "line": {
             "colorbar": {
              "outlinewidth": 0,
              "ticks": ""
             }
            },
            "marker": {
             "colorbar": {
              "outlinewidth": 0,
              "ticks": ""
             }
            },
            "type": "scatter3d"
           }
          ],
          "scattercarpet": [
           {
            "marker": {
             "colorbar": {
              "outlinewidth": 0,
              "ticks": ""
             }
            },
            "type": "scattercarpet"
           }
          ],
          "scattergeo": [
           {
            "marker": {
             "colorbar": {
              "outlinewidth": 0,
              "ticks": ""
             }
            },
            "type": "scattergeo"
           }
          ],
          "scattergl": [
           {
            "marker": {
             "colorbar": {
              "outlinewidth": 0,
              "ticks": ""
             }
            },
            "type": "scattergl"
           }
          ],
          "scattermapbox": [
           {
            "marker": {
             "colorbar": {
              "outlinewidth": 0,
              "ticks": ""
             }
            },
            "type": "scattermapbox"
           }
          ],
          "scatterpolar": [
           {
            "marker": {
             "colorbar": {
              "outlinewidth": 0,
              "ticks": ""
             }
            },
            "type": "scatterpolar"
           }
          ],
          "scatterpolargl": [
           {
            "marker": {
             "colorbar": {
              "outlinewidth": 0,
              "ticks": ""
             }
            },
            "type": "scatterpolargl"
           }
          ],
          "scatterternary": [
           {
            "marker": {
             "colorbar": {
              "outlinewidth": 0,
              "ticks": ""
             }
            },
            "type": "scatterternary"
           }
          ],
          "surface": [
           {
            "colorbar": {
             "outlinewidth": 0,
             "ticks": ""
            },
            "colorscale": [
             [
              0,
              "#0d0887"
             ],
             [
              0.1111111111111111,
              "#46039f"
             ],
             [
              0.2222222222222222,
              "#7201a8"
             ],
             [
              0.3333333333333333,
              "#9c179e"
             ],
             [
              0.4444444444444444,
              "#bd3786"
             ],
             [
              0.5555555555555556,
              "#d8576b"
             ],
             [
              0.6666666666666666,
              "#ed7953"
             ],
             [
              0.7777777777777778,
              "#fb9f3a"
             ],
             [
              0.8888888888888888,
              "#fdca26"
             ],
             [
              1,
              "#f0f921"
             ]
            ],
            "type": "surface"
           }
          ],
          "table": [
           {
            "cells": {
             "fill": {
              "color": "#EBF0F8"
             },
             "line": {
              "color": "white"
             }
            },
            "header": {
             "fill": {
              "color": "#C8D4E3"
             },
             "line": {
              "color": "white"
             }
            },
            "type": "table"
           }
          ]
         },
         "layout": {
          "annotationdefaults": {
           "arrowcolor": "#2a3f5f",
           "arrowhead": 0,
           "arrowwidth": 1
          },
          "autotypenumbers": "strict",
          "coloraxis": {
           "colorbar": {
            "outlinewidth": 0,
            "ticks": ""
           }
          },
          "colorscale": {
           "diverging": [
            [
             0,
             "#8e0152"
            ],
            [
             0.1,
             "#c51b7d"
            ],
            [
             0.2,
             "#de77ae"
            ],
            [
             0.3,
             "#f1b6da"
            ],
            [
             0.4,
             "#fde0ef"
            ],
            [
             0.5,
             "#f7f7f7"
            ],
            [
             0.6,
             "#e6f5d0"
            ],
            [
             0.7,
             "#b8e186"
            ],
            [
             0.8,
             "#7fbc41"
            ],
            [
             0.9,
             "#4d9221"
            ],
            [
             1,
             "#276419"
            ]
           ],
           "sequential": [
            [
             0,
             "#0d0887"
            ],
            [
             0.1111111111111111,
             "#46039f"
            ],
            [
             0.2222222222222222,
             "#7201a8"
            ],
            [
             0.3333333333333333,
             "#9c179e"
            ],
            [
             0.4444444444444444,
             "#bd3786"
            ],
            [
             0.5555555555555556,
             "#d8576b"
            ],
            [
             0.6666666666666666,
             "#ed7953"
            ],
            [
             0.7777777777777778,
             "#fb9f3a"
            ],
            [
             0.8888888888888888,
             "#fdca26"
            ],
            [
             1,
             "#f0f921"
            ]
           ],
           "sequentialminus": [
            [
             0,
             "#0d0887"
            ],
            [
             0.1111111111111111,
             "#46039f"
            ],
            [
             0.2222222222222222,
             "#7201a8"
            ],
            [
             0.3333333333333333,
             "#9c179e"
            ],
            [
             0.4444444444444444,
             "#bd3786"
            ],
            [
             0.5555555555555556,
             "#d8576b"
            ],
            [
             0.6666666666666666,
             "#ed7953"
            ],
            [
             0.7777777777777778,
             "#fb9f3a"
            ],
            [
             0.8888888888888888,
             "#fdca26"
            ],
            [
             1,
             "#f0f921"
            ]
           ]
          },
          "colorway": [
           "#636efa",
           "#EF553B",
           "#00cc96",
           "#ab63fa",
           "#FFA15A",
           "#19d3f3",
           "#FF6692",
           "#B6E880",
           "#FF97FF",
           "#FECB52"
          ],
          "font": {
           "color": "#2a3f5f"
          },
          "geo": {
           "bgcolor": "white",
           "lakecolor": "white",
           "landcolor": "#E5ECF6",
           "showlakes": true,
           "showland": true,
           "subunitcolor": "white"
          },
          "hoverlabel": {
           "align": "left"
          },
          "hovermode": "closest",
          "mapbox": {
           "style": "light"
          },
          "paper_bgcolor": "white",
          "plot_bgcolor": "#E5ECF6",
          "polar": {
           "angularaxis": {
            "gridcolor": "white",
            "linecolor": "white",
            "ticks": ""
           },
           "bgcolor": "#E5ECF6",
           "radialaxis": {
            "gridcolor": "white",
            "linecolor": "white",
            "ticks": ""
           }
          },
          "scene": {
           "xaxis": {
            "backgroundcolor": "#E5ECF6",
            "gridcolor": "white",
            "gridwidth": 2,
            "linecolor": "white",
            "showbackground": true,
            "ticks": "",
            "zerolinecolor": "white"
           },
           "yaxis": {
            "backgroundcolor": "#E5ECF6",
            "gridcolor": "white",
            "gridwidth": 2,
            "linecolor": "white",
            "showbackground": true,
            "ticks": "",
            "zerolinecolor": "white"
           },
           "zaxis": {
            "backgroundcolor": "#E5ECF6",
            "gridcolor": "white",
            "gridwidth": 2,
            "linecolor": "white",
            "showbackground": true,
            "ticks": "",
            "zerolinecolor": "white"
           }
          },
          "shapedefaults": {
           "line": {
            "color": "#2a3f5f"
           }
          },
          "ternary": {
           "aaxis": {
            "gridcolor": "white",
            "linecolor": "white",
            "ticks": ""
           },
           "baxis": {
            "gridcolor": "white",
            "linecolor": "white",
            "ticks": ""
           },
           "bgcolor": "#E5ECF6",
           "caxis": {
            "gridcolor": "white",
            "linecolor": "white",
            "ticks": ""
           }
          },
          "title": {
           "x": 0.05
          },
          "xaxis": {
           "automargin": true,
           "gridcolor": "white",
           "linecolor": "white",
           "ticks": "",
           "title": {
            "standoff": 15
           },
           "zerolinecolor": "white",
           "zerolinewidth": 2
          },
          "yaxis": {
           "automargin": true,
           "gridcolor": "white",
           "linecolor": "white",
           "ticks": "",
           "title": {
            "standoff": 15
           },
           "zerolinecolor": "white",
           "zerolinewidth": 2
          }
         }
        },
        "title": {
         "text": "Iterview vs Written by Categories"
        },
        "xaxis": {
         "anchor": "y",
         "domain": [
          0,
          1
         ],
         "title": {
          "text": "W_total"
         }
        },
        "yaxis": {
         "anchor": "x",
         "domain": [
          0,
          1
         ],
         "title": {
          "text": "PT_Marks"
         }
        }
       }
      },
      "text/html": [
       "<div>                            <div id=\"ca61f8a2-0dbb-465e-9f28-66fbc963489a\" class=\"plotly-graph-div\" style=\"height:525px; width:100%;\"></div>            <script type=\"text/javascript\">                require([\"plotly\"], function(Plotly) {                    window.PLOTLYENV=window.PLOTLYENV || {};                                    if (document.getElementById(\"ca61f8a2-0dbb-465e-9f28-66fbc963489a\")) {                    Plotly.newPlot(                        \"ca61f8a2-0dbb-465e-9f28-66fbc963489a\",                        [{\"hovertemplate\":\"Comm=Open<br>W_total=%{x}<br>PT_Marks=%{y}<extra></extra>\",\"legendgroup\":\"Open\",\"marker\":{\"color\":\"#636efa\",\"symbol\":\"circle\"},\"mode\":\"markers\",\"name\":\"Open\",\"orientation\":\"v\",\"showlegend\":true,\"x\":[901,882,861,861,871,856,863,837,856,855,831,873,858,858,853,826,851,849,833,856,843,839,838,835,868,827,838,814,827,835,827,836,810,836,834,819,818,820,806,822,832,829,835,804,827,833,813,821,815,806,814,822,834,801,824,822,821,815,829,832,820,841,808,812,816,822,801,812,823,809,825,810,813,818,810,823,826,797,833,802,822,805],\"xaxis\":\"x\",\"y\":[193,173,193,193,182,195,180,205,185,184,204,162,176,176,180,204,178,179,195,171,184,184,185,187,154,195,184,206,193,184,190,180,206,179,180,195,195,193,206,190,180,182,176,206,182,176,195,187,193,201,193,185,173,206,182,184,185,190,176,173,184,162,195,190,185,179,198,187,176,190,173,187,184,179,187,173,170,198,162,193,173,190],\"yaxis\":\"y\",\"type\":\"scatter\"},{\"hovertemplate\":\"Comm=OBC<br>W_total=%{x}<br>PT_Marks=%{y}<extra></extra>\",\"legendgroup\":\"OBC\",\"marker\":{\"color\":\"#EF553B\",\"symbol\":\"circle\"},\"mode\":\"markers\",\"name\":\"OBC\",\"orientation\":\"v\",\"showlegend\":true,\"x\":[876,873,834,829,826,813,829,806,809],\"xaxis\":\"x\",\"y\":[187,187,195,198,187,198,182,193,187],\"yaxis\":\"y\",\"type\":\"scatter\"},{\"hovertemplate\":\"Comm=EWS<br>W_total=%{x}<br>PT_Marks=%{y}<extra></extra>\",\"legendgroup\":\"EWS\",\"marker\":{\"color\":\"#00cc96\",\"symbol\":\"circle\"},\"mode\":\"markers\",\"name\":\"EWS\",\"orientation\":\"v\",\"showlegend\":true,\"x\":[865,858,836,833,802,821],\"xaxis\":\"x\",\"y\":[180,175,173,171,202,176],\"yaxis\":\"y\",\"type\":\"scatter\"},{\"hovertemplate\":\"Comm=ST<br>W_total=%{x}<br>PT_Marks=%{y}<extra></extra>\",\"legendgroup\":\"ST\",\"marker\":{\"color\":\"#ab63fa\",\"symbol\":\"circle\"},\"mode\":\"markers\",\"name\":\"ST\",\"orientation\":\"v\",\"showlegend\":true,\"x\":[830,800],\"xaxis\":\"x\",\"y\":[190,198],\"yaxis\":\"y\",\"type\":\"scatter\"},{\"hovertemplate\":\"Comm=SC<br>W_total=%{x}<br>PT_Marks=%{y}<extra></extra>\",\"legendgroup\":\"SC\",\"marker\":{\"color\":\"#FFA15A\",\"symbol\":\"circle\"},\"mode\":\"markers\",\"name\":\"SC\",\"orientation\":\"v\",\"showlegend\":true,\"x\":[807],\"xaxis\":\"x\",\"y\":[190],\"yaxis\":\"y\",\"type\":\"scatter\"}],                        {\"template\":{\"data\":{\"histogram2dcontour\":[{\"type\":\"histogram2dcontour\",\"colorbar\":{\"outlinewidth\":0,\"ticks\":\"\"},\"colorscale\":[[0.0,\"#0d0887\"],[0.1111111111111111,\"#46039f\"],[0.2222222222222222,\"#7201a8\"],[0.3333333333333333,\"#9c179e\"],[0.4444444444444444,\"#bd3786\"],[0.5555555555555556,\"#d8576b\"],[0.6666666666666666,\"#ed7953\"],[0.7777777777777778,\"#fb9f3a\"],[0.8888888888888888,\"#fdca26\"],[1.0,\"#f0f921\"]]}],\"choropleth\":[{\"type\":\"choropleth\",\"colorbar\":{\"outlinewidth\":0,\"ticks\":\"\"}}],\"histogram2d\":[{\"type\":\"histogram2d\",\"colorbar\":{\"outlinewidth\":0,\"ticks\":\"\"},\"colorscale\":[[0.0,\"#0d0887\"],[0.1111111111111111,\"#46039f\"],[0.2222222222222222,\"#7201a8\"],[0.3333333333333333,\"#9c179e\"],[0.4444444444444444,\"#bd3786\"],[0.5555555555555556,\"#d8576b\"],[0.6666666666666666,\"#ed7953\"],[0.7777777777777778,\"#fb9f3a\"],[0.8888888888888888,\"#fdca26\"],[1.0,\"#f0f921\"]]}],\"heatmap\":[{\"type\":\"heatmap\",\"colorbar\":{\"outlinewidth\":0,\"ticks\":\"\"},\"colorscale\":[[0.0,\"#0d0887\"],[0.1111111111111111,\"#46039f\"],[0.2222222222222222,\"#7201a8\"],[0.3333333333333333,\"#9c179e\"],[0.4444444444444444,\"#bd3786\"],[0.5555555555555556,\"#d8576b\"],[0.6666666666666666,\"#ed7953\"],[0.7777777777777778,\"#fb9f3a\"],[0.8888888888888888,\"#fdca26\"],[1.0,\"#f0f921\"]]}],\"heatmapgl\":[{\"type\":\"heatmapgl\",\"colorbar\":{\"outlinewidth\":0,\"ticks\":\"\"},\"colorscale\":[[0.0,\"#0d0887\"],[0.1111111111111111,\"#46039f\"],[0.2222222222222222,\"#7201a8\"],[0.3333333333333333,\"#9c179e\"],[0.4444444444444444,\"#bd3786\"],[0.5555555555555556,\"#d8576b\"],[0.6666666666666666,\"#ed7953\"],[0.7777777777777778,\"#fb9f3a\"],[0.8888888888888888,\"#fdca26\"],[1.0,\"#f0f921\"]]}],\"contourcarpet\":[{\"type\":\"contourcarpet\",\"colorbar\":{\"outlinewidth\":0,\"ticks\":\"\"}}],\"contour\":[{\"type\":\"contour\",\"colorbar\":{\"outlinewidth\":0,\"ticks\":\"\"},\"colorscale\":[[0.0,\"#0d0887\"],[0.1111111111111111,\"#46039f\"],[0.2222222222222222,\"#7201a8\"],[0.3333333333333333,\"#9c179e\"],[0.4444444444444444,\"#bd3786\"],[0.5555555555555556,\"#d8576b\"],[0.6666666666666666,\"#ed7953\"],[0.7777777777777778,\"#fb9f3a\"],[0.8888888888888888,\"#fdca26\"],[1.0,\"#f0f921\"]]}],\"surface\":[{\"type\":\"surface\",\"colorbar\":{\"outlinewidth\":0,\"ticks\":\"\"},\"colorscale\":[[0.0,\"#0d0887\"],[0.1111111111111111,\"#46039f\"],[0.2222222222222222,\"#7201a8\"],[0.3333333333333333,\"#9c179e\"],[0.4444444444444444,\"#bd3786\"],[0.5555555555555556,\"#d8576b\"],[0.6666666666666666,\"#ed7953\"],[0.7777777777777778,\"#fb9f3a\"],[0.8888888888888888,\"#fdca26\"],[1.0,\"#f0f921\"]]}],\"mesh3d\":[{\"type\":\"mesh3d\",\"colorbar\":{\"outlinewidth\":0,\"ticks\":\"\"}}],\"scatter\":[{\"fillpattern\":{\"fillmode\":\"overlay\",\"size\":10,\"solidity\":0.2},\"type\":\"scatter\"}],\"parcoords\":[{\"type\":\"parcoords\",\"line\":{\"colorbar\":{\"outlinewidth\":0,\"ticks\":\"\"}}}],\"scatterpolargl\":[{\"type\":\"scatterpolargl\",\"marker\":{\"colorbar\":{\"outlinewidth\":0,\"ticks\":\"\"}}}],\"bar\":[{\"error_x\":{\"color\":\"#2a3f5f\"},\"error_y\":{\"color\":\"#2a3f5f\"},\"marker\":{\"line\":{\"color\":\"#E5ECF6\",\"width\":0.5},\"pattern\":{\"fillmode\":\"overlay\",\"size\":10,\"solidity\":0.2}},\"type\":\"bar\"}],\"scattergeo\":[{\"type\":\"scattergeo\",\"marker\":{\"colorbar\":{\"outlinewidth\":0,\"ticks\":\"\"}}}],\"scatterpolar\":[{\"type\":\"scatterpolar\",\"marker\":{\"colorbar\":{\"outlinewidth\":0,\"ticks\":\"\"}}}],\"histogram\":[{\"marker\":{\"pattern\":{\"fillmode\":\"overlay\",\"size\":10,\"solidity\":0.2}},\"type\":\"histogram\"}],\"scattergl\":[{\"type\":\"scattergl\",\"marker\":{\"colorbar\":{\"outlinewidth\":0,\"ticks\":\"\"}}}],\"scatter3d\":[{\"type\":\"scatter3d\",\"line\":{\"colorbar\":{\"outlinewidth\":0,\"ticks\":\"\"}},\"marker\":{\"colorbar\":{\"outlinewidth\":0,\"ticks\":\"\"}}}],\"scattermapbox\":[{\"type\":\"scattermapbox\",\"marker\":{\"colorbar\":{\"outlinewidth\":0,\"ticks\":\"\"}}}],\"scatterternary\":[{\"type\":\"scatterternary\",\"marker\":{\"colorbar\":{\"outlinewidth\":0,\"ticks\":\"\"}}}],\"scattercarpet\":[{\"type\":\"scattercarpet\",\"marker\":{\"colorbar\":{\"outlinewidth\":0,\"ticks\":\"\"}}}],\"carpet\":[{\"aaxis\":{\"endlinecolor\":\"#2a3f5f\",\"gridcolor\":\"white\",\"linecolor\":\"white\",\"minorgridcolor\":\"white\",\"startlinecolor\":\"#2a3f5f\"},\"baxis\":{\"endlinecolor\":\"#2a3f5f\",\"gridcolor\":\"white\",\"linecolor\":\"white\",\"minorgridcolor\":\"white\",\"startlinecolor\":\"#2a3f5f\"},\"type\":\"carpet\"}],\"table\":[{\"cells\":{\"fill\":{\"color\":\"#EBF0F8\"},\"line\":{\"color\":\"white\"}},\"header\":{\"fill\":{\"color\":\"#C8D4E3\"},\"line\":{\"color\":\"white\"}},\"type\":\"table\"}],\"barpolar\":[{\"marker\":{\"line\":{\"color\":\"#E5ECF6\",\"width\":0.5},\"pattern\":{\"fillmode\":\"overlay\",\"size\":10,\"solidity\":0.2}},\"type\":\"barpolar\"}],\"pie\":[{\"automargin\":true,\"type\":\"pie\"}]},\"layout\":{\"autotypenumbers\":\"strict\",\"colorway\":[\"#636efa\",\"#EF553B\",\"#00cc96\",\"#ab63fa\",\"#FFA15A\",\"#19d3f3\",\"#FF6692\",\"#B6E880\",\"#FF97FF\",\"#FECB52\"],\"font\":{\"color\":\"#2a3f5f\"},\"hovermode\":\"closest\",\"hoverlabel\":{\"align\":\"left\"},\"paper_bgcolor\":\"white\",\"plot_bgcolor\":\"#E5ECF6\",\"polar\":{\"bgcolor\":\"#E5ECF6\",\"angularaxis\":{\"gridcolor\":\"white\",\"linecolor\":\"white\",\"ticks\":\"\"},\"radialaxis\":{\"gridcolor\":\"white\",\"linecolor\":\"white\",\"ticks\":\"\"}},\"ternary\":{\"bgcolor\":\"#E5ECF6\",\"aaxis\":{\"gridcolor\":\"white\",\"linecolor\":\"white\",\"ticks\":\"\"},\"baxis\":{\"gridcolor\":\"white\",\"linecolor\":\"white\",\"ticks\":\"\"},\"caxis\":{\"gridcolor\":\"white\",\"linecolor\":\"white\",\"ticks\":\"\"}},\"coloraxis\":{\"colorbar\":{\"outlinewidth\":0,\"ticks\":\"\"}},\"colorscale\":{\"sequential\":[[0.0,\"#0d0887\"],[0.1111111111111111,\"#46039f\"],[0.2222222222222222,\"#7201a8\"],[0.3333333333333333,\"#9c179e\"],[0.4444444444444444,\"#bd3786\"],[0.5555555555555556,\"#d8576b\"],[0.6666666666666666,\"#ed7953\"],[0.7777777777777778,\"#fb9f3a\"],[0.8888888888888888,\"#fdca26\"],[1.0,\"#f0f921\"]],\"sequentialminus\":[[0.0,\"#0d0887\"],[0.1111111111111111,\"#46039f\"],[0.2222222222222222,\"#7201a8\"],[0.3333333333333333,\"#9c179e\"],[0.4444444444444444,\"#bd3786\"],[0.5555555555555556,\"#d8576b\"],[0.6666666666666666,\"#ed7953\"],[0.7777777777777778,\"#fb9f3a\"],[0.8888888888888888,\"#fdca26\"],[1.0,\"#f0f921\"]],\"diverging\":[[0,\"#8e0152\"],[0.1,\"#c51b7d\"],[0.2,\"#de77ae\"],[0.3,\"#f1b6da\"],[0.4,\"#fde0ef\"],[0.5,\"#f7f7f7\"],[0.6,\"#e6f5d0\"],[0.7,\"#b8e186\"],[0.8,\"#7fbc41\"],[0.9,\"#4d9221\"],[1,\"#276419\"]]},\"xaxis\":{\"gridcolor\":\"white\",\"linecolor\":\"white\",\"ticks\":\"\",\"title\":{\"standoff\":15},\"zerolinecolor\":\"white\",\"automargin\":true,\"zerolinewidth\":2},\"yaxis\":{\"gridcolor\":\"white\",\"linecolor\":\"white\",\"ticks\":\"\",\"title\":{\"standoff\":15},\"zerolinecolor\":\"white\",\"automargin\":true,\"zerolinewidth\":2},\"scene\":{\"xaxis\":{\"backgroundcolor\":\"#E5ECF6\",\"gridcolor\":\"white\",\"linecolor\":\"white\",\"showbackground\":true,\"ticks\":\"\",\"zerolinecolor\":\"white\",\"gridwidth\":2},\"yaxis\":{\"backgroundcolor\":\"#E5ECF6\",\"gridcolor\":\"white\",\"linecolor\":\"white\",\"showbackground\":true,\"ticks\":\"\",\"zerolinecolor\":\"white\",\"gridwidth\":2},\"zaxis\":{\"backgroundcolor\":\"#E5ECF6\",\"gridcolor\":\"white\",\"linecolor\":\"white\",\"showbackground\":true,\"ticks\":\"\",\"zerolinecolor\":\"white\",\"gridwidth\":2}},\"shapedefaults\":{\"line\":{\"color\":\"#2a3f5f\"}},\"annotationdefaults\":{\"arrowcolor\":\"#2a3f5f\",\"arrowhead\":0,\"arrowwidth\":1},\"geo\":{\"bgcolor\":\"white\",\"landcolor\":\"#E5ECF6\",\"subunitcolor\":\"white\",\"showland\":true,\"showlakes\":true,\"lakecolor\":\"white\"},\"title\":{\"x\":0.05},\"mapbox\":{\"style\":\"light\"}}},\"xaxis\":{\"anchor\":\"y\",\"domain\":[0.0,1.0],\"title\":{\"text\":\"W_total\"}},\"yaxis\":{\"anchor\":\"x\",\"domain\":[0.0,1.0],\"title\":{\"text\":\"PT_Marks\"}},\"legend\":{\"title\":{\"text\":\"Comm\"},\"tracegroupgap\":0},\"title\":{\"text\":\"Iterview vs Written by Categories\"}},                        {\"responsive\": true}                    ).then(function(){\n",
       "                            \n",
       "var gd = document.getElementById('ca61f8a2-0dbb-465e-9f28-66fbc963489a');\n",
       "var x = new MutationObserver(function (mutations, observer) {{\n",
       "        var display = window.getComputedStyle(gd).display;\n",
       "        if (!display || display === 'none') {{\n",
       "            console.log([gd, 'removed!']);\n",
       "            Plotly.purge(gd);\n",
       "            observer.disconnect();\n",
       "        }}\n",
       "}});\n",
       "\n",
       "// Listen for the removal of the full notebook cells\n",
       "var notebookContainer = gd.closest('#notebook-container');\n",
       "if (notebookContainer) {{\n",
       "    x.observe(notebookContainer, {childList: true});\n",
       "}}\n",
       "\n",
       "// Listen for the clearing of the current output cell\n",
       "var outputEl = gd.closest('.output');\n",
       "if (outputEl) {{\n",
       "    x.observe(outputEl, {childList: true});\n",
       "}}\n",
       "\n",
       "                        })                };                });            </script>        </div>"
      ]
     },
     "metadata": {},
     "output_type": "display_data"
    }
   ],
   "source": [
    "# Create a scatter plot using Plotly Express\n",
    "fig = px.scatter(\n",
    "    upsc_2022_df.iloc[:100],\n",
    "    x=\"W_total\",\n",
    "    y=\"PT_Marks\",\n",
    "    color=\"Comm\",\n",
    "    title='Iterview vs Written by Categories'\n",
    ")\n",
    "\n",
    "#x.scatter(df, x=\"sepal_width\", y=\"sepal_length\", color=\"species\", symbol=\"species\")\n",
    "\n",
    "# Show the plot\n",
    "fig.show()"
   ]
  },
  {
   "cell_type": "code",
   "execution_count": null,
   "id": "253c9eb2",
   "metadata": {},
   "outputs": [],
   "source": []
  },
  {
   "cell_type": "code",
   "execution_count": null,
   "id": "f8c69075",
   "metadata": {},
   "outputs": [],
   "source": []
  },
  {
   "cell_type": "code",
   "execution_count": 134,
   "id": "fd541d02",
   "metadata": {},
   "outputs": [
    {
     "data": {
      "application/vnd.plotly.v1+json": {
       "config": {
        "plotlyServerURL": "https://plot.ly"
       },
       "data": [
        {
         "alignmentgroup": "True",
         "hovertemplate": "Comm=%{y}<br>PT Marks=%{x}<extra></extra>",
         "legendgroup": "Open",
         "marker": {
          "color": "#636efa"
         },
         "name": "Open",
         "notched": false,
         "offsetgroup": "Open",
         "orientation": "h",
         "showlegend": true,
         "type": "box",
         "x": [
          193,
          173,
          193,
          193,
          182,
          195,
          180,
          205,
          185,
          184,
          204,
          162,
          176,
          176,
          180,
          204,
          178,
          179,
          195,
          171,
          184,
          184,
          185,
          187,
          154,
          195,
          184,
          206,
          193,
          184,
          190,
          180,
          206,
          179,
          180,
          195,
          195,
          193,
          206,
          190,
          180,
          182,
          176,
          206,
          182,
          176,
          195,
          187,
          193,
          201,
          193,
          185,
          173,
          206,
          182,
          184,
          185,
          190,
          176,
          173,
          184,
          162,
          195,
          190,
          185,
          179,
          198,
          187,
          176,
          190,
          173,
          187,
          184,
          179,
          187,
          173,
          170,
          198,
          162,
          193,
          173,
          190,
          179,
          182,
          190,
          193,
          160,
          176,
          193,
          193,
          187,
          151,
          180,
          179,
          180,
          165,
          182,
          185,
          173,
          201,
          175,
          209,
          162,
          187,
          193,
          198,
          175,
          179,
          184,
          190,
          182,
          168,
          155,
          168,
          171,
          171,
          187,
          170,
          165,
          160,
          172,
          190,
          195,
          165,
          151,
          179,
          193,
          170,
          173,
          187,
          154,
          180,
          200,
          193,
          165,
          184,
          179,
          173,
          206,
          168,
          180,
          193,
          193,
          182,
          193,
          160,
          165,
          188,
          180,
          179,
          184,
          190,
          201,
          179,
          173,
          185,
          162,
          172,
          146,
          160,
          162,
          176,
          180,
          187,
          179,
          160,
          170,
          173,
          160,
          187,
          198,
          182,
          175,
          168,
          184,
          184,
          184,
          168,
          171,
          190,
          168,
          168,
          173,
          198,
          182,
          190,
          165,
          184,
          173,
          190,
          193,
          165,
          160,
          170,
          155,
          179,
          184,
          176,
          165,
          168,
          182,
          178,
          187,
          200,
          179,
          187,
          184,
          193,
          190,
          163,
          173,
          198,
          184,
          165,
          193,
          168,
          182,
          171,
          171,
          165,
          195,
          184,
          160,
          187,
          165,
          187,
          190,
          184,
          171,
          187,
          161,
          184,
          173,
          190,
          160,
          172,
          171,
          184,
          168,
          182,
          184,
          157,
          165,
          171,
          154,
          190,
          179,
          165,
          165,
          157,
          179,
          190,
          165,
          165,
          180,
          179,
          184,
          190,
          195,
          206,
          176,
          157,
          151,
          193,
          190,
          184,
          155,
          190,
          165,
          168,
          201,
          190,
          168,
          171,
          170,
          155,
          193,
          160,
          184,
          184,
          165,
          146,
          155,
          190,
          187,
          204,
          200,
          190,
          184,
          200,
          190,
          165,
          201,
          168,
          188,
          170,
          179,
          179,
          195,
          143,
          173,
          170,
          193,
          187,
          190,
          170,
          201,
          195,
          162,
          179,
          176,
          165,
          184,
          179,
          195,
          190,
          182,
          160,
          160,
          175,
          165,
          165,
          157,
          159,
          162,
          138,
          162,
          176,
          176,
          176,
          146,
          170,
          173,
          132,
          132,
          150,
          165,
          138,
          154,
          149,
          160,
          138,
          178,
          124,
          171
         ],
         "x0": " ",
         "xaxis": "x",
         "y": [
          "Open",
          "Open",
          "Open",
          "Open",
          "Open",
          "Open",
          "Open",
          "Open",
          "Open",
          "Open",
          "Open",
          "Open",
          "Open",
          "Open",
          "Open",
          "Open",
          "Open",
          "Open",
          "Open",
          "Open",
          "Open",
          "Open",
          "Open",
          "Open",
          "Open",
          "Open",
          "Open",
          "Open",
          "Open",
          "Open",
          "Open",
          "Open",
          "Open",
          "Open",
          "Open",
          "Open",
          "Open",
          "Open",
          "Open",
          "Open",
          "Open",
          "Open",
          "Open",
          "Open",
          "Open",
          "Open",
          "Open",
          "Open",
          "Open",
          "Open",
          "Open",
          "Open",
          "Open",
          "Open",
          "Open",
          "Open",
          "Open",
          "Open",
          "Open",
          "Open",
          "Open",
          "Open",
          "Open",
          "Open",
          "Open",
          "Open",
          "Open",
          "Open",
          "Open",
          "Open",
          "Open",
          "Open",
          "Open",
          "Open",
          "Open",
          "Open",
          "Open",
          "Open",
          "Open",
          "Open",
          "Open",
          "Open",
          "Open",
          "Open",
          "Open",
          "Open",
          "Open",
          "Open",
          "Open",
          "Open",
          "Open",
          "Open",
          "Open",
          "Open",
          "Open",
          "Open",
          "Open",
          "Open",
          "Open",
          "Open",
          "Open",
          "Open",
          "Open",
          "Open",
          "Open",
          "Open",
          "Open",
          "Open",
          "Open",
          "Open",
          "Open",
          "Open",
          "Open",
          "Open",
          "Open",
          "Open",
          "Open",
          "Open",
          "Open",
          "Open",
          "Open",
          "Open",
          "Open",
          "Open",
          "Open",
          "Open",
          "Open",
          "Open",
          "Open",
          "Open",
          "Open",
          "Open",
          "Open",
          "Open",
          "Open",
          "Open",
          "Open",
          "Open",
          "Open",
          "Open",
          "Open",
          "Open",
          "Open",
          "Open",
          "Open",
          "Open",
          "Open",
          "Open",
          "Open",
          "Open",
          "Open",
          "Open",
          "Open",
          "Open",
          "Open",
          "Open",
          "Open",
          "Open",
          "Open",
          "Open",
          "Open",
          "Open",
          "Open",
          "Open",
          "Open",
          "Open",
          "Open",
          "Open",
          "Open",
          "Open",
          "Open",
          "Open",
          "Open",
          "Open",
          "Open",
          "Open",
          "Open",
          "Open",
          "Open",
          "Open",
          "Open",
          "Open",
          "Open",
          "Open",
          "Open",
          "Open",
          "Open",
          "Open",
          "Open",
          "Open",
          "Open",
          "Open",
          "Open",
          "Open",
          "Open",
          "Open",
          "Open",
          "Open",
          "Open",
          "Open",
          "Open",
          "Open",
          "Open",
          "Open",
          "Open",
          "Open",
          "Open",
          "Open",
          "Open",
          "Open",
          "Open",
          "Open",
          "Open",
          "Open",
          "Open",
          "Open",
          "Open",
          "Open",
          "Open",
          "Open",
          "Open",
          "Open",
          "Open",
          "Open",
          "Open",
          "Open",
          "Open",
          "Open",
          "Open",
          "Open",
          "Open",
          "Open",
          "Open",
          "Open",
          "Open",
          "Open",
          "Open",
          "Open",
          "Open",
          "Open",
          "Open",
          "Open",
          "Open",
          "Open",
          "Open",
          "Open",
          "Open",
          "Open",
          "Open",
          "Open",
          "Open",
          "Open",
          "Open",
          "Open",
          "Open",
          "Open",
          "Open",
          "Open",
          "Open",
          "Open",
          "Open",
          "Open",
          "Open",
          "Open",
          "Open",
          "Open",
          "Open",
          "Open",
          "Open",
          "Open",
          "Open",
          "Open",
          "Open",
          "Open",
          "Open",
          "Open",
          "Open",
          "Open",
          "Open",
          "Open",
          "Open",
          "Open",
          "Open",
          "Open",
          "Open",
          "Open",
          "Open",
          "Open",
          "Open",
          "Open",
          "Open",
          "Open",
          "Open",
          "Open",
          "Open",
          "Open",
          "Open",
          "Open",
          "Open",
          "Open",
          "Open",
          "Open",
          "Open",
          "Open",
          "Open",
          "Open",
          "Open",
          "Open",
          "Open",
          "Open",
          "Open",
          "Open",
          "Open",
          "Open",
          "Open",
          "Open",
          "Open",
          "Open",
          "Open",
          "Open",
          "Open",
          "Open",
          "Open",
          "Open",
          "Open",
          "Open",
          "Open",
          "Open",
          "Open",
          "Open",
          "Open",
          "Open",
          "Open",
          "Open",
          "Open",
          "Open",
          "Open",
          "Open",
          "Open",
          "Open",
          "Open",
          "Open",
          "Open",
          "Open",
          "Open"
         ],
         "y0": " ",
         "yaxis": "y"
        },
        {
         "alignmentgroup": "True",
         "hovertemplate": "Comm=%{y}<br>PT Marks=%{x}<extra></extra>",
         "legendgroup": "OBC",
         "marker": {
          "color": "#EF553B"
         },
         "name": "OBC",
         "notched": false,
         "offsetgroup": "OBC",
         "orientation": "h",
         "showlegend": true,
         "type": "box",
         "x": [
          187,
          187,
          195,
          198,
          187,
          198,
          182,
          193,
          187,
          187,
          168,
          190,
          202,
          151,
          187,
          168,
          171,
          190,
          173,
          179,
          150,
          190,
          182,
          193,
          193,
          168,
          187,
          173,
          179,
          165,
          176,
          190,
          168,
          184,
          182,
          187,
          182,
          185,
          154,
          187,
          171,
          154,
          173,
          173,
          160,
          193,
          182,
          187,
          173,
          176,
          165,
          190,
          187,
          193,
          187,
          179,
          187,
          179,
          182,
          195,
          157,
          184,
          171,
          171,
          175,
          180,
          187,
          158,
          187,
          193,
          190,
          160,
          200,
          160,
          179,
          170,
          179,
          157,
          182,
          157,
          165,
          182,
          180,
          187,
          157,
          182,
          184,
          171,
          179,
          184,
          160,
          151,
          188,
          165,
          193,
          176,
          162,
          146,
          157,
          187,
          176,
          179,
          185,
          146,
          184,
          171,
          176,
          190,
          170,
          160,
          165,
          193,
          173,
          193,
          193,
          157,
          176,
          173,
          184,
          157,
          184,
          173,
          171,
          173,
          150,
          165,
          182,
          179,
          179,
          162,
          182,
          168,
          185,
          162,
          170,
          179,
          187,
          160,
          184,
          168,
          151,
          201,
          182,
          138,
          163,
          182,
          182,
          160,
          154,
          162,
          179,
          184,
          172,
          154,
          132,
          176,
          173,
          193,
          176,
          179,
          160,
          184,
          162,
          151,
          143,
          190,
          180,
          193,
          195,
          179,
          187,
          173,
          182,
          195,
          146,
          162,
          163,
          182,
          146,
          160,
          149,
          171,
          204,
          176,
          195,
          165,
          187,
          176,
          179,
          198,
          190,
          162,
          168,
          160,
          184,
          154,
          150,
          132,
          160,
          155,
          182,
          173,
          168,
          179,
          180,
          157,
          184,
          168,
          151,
          168,
          182,
          165,
          171,
          157,
          187,
          209,
          193,
          160,
          162,
          160,
          173,
          182,
          193,
          162,
          173,
          179,
          171,
          193,
          154,
          157,
          182,
          146,
          184,
          162,
          176,
          184,
          150,
          171,
          168,
          180,
          179,
          176,
          168,
          182,
          187,
          188,
          193,
          171,
          151,
          154,
          165,
          173,
          160,
          151,
          157,
          179,
          171,
          162,
          165,
          165,
          179,
          154,
          135
         ],
         "x0": " ",
         "xaxis": "x",
         "y": [
          "OBC",
          "OBC",
          "OBC",
          "OBC",
          "OBC",
          "OBC",
          "OBC",
          "OBC",
          "OBC",
          "OBC",
          "OBC",
          "OBC",
          "OBC",
          "OBC",
          "OBC",
          "OBC",
          "OBC",
          "OBC",
          "OBC",
          "OBC",
          "OBC",
          "OBC",
          "OBC",
          "OBC",
          "OBC",
          "OBC",
          "OBC",
          "OBC",
          "OBC",
          "OBC",
          "OBC",
          "OBC",
          "OBC",
          "OBC",
          "OBC",
          "OBC",
          "OBC",
          "OBC",
          "OBC",
          "OBC",
          "OBC",
          "OBC",
          "OBC",
          "OBC",
          "OBC",
          "OBC",
          "OBC",
          "OBC",
          "OBC",
          "OBC",
          "OBC",
          "OBC",
          "OBC",
          "OBC",
          "OBC",
          "OBC",
          "OBC",
          "OBC",
          "OBC",
          "OBC",
          "OBC",
          "OBC",
          "OBC",
          "OBC",
          "OBC",
          "OBC",
          "OBC",
          "OBC",
          "OBC",
          "OBC",
          "OBC",
          "OBC",
          "OBC",
          "OBC",
          "OBC",
          "OBC",
          "OBC",
          "OBC",
          "OBC",
          "OBC",
          "OBC",
          "OBC",
          "OBC",
          "OBC",
          "OBC",
          "OBC",
          "OBC",
          "OBC",
          "OBC",
          "OBC",
          "OBC",
          "OBC",
          "OBC",
          "OBC",
          "OBC",
          "OBC",
          "OBC",
          "OBC",
          "OBC",
          "OBC",
          "OBC",
          "OBC",
          "OBC",
          "OBC",
          "OBC",
          "OBC",
          "OBC",
          "OBC",
          "OBC",
          "OBC",
          "OBC",
          "OBC",
          "OBC",
          "OBC",
          "OBC",
          "OBC",
          "OBC",
          "OBC",
          "OBC",
          "OBC",
          "OBC",
          "OBC",
          "OBC",
          "OBC",
          "OBC",
          "OBC",
          "OBC",
          "OBC",
          "OBC",
          "OBC",
          "OBC",
          "OBC",
          "OBC",
          "OBC",
          "OBC",
          "OBC",
          "OBC",
          "OBC",
          "OBC",
          "OBC",
          "OBC",
          "OBC",
          "OBC",
          "OBC",
          "OBC",
          "OBC",
          "OBC",
          "OBC",
          "OBC",
          "OBC",
          "OBC",
          "OBC",
          "OBC",
          "OBC",
          "OBC",
          "OBC",
          "OBC",
          "OBC",
          "OBC",
          "OBC",
          "OBC",
          "OBC",
          "OBC",
          "OBC",
          "OBC",
          "OBC",
          "OBC",
          "OBC",
          "OBC",
          "OBC",
          "OBC",
          "OBC",
          "OBC",
          "OBC",
          "OBC",
          "OBC",
          "OBC",
          "OBC",
          "OBC",
          "OBC",
          "OBC",
          "OBC",
          "OBC",
          "OBC",
          "OBC",
          "OBC",
          "OBC",
          "OBC",
          "OBC",
          "OBC",
          "OBC",
          "OBC",
          "OBC",
          "OBC",
          "OBC",
          "OBC",
          "OBC",
          "OBC",
          "OBC",
          "OBC",
          "OBC",
          "OBC",
          "OBC",
          "OBC",
          "OBC",
          "OBC",
          "OBC",
          "OBC",
          "OBC",
          "OBC",
          "OBC",
          "OBC",
          "OBC",
          "OBC",
          "OBC",
          "OBC",
          "OBC",
          "OBC",
          "OBC",
          "OBC",
          "OBC",
          "OBC",
          "OBC",
          "OBC",
          "OBC",
          "OBC",
          "OBC",
          "OBC",
          "OBC",
          "OBC",
          "OBC",
          "OBC",
          "OBC",
          "OBC",
          "OBC",
          "OBC",
          "OBC",
          "OBC",
          "OBC",
          "OBC",
          "OBC",
          "OBC",
          "OBC",
          "OBC",
          "OBC",
          "OBC",
          "OBC",
          "OBC",
          "OBC",
          "OBC",
          "OBC",
          "OBC",
          "OBC",
          "OBC",
          "OBC",
          "OBC",
          "OBC",
          "OBC",
          "OBC",
          "OBC",
          "OBC",
          "OBC",
          "OBC"
         ],
         "y0": " ",
         "yaxis": "y"
        },
        {
         "alignmentgroup": "True",
         "hovertemplate": "Comm=%{y}<br>PT Marks=%{x}<extra></extra>",
         "legendgroup": "SC",
         "marker": {
          "color": "#00cc96"
         },
         "name": "SC",
         "notched": false,
         "offsetgroup": "SC",
         "orientation": "h",
         "showlegend": true,
         "type": "box",
         "x": [
          190,
          190,
          168,
          190,
          162,
          187,
          146,
          193,
          190,
          154,
          148,
          176,
          175,
          154,
          151,
          190,
          188,
          193,
          195,
          171,
          160,
          185,
          185,
          187,
          165,
          179,
          173,
          154,
          157,
          160,
          165,
          162,
          182,
          170,
          190,
          176,
          160,
          162,
          165,
          170,
          190,
          185,
          198,
          170,
          138,
          198,
          165,
          165,
          146,
          193,
          179,
          171,
          184,
          146,
          179,
          168,
          154,
          151,
          190,
          165,
          149,
          185,
          182,
          170,
          195,
          129,
          171,
          171,
          163,
          179,
          180,
          173,
          200,
          168,
          160,
          160,
          187,
          179,
          154,
          184,
          165,
          185,
          160,
          165,
          150,
          160,
          157,
          190,
          165,
          176,
          193,
          165,
          149,
          190,
          172,
          165,
          184,
          171,
          127,
          193,
          171,
          171,
          165,
          179,
          165,
          165,
          132,
          157,
          168,
          168,
          152,
          175,
          162,
          146,
          146,
          180,
          160,
          187,
          160,
          179,
          160,
          165,
          138,
          157,
          193,
          168,
          140,
          190,
          140,
          146,
          165,
          187,
          173,
          160,
          143,
          154,
          168,
          165,
          132,
          182,
          170,
          149,
          170,
          179,
          160,
          160,
          176,
          155,
          182,
          138,
          132,
          105,
          149,
          180
         ],
         "x0": " ",
         "xaxis": "x",
         "y": [
          "SC",
          "SC",
          "SC",
          "SC",
          "SC",
          "SC",
          "SC",
          "SC",
          "SC",
          "SC",
          "SC",
          "SC",
          "SC",
          "SC",
          "SC",
          "SC",
          "SC",
          "SC",
          "SC",
          "SC",
          "SC",
          "SC",
          "SC",
          "SC",
          "SC",
          "SC",
          "SC",
          "SC",
          "SC",
          "SC",
          "SC",
          "SC",
          "SC",
          "SC",
          "SC",
          "SC",
          "SC",
          "SC",
          "SC",
          "SC",
          "SC",
          "SC",
          "SC",
          "SC",
          "SC",
          "SC",
          "SC",
          "SC",
          "SC",
          "SC",
          "SC",
          "SC",
          "SC",
          "SC",
          "SC",
          "SC",
          "SC",
          "SC",
          "SC",
          "SC",
          "SC",
          "SC",
          "SC",
          "SC",
          "SC",
          "SC",
          "SC",
          "SC",
          "SC",
          "SC",
          "SC",
          "SC",
          "SC",
          "SC",
          "SC",
          "SC",
          "SC",
          "SC",
          "SC",
          "SC",
          "SC",
          "SC",
          "SC",
          "SC",
          "SC",
          "SC",
          "SC",
          "SC",
          "SC",
          "SC",
          "SC",
          "SC",
          "SC",
          "SC",
          "SC",
          "SC",
          "SC",
          "SC",
          "SC",
          "SC",
          "SC",
          "SC",
          "SC",
          "SC",
          "SC",
          "SC",
          "SC",
          "SC",
          "SC",
          "SC",
          "SC",
          "SC",
          "SC",
          "SC",
          "SC",
          "SC",
          "SC",
          "SC",
          "SC",
          "SC",
          "SC",
          "SC",
          "SC",
          "SC",
          "SC",
          "SC",
          "SC",
          "SC",
          "SC",
          "SC",
          "SC",
          "SC",
          "SC",
          "SC",
          "SC",
          "SC",
          "SC",
          "SC",
          "SC",
          "SC",
          "SC",
          "SC",
          "SC",
          "SC",
          "SC",
          "SC",
          "SC",
          "SC",
          "SC",
          "SC",
          "SC",
          "SC",
          "SC",
          "SC"
         ],
         "y0": " ",
         "yaxis": "y"
        },
        {
         "alignmentgroup": "True",
         "hovertemplate": "Comm=%{y}<br>PT Marks=%{x}<extra></extra>",
         "legendgroup": "ST",
         "marker": {
          "color": "#ab63fa"
         },
         "name": "ST",
         "notched": false,
         "offsetgroup": "ST",
         "orientation": "h",
         "showlegend": true,
         "type": "box",
         "x": [
          190,
          198,
          160,
          210,
          193,
          165,
          179,
          160,
          175,
          190,
          170,
          148,
          150,
          171,
          179,
          151,
          162,
          158,
          185,
          160,
          210,
          162,
          210,
          151,
          179,
          157,
          162,
          145,
          179,
          165,
          150,
          200,
          162,
          193,
          151,
          171,
          189,
          127,
          180,
          170,
          143,
          200,
          180,
          140,
          187,
          180,
          193,
          151,
          149,
          138,
          171,
          183,
          146,
          187,
          171,
          185,
          165,
          162,
          137,
          182,
          149,
          165,
          198,
          143,
          146,
          171,
          173,
          160,
          179,
          151,
          165,
          140
         ],
         "x0": " ",
         "xaxis": "x",
         "y": [
          "ST",
          "ST",
          "ST",
          "ST",
          "ST",
          "ST",
          "ST",
          "ST",
          "ST",
          "ST",
          "ST",
          "ST",
          "ST",
          "ST",
          "ST",
          "ST",
          "ST",
          "ST",
          "ST",
          "ST",
          "ST",
          "ST",
          "ST",
          "ST",
          "ST",
          "ST",
          "ST",
          "ST",
          "ST",
          "ST",
          "ST",
          "ST",
          "ST",
          "ST",
          "ST",
          "ST",
          "ST",
          "ST",
          "ST",
          "ST",
          "ST",
          "ST",
          "ST",
          "ST",
          "ST",
          "ST",
          "ST",
          "ST",
          "ST",
          "ST",
          "ST",
          "ST",
          "ST",
          "ST",
          "ST",
          "ST",
          "ST",
          "ST",
          "ST",
          "ST",
          "ST",
          "ST",
          "ST",
          "ST",
          "ST",
          "ST",
          "ST",
          "ST",
          "ST",
          "ST",
          "ST",
          "ST"
         ],
         "y0": " ",
         "yaxis": "y"
        },
        {
         "alignmentgroup": "True",
         "hovertemplate": "Comm=%{y}<br>PT Marks=%{x}<extra></extra>",
         "legendgroup": "EWS",
         "marker": {
          "color": "#FFA15A"
         },
         "name": "EWS",
         "notched": false,
         "offsetgroup": "EWS",
         "orientation": "h",
         "showlegend": true,
         "type": "box",
         "x": [
          180,
          175,
          173,
          171,
          202,
          176,
          182,
          157,
          179,
          162,
          182,
          173,
          176,
          160,
          201,
          201,
          193,
          172,
          176,
          193,
          179,
          173,
          168,
          190,
          193,
          187,
          151,
          179,
          179,
          201,
          184,
          184,
          168,
          176,
          176,
          193,
          168,
          138,
          193,
          152,
          165,
          157,
          173,
          154,
          168,
          187,
          190,
          176,
          198,
          193,
          184,
          180,
          193,
          173,
          178,
          185,
          157,
          165,
          150,
          157,
          190,
          179,
          162,
          168,
          195,
          165,
          154,
          155,
          184,
          179,
          184,
          184,
          173,
          179,
          168,
          171,
          162,
          162,
          162,
          193,
          151,
          184,
          195,
          176,
          165,
          165,
          187,
          146,
          193,
          176,
          154,
          190,
          176,
          171,
          171,
          160,
          168,
          171,
          149
         ],
         "x0": " ",
         "xaxis": "x",
         "y": [
          "EWS",
          "EWS",
          "EWS",
          "EWS",
          "EWS",
          "EWS",
          "EWS",
          "EWS",
          "EWS",
          "EWS",
          "EWS",
          "EWS",
          "EWS",
          "EWS",
          "EWS",
          "EWS",
          "EWS",
          "EWS",
          "EWS",
          "EWS",
          "EWS",
          "EWS",
          "EWS",
          "EWS",
          "EWS",
          "EWS",
          "EWS",
          "EWS",
          "EWS",
          "EWS",
          "EWS",
          "EWS",
          "EWS",
          "EWS",
          "EWS",
          "EWS",
          "EWS",
          "EWS",
          "EWS",
          "EWS",
          "EWS",
          "EWS",
          "EWS",
          "EWS",
          "EWS",
          "EWS",
          "EWS",
          "EWS",
          "EWS",
          "EWS",
          "EWS",
          "EWS",
          "EWS",
          "EWS",
          "EWS",
          "EWS",
          "EWS",
          "EWS",
          "EWS",
          "EWS",
          "EWS",
          "EWS",
          "EWS",
          "EWS",
          "EWS",
          "EWS",
          "EWS",
          "EWS",
          "EWS",
          "EWS",
          "EWS",
          "EWS",
          "EWS",
          "EWS",
          "EWS",
          "EWS",
          "EWS",
          "EWS",
          "EWS",
          "EWS",
          "EWS",
          "EWS",
          "EWS",
          "EWS",
          "EWS",
          "EWS",
          "EWS",
          "EWS",
          "EWS",
          "EWS",
          "EWS",
          "EWS",
          "EWS",
          "EWS",
          "EWS",
          "EWS",
          "EWS",
          "EWS",
          "EWS"
         ],
         "y0": " ",
         "yaxis": "y"
        }
       ],
       "layout": {
        "annotations": [
         {
          "align": "left",
          "font": {
           "size": 12
          },
          "showarrow": false,
          "x": 1.15,
          "xref": "paper",
          "y": 0.5,
          "yref": "paper"
         }
        ],
        "boxmode": "overlay",
        "legend": {
         "title": {
          "text": "Comm"
         },
         "tracegroupgap": 0
        },
        "template": {
         "data": {
          "bar": [
           {
            "error_x": {
             "color": "#2a3f5f"
            },
            "error_y": {
             "color": "#2a3f5f"
            },
            "marker": {
             "line": {
              "color": "#E5ECF6",
              "width": 0.5
             },
             "pattern": {
              "fillmode": "overlay",
              "size": 10,
              "solidity": 0.2
             }
            },
            "type": "bar"
           }
          ],
          "barpolar": [
           {
            "marker": {
             "line": {
              "color": "#E5ECF6",
              "width": 0.5
             },
             "pattern": {
              "fillmode": "overlay",
              "size": 10,
              "solidity": 0.2
             }
            },
            "type": "barpolar"
           }
          ],
          "carpet": [
           {
            "aaxis": {
             "endlinecolor": "#2a3f5f",
             "gridcolor": "white",
             "linecolor": "white",
             "minorgridcolor": "white",
             "startlinecolor": "#2a3f5f"
            },
            "baxis": {
             "endlinecolor": "#2a3f5f",
             "gridcolor": "white",
             "linecolor": "white",
             "minorgridcolor": "white",
             "startlinecolor": "#2a3f5f"
            },
            "type": "carpet"
           }
          ],
          "choropleth": [
           {
            "colorbar": {
             "outlinewidth": 0,
             "ticks": ""
            },
            "type": "choropleth"
           }
          ],
          "contour": [
           {
            "colorbar": {
             "outlinewidth": 0,
             "ticks": ""
            },
            "colorscale": [
             [
              0,
              "#0d0887"
             ],
             [
              0.1111111111111111,
              "#46039f"
             ],
             [
              0.2222222222222222,
              "#7201a8"
             ],
             [
              0.3333333333333333,
              "#9c179e"
             ],
             [
              0.4444444444444444,
              "#bd3786"
             ],
             [
              0.5555555555555556,
              "#d8576b"
             ],
             [
              0.6666666666666666,
              "#ed7953"
             ],
             [
              0.7777777777777778,
              "#fb9f3a"
             ],
             [
              0.8888888888888888,
              "#fdca26"
             ],
             [
              1,
              "#f0f921"
             ]
            ],
            "type": "contour"
           }
          ],
          "contourcarpet": [
           {
            "colorbar": {
             "outlinewidth": 0,
             "ticks": ""
            },
            "type": "contourcarpet"
           }
          ],
          "heatmap": [
           {
            "colorbar": {
             "outlinewidth": 0,
             "ticks": ""
            },
            "colorscale": [
             [
              0,
              "#0d0887"
             ],
             [
              0.1111111111111111,
              "#46039f"
             ],
             [
              0.2222222222222222,
              "#7201a8"
             ],
             [
              0.3333333333333333,
              "#9c179e"
             ],
             [
              0.4444444444444444,
              "#bd3786"
             ],
             [
              0.5555555555555556,
              "#d8576b"
             ],
             [
              0.6666666666666666,
              "#ed7953"
             ],
             [
              0.7777777777777778,
              "#fb9f3a"
             ],
             [
              0.8888888888888888,
              "#fdca26"
             ],
             [
              1,
              "#f0f921"
             ]
            ],
            "type": "heatmap"
           }
          ],
          "heatmapgl": [
           {
            "colorbar": {
             "outlinewidth": 0,
             "ticks": ""
            },
            "colorscale": [
             [
              0,
              "#0d0887"
             ],
             [
              0.1111111111111111,
              "#46039f"
             ],
             [
              0.2222222222222222,
              "#7201a8"
             ],
             [
              0.3333333333333333,
              "#9c179e"
             ],
             [
              0.4444444444444444,
              "#bd3786"
             ],
             [
              0.5555555555555556,
              "#d8576b"
             ],
             [
              0.6666666666666666,
              "#ed7953"
             ],
             [
              0.7777777777777778,
              "#fb9f3a"
             ],
             [
              0.8888888888888888,
              "#fdca26"
             ],
             [
              1,
              "#f0f921"
             ]
            ],
            "type": "heatmapgl"
           }
          ],
          "histogram": [
           {
            "marker": {
             "pattern": {
              "fillmode": "overlay",
              "size": 10,
              "solidity": 0.2
             }
            },
            "type": "histogram"
           }
          ],
          "histogram2d": [
           {
            "colorbar": {
             "outlinewidth": 0,
             "ticks": ""
            },
            "colorscale": [
             [
              0,
              "#0d0887"
             ],
             [
              0.1111111111111111,
              "#46039f"
             ],
             [
              0.2222222222222222,
              "#7201a8"
             ],
             [
              0.3333333333333333,
              "#9c179e"
             ],
             [
              0.4444444444444444,
              "#bd3786"
             ],
             [
              0.5555555555555556,
              "#d8576b"
             ],
             [
              0.6666666666666666,
              "#ed7953"
             ],
             [
              0.7777777777777778,
              "#fb9f3a"
             ],
             [
              0.8888888888888888,
              "#fdca26"
             ],
             [
              1,
              "#f0f921"
             ]
            ],
            "type": "histogram2d"
           }
          ],
          "histogram2dcontour": [
           {
            "colorbar": {
             "outlinewidth": 0,
             "ticks": ""
            },
            "colorscale": [
             [
              0,
              "#0d0887"
             ],
             [
              0.1111111111111111,
              "#46039f"
             ],
             [
              0.2222222222222222,
              "#7201a8"
             ],
             [
              0.3333333333333333,
              "#9c179e"
             ],
             [
              0.4444444444444444,
              "#bd3786"
             ],
             [
              0.5555555555555556,
              "#d8576b"
             ],
             [
              0.6666666666666666,
              "#ed7953"
             ],
             [
              0.7777777777777778,
              "#fb9f3a"
             ],
             [
              0.8888888888888888,
              "#fdca26"
             ],
             [
              1,
              "#f0f921"
             ]
            ],
            "type": "histogram2dcontour"
           }
          ],
          "mesh3d": [
           {
            "colorbar": {
             "outlinewidth": 0,
             "ticks": ""
            },
            "type": "mesh3d"
           }
          ],
          "parcoords": [
           {
            "line": {
             "colorbar": {
              "outlinewidth": 0,
              "ticks": ""
             }
            },
            "type": "parcoords"
           }
          ],
          "pie": [
           {
            "automargin": true,
            "type": "pie"
           }
          ],
          "scatter": [
           {
            "fillpattern": {
             "fillmode": "overlay",
             "size": 10,
             "solidity": 0.2
            },
            "type": "scatter"
           }
          ],
          "scatter3d": [
           {
            "line": {
             "colorbar": {
              "outlinewidth": 0,
              "ticks": ""
             }
            },
            "marker": {
             "colorbar": {
              "outlinewidth": 0,
              "ticks": ""
             }
            },
            "type": "scatter3d"
           }
          ],
          "scattercarpet": [
           {
            "marker": {
             "colorbar": {
              "outlinewidth": 0,
              "ticks": ""
             }
            },
            "type": "scattercarpet"
           }
          ],
          "scattergeo": [
           {
            "marker": {
             "colorbar": {
              "outlinewidth": 0,
              "ticks": ""
             }
            },
            "type": "scattergeo"
           }
          ],
          "scattergl": [
           {
            "marker": {
             "colorbar": {
              "outlinewidth": 0,
              "ticks": ""
             }
            },
            "type": "scattergl"
           }
          ],
          "scattermapbox": [
           {
            "marker": {
             "colorbar": {
              "outlinewidth": 0,
              "ticks": ""
             }
            },
            "type": "scattermapbox"
           }
          ],
          "scatterpolar": [
           {
            "marker": {
             "colorbar": {
              "outlinewidth": 0,
              "ticks": ""
             }
            },
            "type": "scatterpolar"
           }
          ],
          "scatterpolargl": [
           {
            "marker": {
             "colorbar": {
              "outlinewidth": 0,
              "ticks": ""
             }
            },
            "type": "scatterpolargl"
           }
          ],
          "scatterternary": [
           {
            "marker": {
             "colorbar": {
              "outlinewidth": 0,
              "ticks": ""
             }
            },
            "type": "scatterternary"
           }
          ],
          "surface": [
           {
            "colorbar": {
             "outlinewidth": 0,
             "ticks": ""
            },
            "colorscale": [
             [
              0,
              "#0d0887"
             ],
             [
              0.1111111111111111,
              "#46039f"
             ],
             [
              0.2222222222222222,
              "#7201a8"
             ],
             [
              0.3333333333333333,
              "#9c179e"
             ],
             [
              0.4444444444444444,
              "#bd3786"
             ],
             [
              0.5555555555555556,
              "#d8576b"
             ],
             [
              0.6666666666666666,
              "#ed7953"
             ],
             [
              0.7777777777777778,
              "#fb9f3a"
             ],
             [
              0.8888888888888888,
              "#fdca26"
             ],
             [
              1,
              "#f0f921"
             ]
            ],
            "type": "surface"
           }
          ],
          "table": [
           {
            "cells": {
             "fill": {
              "color": "#EBF0F8"
             },
             "line": {
              "color": "white"
             }
            },
            "header": {
             "fill": {
              "color": "#C8D4E3"
             },
             "line": {
              "color": "white"
             }
            },
            "type": "table"
           }
          ]
         },
         "layout": {
          "annotationdefaults": {
           "arrowcolor": "#2a3f5f",
           "arrowhead": 0,
           "arrowwidth": 1
          },
          "autotypenumbers": "strict",
          "coloraxis": {
           "colorbar": {
            "outlinewidth": 0,
            "ticks": ""
           }
          },
          "colorscale": {
           "diverging": [
            [
             0,
             "#8e0152"
            ],
            [
             0.1,
             "#c51b7d"
            ],
            [
             0.2,
             "#de77ae"
            ],
            [
             0.3,
             "#f1b6da"
            ],
            [
             0.4,
             "#fde0ef"
            ],
            [
             0.5,
             "#f7f7f7"
            ],
            [
             0.6,
             "#e6f5d0"
            ],
            [
             0.7,
             "#b8e186"
            ],
            [
             0.8,
             "#7fbc41"
            ],
            [
             0.9,
             "#4d9221"
            ],
            [
             1,
             "#276419"
            ]
           ],
           "sequential": [
            [
             0,
             "#0d0887"
            ],
            [
             0.1111111111111111,
             "#46039f"
            ],
            [
             0.2222222222222222,
             "#7201a8"
            ],
            [
             0.3333333333333333,
             "#9c179e"
            ],
            [
             0.4444444444444444,
             "#bd3786"
            ],
            [
             0.5555555555555556,
             "#d8576b"
            ],
            [
             0.6666666666666666,
             "#ed7953"
            ],
            [
             0.7777777777777778,
             "#fb9f3a"
            ],
            [
             0.8888888888888888,
             "#fdca26"
            ],
            [
             1,
             "#f0f921"
            ]
           ],
           "sequentialminus": [
            [
             0,
             "#0d0887"
            ],
            [
             0.1111111111111111,
             "#46039f"
            ],
            [
             0.2222222222222222,
             "#7201a8"
            ],
            [
             0.3333333333333333,
             "#9c179e"
            ],
            [
             0.4444444444444444,
             "#bd3786"
            ],
            [
             0.5555555555555556,
             "#d8576b"
            ],
            [
             0.6666666666666666,
             "#ed7953"
            ],
            [
             0.7777777777777778,
             "#fb9f3a"
            ],
            [
             0.8888888888888888,
             "#fdca26"
            ],
            [
             1,
             "#f0f921"
            ]
           ]
          },
          "colorway": [
           "#636efa",
           "#EF553B",
           "#00cc96",
           "#ab63fa",
           "#FFA15A",
           "#19d3f3",
           "#FF6692",
           "#B6E880",
           "#FF97FF",
           "#FECB52"
          ],
          "font": {
           "color": "#2a3f5f"
          },
          "geo": {
           "bgcolor": "white",
           "lakecolor": "white",
           "landcolor": "#E5ECF6",
           "showlakes": true,
           "showland": true,
           "subunitcolor": "white"
          },
          "hoverlabel": {
           "align": "left"
          },
          "hovermode": "closest",
          "mapbox": {
           "style": "light"
          },
          "paper_bgcolor": "white",
          "plot_bgcolor": "#E5ECF6",
          "polar": {
           "angularaxis": {
            "gridcolor": "white",
            "linecolor": "white",
            "ticks": ""
           },
           "bgcolor": "#E5ECF6",
           "radialaxis": {
            "gridcolor": "white",
            "linecolor": "white",
            "ticks": ""
           }
          },
          "scene": {
           "xaxis": {
            "backgroundcolor": "#E5ECF6",
            "gridcolor": "white",
            "gridwidth": 2,
            "linecolor": "white",
            "showbackground": true,
            "ticks": "",
            "zerolinecolor": "white"
           },
           "yaxis": {
            "backgroundcolor": "#E5ECF6",
            "gridcolor": "white",
            "gridwidth": 2,
            "linecolor": "white",
            "showbackground": true,
            "ticks": "",
            "zerolinecolor": "white"
           },
           "zaxis": {
            "backgroundcolor": "#E5ECF6",
            "gridcolor": "white",
            "gridwidth": 2,
            "linecolor": "white",
            "showbackground": true,
            "ticks": "",
            "zerolinecolor": "white"
           }
          },
          "shapedefaults": {
           "line": {
            "color": "#2a3f5f"
           }
          },
          "ternary": {
           "aaxis": {
            "gridcolor": "white",
            "linecolor": "white",
            "ticks": ""
           },
           "baxis": {
            "gridcolor": "white",
            "linecolor": "white",
            "ticks": ""
           },
           "bgcolor": "#E5ECF6",
           "caxis": {
            "gridcolor": "white",
            "linecolor": "white",
            "ticks": ""
           }
          },
          "title": {
           "x": 0.05
          },
          "xaxis": {
           "automargin": true,
           "gridcolor": "white",
           "linecolor": "white",
           "ticks": "",
           "title": {
            "standoff": 15
           },
           "zerolinecolor": "white",
           "zerolinewidth": 2
          },
          "yaxis": {
           "automargin": true,
           "gridcolor": "white",
           "linecolor": "white",
           "ticks": "",
           "title": {
            "standoff": 15
           },
           "zerolinecolor": "white",
           "zerolinewidth": 2
          }
         }
        },
        "title": {
         "text": "Box Plot of PT_Marks by Comm"
        },
        "xaxis": {
         "anchor": "y",
         "domain": [
          0,
          1
         ],
         "title": {
          "text": "PT Marks"
         }
        },
        "yaxis": {
         "anchor": "x",
         "categoryarray": [
          "EWS",
          "ST",
          "SC",
          "OBC",
          "Open"
         ],
         "categoryorder": "array",
         "domain": [
          0,
          1
         ],
         "title": {
          "text": "Comm"
         }
        }
       }
      },
      "text/html": [
       "<div>                            <div id=\"2cfea669-1b6d-487e-a94f-4f5c0818b0d0\" class=\"plotly-graph-div\" style=\"height:525px; width:100%;\"></div>            <script type=\"text/javascript\">                require([\"plotly\"], function(Plotly) {                    window.PLOTLYENV=window.PLOTLYENV || {};                                    if (document.getElementById(\"2cfea669-1b6d-487e-a94f-4f5c0818b0d0\")) {                    Plotly.newPlot(                        \"2cfea669-1b6d-487e-a94f-4f5c0818b0d0\",                        [{\"alignmentgroup\":\"True\",\"hovertemplate\":\"Comm=%{y}<br>PT Marks=%{x}<extra></extra>\",\"legendgroup\":\"Open\",\"marker\":{\"color\":\"#636efa\"},\"name\":\"Open\",\"notched\":false,\"offsetgroup\":\"Open\",\"orientation\":\"h\",\"showlegend\":true,\"x\":[193,173,193,193,182,195,180,205,185,184,204,162,176,176,180,204,178,179,195,171,184,184,185,187,154,195,184,206,193,184,190,180,206,179,180,195,195,193,206,190,180,182,176,206,182,176,195,187,193,201,193,185,173,206,182,184,185,190,176,173,184,162,195,190,185,179,198,187,176,190,173,187,184,179,187,173,170,198,162,193,173,190,179,182,190,193,160,176,193,193,187,151,180,179,180,165,182,185,173,201,175,209,162,187,193,198,175,179,184,190,182,168,155,168,171,171,187,170,165,160,172,190,195,165,151,179,193,170,173,187,154,180,200,193,165,184,179,173,206,168,180,193,193,182,193,160,165,188,180,179,184,190,201,179,173,185,162,172,146,160,162,176,180,187,179,160,170,173,160,187,198,182,175,168,184,184,184,168,171,190,168,168,173,198,182,190,165,184,173,190,193,165,160,170,155,179,184,176,165,168,182,178,187,200,179,187,184,193,190,163,173,198,184,165,193,168,182,171,171,165,195,184,160,187,165,187,190,184,171,187,161,184,173,190,160,172,171,184,168,182,184,157,165,171,154,190,179,165,165,157,179,190,165,165,180,179,184,190,195,206,176,157,151,193,190,184,155,190,165,168,201,190,168,171,170,155,193,160,184,184,165,146,155,190,187,204,200,190,184,200,190,165,201,168,188,170,179,179,195,143,173,170,193,187,190,170,201,195,162,179,176,165,184,179,195,190,182,160,160,175,165,165,157,159,162,138,162,176,176,176,146,170,173,132,132,150,165,138,154,149,160,138,178,124,171],\"x0\":\" \",\"xaxis\":\"x\",\"y\":[\"Open\",\"Open\",\"Open\",\"Open\",\"Open\",\"Open\",\"Open\",\"Open\",\"Open\",\"Open\",\"Open\",\"Open\",\"Open\",\"Open\",\"Open\",\"Open\",\"Open\",\"Open\",\"Open\",\"Open\",\"Open\",\"Open\",\"Open\",\"Open\",\"Open\",\"Open\",\"Open\",\"Open\",\"Open\",\"Open\",\"Open\",\"Open\",\"Open\",\"Open\",\"Open\",\"Open\",\"Open\",\"Open\",\"Open\",\"Open\",\"Open\",\"Open\",\"Open\",\"Open\",\"Open\",\"Open\",\"Open\",\"Open\",\"Open\",\"Open\",\"Open\",\"Open\",\"Open\",\"Open\",\"Open\",\"Open\",\"Open\",\"Open\",\"Open\",\"Open\",\"Open\",\"Open\",\"Open\",\"Open\",\"Open\",\"Open\",\"Open\",\"Open\",\"Open\",\"Open\",\"Open\",\"Open\",\"Open\",\"Open\",\"Open\",\"Open\",\"Open\",\"Open\",\"Open\",\"Open\",\"Open\",\"Open\",\"Open\",\"Open\",\"Open\",\"Open\",\"Open\",\"Open\",\"Open\",\"Open\",\"Open\",\"Open\",\"Open\",\"Open\",\"Open\",\"Open\",\"Open\",\"Open\",\"Open\",\"Open\",\"Open\",\"Open\",\"Open\",\"Open\",\"Open\",\"Open\",\"Open\",\"Open\",\"Open\",\"Open\",\"Open\",\"Open\",\"Open\",\"Open\",\"Open\",\"Open\",\"Open\",\"Open\",\"Open\",\"Open\",\"Open\",\"Open\",\"Open\",\"Open\",\"Open\",\"Open\",\"Open\",\"Open\",\"Open\",\"Open\",\"Open\",\"Open\",\"Open\",\"Open\",\"Open\",\"Open\",\"Open\",\"Open\",\"Open\",\"Open\",\"Open\",\"Open\",\"Open\",\"Open\",\"Open\",\"Open\",\"Open\",\"Open\",\"Open\",\"Open\",\"Open\",\"Open\",\"Open\",\"Open\",\"Open\",\"Open\",\"Open\",\"Open\",\"Open\",\"Open\",\"Open\",\"Open\",\"Open\",\"Open\",\"Open\",\"Open\",\"Open\",\"Open\",\"Open\",\"Open\",\"Open\",\"Open\",\"Open\",\"Open\",\"Open\",\"Open\",\"Open\",\"Open\",\"Open\",\"Open\",\"Open\",\"Open\",\"Open\",\"Open\",\"Open\",\"Open\",\"Open\",\"Open\",\"Open\",\"Open\",\"Open\",\"Open\",\"Open\",\"Open\",\"Open\",\"Open\",\"Open\",\"Open\",\"Open\",\"Open\",\"Open\",\"Open\",\"Open\",\"Open\",\"Open\",\"Open\",\"Open\",\"Open\",\"Open\",\"Open\",\"Open\",\"Open\",\"Open\",\"Open\",\"Open\",\"Open\",\"Open\",\"Open\",\"Open\",\"Open\",\"Open\",\"Open\",\"Open\",\"Open\",\"Open\",\"Open\",\"Open\",\"Open\",\"Open\",\"Open\",\"Open\",\"Open\",\"Open\",\"Open\",\"Open\",\"Open\",\"Open\",\"Open\",\"Open\",\"Open\",\"Open\",\"Open\",\"Open\",\"Open\",\"Open\",\"Open\",\"Open\",\"Open\",\"Open\",\"Open\",\"Open\",\"Open\",\"Open\",\"Open\",\"Open\",\"Open\",\"Open\",\"Open\",\"Open\",\"Open\",\"Open\",\"Open\",\"Open\",\"Open\",\"Open\",\"Open\",\"Open\",\"Open\",\"Open\",\"Open\",\"Open\",\"Open\",\"Open\",\"Open\",\"Open\",\"Open\",\"Open\",\"Open\",\"Open\",\"Open\",\"Open\",\"Open\",\"Open\",\"Open\",\"Open\",\"Open\",\"Open\",\"Open\",\"Open\",\"Open\",\"Open\",\"Open\",\"Open\",\"Open\",\"Open\",\"Open\",\"Open\",\"Open\",\"Open\",\"Open\",\"Open\",\"Open\",\"Open\",\"Open\",\"Open\",\"Open\",\"Open\",\"Open\",\"Open\",\"Open\",\"Open\",\"Open\",\"Open\",\"Open\",\"Open\",\"Open\",\"Open\",\"Open\",\"Open\",\"Open\",\"Open\",\"Open\",\"Open\",\"Open\",\"Open\",\"Open\",\"Open\",\"Open\",\"Open\",\"Open\",\"Open\",\"Open\",\"Open\",\"Open\",\"Open\",\"Open\",\"Open\",\"Open\",\"Open\",\"Open\",\"Open\",\"Open\",\"Open\",\"Open\",\"Open\"],\"y0\":\" \",\"yaxis\":\"y\",\"type\":\"box\"},{\"alignmentgroup\":\"True\",\"hovertemplate\":\"Comm=%{y}<br>PT Marks=%{x}<extra></extra>\",\"legendgroup\":\"OBC\",\"marker\":{\"color\":\"#EF553B\"},\"name\":\"OBC\",\"notched\":false,\"offsetgroup\":\"OBC\",\"orientation\":\"h\",\"showlegend\":true,\"x\":[187,187,195,198,187,198,182,193,187,187,168,190,202,151,187,168,171,190,173,179,150,190,182,193,193,168,187,173,179,165,176,190,168,184,182,187,182,185,154,187,171,154,173,173,160,193,182,187,173,176,165,190,187,193,187,179,187,179,182,195,157,184,171,171,175,180,187,158,187,193,190,160,200,160,179,170,179,157,182,157,165,182,180,187,157,182,184,171,179,184,160,151,188,165,193,176,162,146,157,187,176,179,185,146,184,171,176,190,170,160,165,193,173,193,193,157,176,173,184,157,184,173,171,173,150,165,182,179,179,162,182,168,185,162,170,179,187,160,184,168,151,201,182,138,163,182,182,160,154,162,179,184,172,154,132,176,173,193,176,179,160,184,162,151,143,190,180,193,195,179,187,173,182,195,146,162,163,182,146,160,149,171,204,176,195,165,187,176,179,198,190,162,168,160,184,154,150,132,160,155,182,173,168,179,180,157,184,168,151,168,182,165,171,157,187,209,193,160,162,160,173,182,193,162,173,179,171,193,154,157,182,146,184,162,176,184,150,171,168,180,179,176,168,182,187,188,193,171,151,154,165,173,160,151,157,179,171,162,165,165,179,154,135],\"x0\":\" \",\"xaxis\":\"x\",\"y\":[\"OBC\",\"OBC\",\"OBC\",\"OBC\",\"OBC\",\"OBC\",\"OBC\",\"OBC\",\"OBC\",\"OBC\",\"OBC\",\"OBC\",\"OBC\",\"OBC\",\"OBC\",\"OBC\",\"OBC\",\"OBC\",\"OBC\",\"OBC\",\"OBC\",\"OBC\",\"OBC\",\"OBC\",\"OBC\",\"OBC\",\"OBC\",\"OBC\",\"OBC\",\"OBC\",\"OBC\",\"OBC\",\"OBC\",\"OBC\",\"OBC\",\"OBC\",\"OBC\",\"OBC\",\"OBC\",\"OBC\",\"OBC\",\"OBC\",\"OBC\",\"OBC\",\"OBC\",\"OBC\",\"OBC\",\"OBC\",\"OBC\",\"OBC\",\"OBC\",\"OBC\",\"OBC\",\"OBC\",\"OBC\",\"OBC\",\"OBC\",\"OBC\",\"OBC\",\"OBC\",\"OBC\",\"OBC\",\"OBC\",\"OBC\",\"OBC\",\"OBC\",\"OBC\",\"OBC\",\"OBC\",\"OBC\",\"OBC\",\"OBC\",\"OBC\",\"OBC\",\"OBC\",\"OBC\",\"OBC\",\"OBC\",\"OBC\",\"OBC\",\"OBC\",\"OBC\",\"OBC\",\"OBC\",\"OBC\",\"OBC\",\"OBC\",\"OBC\",\"OBC\",\"OBC\",\"OBC\",\"OBC\",\"OBC\",\"OBC\",\"OBC\",\"OBC\",\"OBC\",\"OBC\",\"OBC\",\"OBC\",\"OBC\",\"OBC\",\"OBC\",\"OBC\",\"OBC\",\"OBC\",\"OBC\",\"OBC\",\"OBC\",\"OBC\",\"OBC\",\"OBC\",\"OBC\",\"OBC\",\"OBC\",\"OBC\",\"OBC\",\"OBC\",\"OBC\",\"OBC\",\"OBC\",\"OBC\",\"OBC\",\"OBC\",\"OBC\",\"OBC\",\"OBC\",\"OBC\",\"OBC\",\"OBC\",\"OBC\",\"OBC\",\"OBC\",\"OBC\",\"OBC\",\"OBC\",\"OBC\",\"OBC\",\"OBC\",\"OBC\",\"OBC\",\"OBC\",\"OBC\",\"OBC\",\"OBC\",\"OBC\",\"OBC\",\"OBC\",\"OBC\",\"OBC\",\"OBC\",\"OBC\",\"OBC\",\"OBC\",\"OBC\",\"OBC\",\"OBC\",\"OBC\",\"OBC\",\"OBC\",\"OBC\",\"OBC\",\"OBC\",\"OBC\",\"OBC\",\"OBC\",\"OBC\",\"OBC\",\"OBC\",\"OBC\",\"OBC\",\"OBC\",\"OBC\",\"OBC\",\"OBC\",\"OBC\",\"OBC\",\"OBC\",\"OBC\",\"OBC\",\"OBC\",\"OBC\",\"OBC\",\"OBC\",\"OBC\",\"OBC\",\"OBC\",\"OBC\",\"OBC\",\"OBC\",\"OBC\",\"OBC\",\"OBC\",\"OBC\",\"OBC\",\"OBC\",\"OBC\",\"OBC\",\"OBC\",\"OBC\",\"OBC\",\"OBC\",\"OBC\",\"OBC\",\"OBC\",\"OBC\",\"OBC\",\"OBC\",\"OBC\",\"OBC\",\"OBC\",\"OBC\",\"OBC\",\"OBC\",\"OBC\",\"OBC\",\"OBC\",\"OBC\",\"OBC\",\"OBC\",\"OBC\",\"OBC\",\"OBC\",\"OBC\",\"OBC\",\"OBC\",\"OBC\",\"OBC\",\"OBC\",\"OBC\",\"OBC\",\"OBC\",\"OBC\",\"OBC\",\"OBC\",\"OBC\",\"OBC\",\"OBC\",\"OBC\",\"OBC\",\"OBC\",\"OBC\",\"OBC\",\"OBC\",\"OBC\",\"OBC\",\"OBC\",\"OBC\",\"OBC\",\"OBC\",\"OBC\",\"OBC\",\"OBC\",\"OBC\",\"OBC\",\"OBC\",\"OBC\",\"OBC\",\"OBC\",\"OBC\",\"OBC\",\"OBC\",\"OBC\"],\"y0\":\" \",\"yaxis\":\"y\",\"type\":\"box\"},{\"alignmentgroup\":\"True\",\"hovertemplate\":\"Comm=%{y}<br>PT Marks=%{x}<extra></extra>\",\"legendgroup\":\"SC\",\"marker\":{\"color\":\"#00cc96\"},\"name\":\"SC\",\"notched\":false,\"offsetgroup\":\"SC\",\"orientation\":\"h\",\"showlegend\":true,\"x\":[190,190,168,190,162,187,146,193,190,154,148,176,175,154,151,190,188,193,195,171,160,185,185,187,165,179,173,154,157,160,165,162,182,170,190,176,160,162,165,170,190,185,198,170,138,198,165,165,146,193,179,171,184,146,179,168,154,151,190,165,149,185,182,170,195,129,171,171,163,179,180,173,200,168,160,160,187,179,154,184,165,185,160,165,150,160,157,190,165,176,193,165,149,190,172,165,184,171,127,193,171,171,165,179,165,165,132,157,168,168,152,175,162,146,146,180,160,187,160,179,160,165,138,157,193,168,140,190,140,146,165,187,173,160,143,154,168,165,132,182,170,149,170,179,160,160,176,155,182,138,132,105,149,180],\"x0\":\" \",\"xaxis\":\"x\",\"y\":[\"SC\",\"SC\",\"SC\",\"SC\",\"SC\",\"SC\",\"SC\",\"SC\",\"SC\",\"SC\",\"SC\",\"SC\",\"SC\",\"SC\",\"SC\",\"SC\",\"SC\",\"SC\",\"SC\",\"SC\",\"SC\",\"SC\",\"SC\",\"SC\",\"SC\",\"SC\",\"SC\",\"SC\",\"SC\",\"SC\",\"SC\",\"SC\",\"SC\",\"SC\",\"SC\",\"SC\",\"SC\",\"SC\",\"SC\",\"SC\",\"SC\",\"SC\",\"SC\",\"SC\",\"SC\",\"SC\",\"SC\",\"SC\",\"SC\",\"SC\",\"SC\",\"SC\",\"SC\",\"SC\",\"SC\",\"SC\",\"SC\",\"SC\",\"SC\",\"SC\",\"SC\",\"SC\",\"SC\",\"SC\",\"SC\",\"SC\",\"SC\",\"SC\",\"SC\",\"SC\",\"SC\",\"SC\",\"SC\",\"SC\",\"SC\",\"SC\",\"SC\",\"SC\",\"SC\",\"SC\",\"SC\",\"SC\",\"SC\",\"SC\",\"SC\",\"SC\",\"SC\",\"SC\",\"SC\",\"SC\",\"SC\",\"SC\",\"SC\",\"SC\",\"SC\",\"SC\",\"SC\",\"SC\",\"SC\",\"SC\",\"SC\",\"SC\",\"SC\",\"SC\",\"SC\",\"SC\",\"SC\",\"SC\",\"SC\",\"SC\",\"SC\",\"SC\",\"SC\",\"SC\",\"SC\",\"SC\",\"SC\",\"SC\",\"SC\",\"SC\",\"SC\",\"SC\",\"SC\",\"SC\",\"SC\",\"SC\",\"SC\",\"SC\",\"SC\",\"SC\",\"SC\",\"SC\",\"SC\",\"SC\",\"SC\",\"SC\",\"SC\",\"SC\",\"SC\",\"SC\",\"SC\",\"SC\",\"SC\",\"SC\",\"SC\",\"SC\",\"SC\",\"SC\",\"SC\",\"SC\",\"SC\",\"SC\",\"SC\",\"SC\"],\"y0\":\" \",\"yaxis\":\"y\",\"type\":\"box\"},{\"alignmentgroup\":\"True\",\"hovertemplate\":\"Comm=%{y}<br>PT Marks=%{x}<extra></extra>\",\"legendgroup\":\"ST\",\"marker\":{\"color\":\"#ab63fa\"},\"name\":\"ST\",\"notched\":false,\"offsetgroup\":\"ST\",\"orientation\":\"h\",\"showlegend\":true,\"x\":[190,198,160,210,193,165,179,160,175,190,170,148,150,171,179,151,162,158,185,160,210,162,210,151,179,157,162,145,179,165,150,200,162,193,151,171,189,127,180,170,143,200,180,140,187,180,193,151,149,138,171,183,146,187,171,185,165,162,137,182,149,165,198,143,146,171,173,160,179,151,165,140],\"x0\":\" \",\"xaxis\":\"x\",\"y\":[\"ST\",\"ST\",\"ST\",\"ST\",\"ST\",\"ST\",\"ST\",\"ST\",\"ST\",\"ST\",\"ST\",\"ST\",\"ST\",\"ST\",\"ST\",\"ST\",\"ST\",\"ST\",\"ST\",\"ST\",\"ST\",\"ST\",\"ST\",\"ST\",\"ST\",\"ST\",\"ST\",\"ST\",\"ST\",\"ST\",\"ST\",\"ST\",\"ST\",\"ST\",\"ST\",\"ST\",\"ST\",\"ST\",\"ST\",\"ST\",\"ST\",\"ST\",\"ST\",\"ST\",\"ST\",\"ST\",\"ST\",\"ST\",\"ST\",\"ST\",\"ST\",\"ST\",\"ST\",\"ST\",\"ST\",\"ST\",\"ST\",\"ST\",\"ST\",\"ST\",\"ST\",\"ST\",\"ST\",\"ST\",\"ST\",\"ST\",\"ST\",\"ST\",\"ST\",\"ST\",\"ST\",\"ST\"],\"y0\":\" \",\"yaxis\":\"y\",\"type\":\"box\"},{\"alignmentgroup\":\"True\",\"hovertemplate\":\"Comm=%{y}<br>PT Marks=%{x}<extra></extra>\",\"legendgroup\":\"EWS\",\"marker\":{\"color\":\"#FFA15A\"},\"name\":\"EWS\",\"notched\":false,\"offsetgroup\":\"EWS\",\"orientation\":\"h\",\"showlegend\":true,\"x\":[180,175,173,171,202,176,182,157,179,162,182,173,176,160,201,201,193,172,176,193,179,173,168,190,193,187,151,179,179,201,184,184,168,176,176,193,168,138,193,152,165,157,173,154,168,187,190,176,198,193,184,180,193,173,178,185,157,165,150,157,190,179,162,168,195,165,154,155,184,179,184,184,173,179,168,171,162,162,162,193,151,184,195,176,165,165,187,146,193,176,154,190,176,171,171,160,168,171,149],\"x0\":\" \",\"xaxis\":\"x\",\"y\":[\"EWS\",\"EWS\",\"EWS\",\"EWS\",\"EWS\",\"EWS\",\"EWS\",\"EWS\",\"EWS\",\"EWS\",\"EWS\",\"EWS\",\"EWS\",\"EWS\",\"EWS\",\"EWS\",\"EWS\",\"EWS\",\"EWS\",\"EWS\",\"EWS\",\"EWS\",\"EWS\",\"EWS\",\"EWS\",\"EWS\",\"EWS\",\"EWS\",\"EWS\",\"EWS\",\"EWS\",\"EWS\",\"EWS\",\"EWS\",\"EWS\",\"EWS\",\"EWS\",\"EWS\",\"EWS\",\"EWS\",\"EWS\",\"EWS\",\"EWS\",\"EWS\",\"EWS\",\"EWS\",\"EWS\",\"EWS\",\"EWS\",\"EWS\",\"EWS\",\"EWS\",\"EWS\",\"EWS\",\"EWS\",\"EWS\",\"EWS\",\"EWS\",\"EWS\",\"EWS\",\"EWS\",\"EWS\",\"EWS\",\"EWS\",\"EWS\",\"EWS\",\"EWS\",\"EWS\",\"EWS\",\"EWS\",\"EWS\",\"EWS\",\"EWS\",\"EWS\",\"EWS\",\"EWS\",\"EWS\",\"EWS\",\"EWS\",\"EWS\",\"EWS\",\"EWS\",\"EWS\",\"EWS\",\"EWS\",\"EWS\",\"EWS\",\"EWS\",\"EWS\",\"EWS\",\"EWS\",\"EWS\",\"EWS\",\"EWS\",\"EWS\",\"EWS\",\"EWS\",\"EWS\",\"EWS\"],\"y0\":\" \",\"yaxis\":\"y\",\"type\":\"box\"}],                        {\"template\":{\"data\":{\"histogram2dcontour\":[{\"type\":\"histogram2dcontour\",\"colorbar\":{\"outlinewidth\":0,\"ticks\":\"\"},\"colorscale\":[[0.0,\"#0d0887\"],[0.1111111111111111,\"#46039f\"],[0.2222222222222222,\"#7201a8\"],[0.3333333333333333,\"#9c179e\"],[0.4444444444444444,\"#bd3786\"],[0.5555555555555556,\"#d8576b\"],[0.6666666666666666,\"#ed7953\"],[0.7777777777777778,\"#fb9f3a\"],[0.8888888888888888,\"#fdca26\"],[1.0,\"#f0f921\"]]}],\"choropleth\":[{\"type\":\"choropleth\",\"colorbar\":{\"outlinewidth\":0,\"ticks\":\"\"}}],\"histogram2d\":[{\"type\":\"histogram2d\",\"colorbar\":{\"outlinewidth\":0,\"ticks\":\"\"},\"colorscale\":[[0.0,\"#0d0887\"],[0.1111111111111111,\"#46039f\"],[0.2222222222222222,\"#7201a8\"],[0.3333333333333333,\"#9c179e\"],[0.4444444444444444,\"#bd3786\"],[0.5555555555555556,\"#d8576b\"],[0.6666666666666666,\"#ed7953\"],[0.7777777777777778,\"#fb9f3a\"],[0.8888888888888888,\"#fdca26\"],[1.0,\"#f0f921\"]]}],\"heatmap\":[{\"type\":\"heatmap\",\"colorbar\":{\"outlinewidth\":0,\"ticks\":\"\"},\"colorscale\":[[0.0,\"#0d0887\"],[0.1111111111111111,\"#46039f\"],[0.2222222222222222,\"#7201a8\"],[0.3333333333333333,\"#9c179e\"],[0.4444444444444444,\"#bd3786\"],[0.5555555555555556,\"#d8576b\"],[0.6666666666666666,\"#ed7953\"],[0.7777777777777778,\"#fb9f3a\"],[0.8888888888888888,\"#fdca26\"],[1.0,\"#f0f921\"]]}],\"heatmapgl\":[{\"type\":\"heatmapgl\",\"colorbar\":{\"outlinewidth\":0,\"ticks\":\"\"},\"colorscale\":[[0.0,\"#0d0887\"],[0.1111111111111111,\"#46039f\"],[0.2222222222222222,\"#7201a8\"],[0.3333333333333333,\"#9c179e\"],[0.4444444444444444,\"#bd3786\"],[0.5555555555555556,\"#d8576b\"],[0.6666666666666666,\"#ed7953\"],[0.7777777777777778,\"#fb9f3a\"],[0.8888888888888888,\"#fdca26\"],[1.0,\"#f0f921\"]]}],\"contourcarpet\":[{\"type\":\"contourcarpet\",\"colorbar\":{\"outlinewidth\":0,\"ticks\":\"\"}}],\"contour\":[{\"type\":\"contour\",\"colorbar\":{\"outlinewidth\":0,\"ticks\":\"\"},\"colorscale\":[[0.0,\"#0d0887\"],[0.1111111111111111,\"#46039f\"],[0.2222222222222222,\"#7201a8\"],[0.3333333333333333,\"#9c179e\"],[0.4444444444444444,\"#bd3786\"],[0.5555555555555556,\"#d8576b\"],[0.6666666666666666,\"#ed7953\"],[0.7777777777777778,\"#fb9f3a\"],[0.8888888888888888,\"#fdca26\"],[1.0,\"#f0f921\"]]}],\"surface\":[{\"type\":\"surface\",\"colorbar\":{\"outlinewidth\":0,\"ticks\":\"\"},\"colorscale\":[[0.0,\"#0d0887\"],[0.1111111111111111,\"#46039f\"],[0.2222222222222222,\"#7201a8\"],[0.3333333333333333,\"#9c179e\"],[0.4444444444444444,\"#bd3786\"],[0.5555555555555556,\"#d8576b\"],[0.6666666666666666,\"#ed7953\"],[0.7777777777777778,\"#fb9f3a\"],[0.8888888888888888,\"#fdca26\"],[1.0,\"#f0f921\"]]}],\"mesh3d\":[{\"type\":\"mesh3d\",\"colorbar\":{\"outlinewidth\":0,\"ticks\":\"\"}}],\"scatter\":[{\"fillpattern\":{\"fillmode\":\"overlay\",\"size\":10,\"solidity\":0.2},\"type\":\"scatter\"}],\"parcoords\":[{\"type\":\"parcoords\",\"line\":{\"colorbar\":{\"outlinewidth\":0,\"ticks\":\"\"}}}],\"scatterpolargl\":[{\"type\":\"scatterpolargl\",\"marker\":{\"colorbar\":{\"outlinewidth\":0,\"ticks\":\"\"}}}],\"bar\":[{\"error_x\":{\"color\":\"#2a3f5f\"},\"error_y\":{\"color\":\"#2a3f5f\"},\"marker\":{\"line\":{\"color\":\"#E5ECF6\",\"width\":0.5},\"pattern\":{\"fillmode\":\"overlay\",\"size\":10,\"solidity\":0.2}},\"type\":\"bar\"}],\"scattergeo\":[{\"type\":\"scattergeo\",\"marker\":{\"colorbar\":{\"outlinewidth\":0,\"ticks\":\"\"}}}],\"scatterpolar\":[{\"type\":\"scatterpolar\",\"marker\":{\"colorbar\":{\"outlinewidth\":0,\"ticks\":\"\"}}}],\"histogram\":[{\"marker\":{\"pattern\":{\"fillmode\":\"overlay\",\"size\":10,\"solidity\":0.2}},\"type\":\"histogram\"}],\"scattergl\":[{\"type\":\"scattergl\",\"marker\":{\"colorbar\":{\"outlinewidth\":0,\"ticks\":\"\"}}}],\"scatter3d\":[{\"type\":\"scatter3d\",\"line\":{\"colorbar\":{\"outlinewidth\":0,\"ticks\":\"\"}},\"marker\":{\"colorbar\":{\"outlinewidth\":0,\"ticks\":\"\"}}}],\"scattermapbox\":[{\"type\":\"scattermapbox\",\"marker\":{\"colorbar\":{\"outlinewidth\":0,\"ticks\":\"\"}}}],\"scatterternary\":[{\"type\":\"scatterternary\",\"marker\":{\"colorbar\":{\"outlinewidth\":0,\"ticks\":\"\"}}}],\"scattercarpet\":[{\"type\":\"scattercarpet\",\"marker\":{\"colorbar\":{\"outlinewidth\":0,\"ticks\":\"\"}}}],\"carpet\":[{\"aaxis\":{\"endlinecolor\":\"#2a3f5f\",\"gridcolor\":\"white\",\"linecolor\":\"white\",\"minorgridcolor\":\"white\",\"startlinecolor\":\"#2a3f5f\"},\"baxis\":{\"endlinecolor\":\"#2a3f5f\",\"gridcolor\":\"white\",\"linecolor\":\"white\",\"minorgridcolor\":\"white\",\"startlinecolor\":\"#2a3f5f\"},\"type\":\"carpet\"}],\"table\":[{\"cells\":{\"fill\":{\"color\":\"#EBF0F8\"},\"line\":{\"color\":\"white\"}},\"header\":{\"fill\":{\"color\":\"#C8D4E3\"},\"line\":{\"color\":\"white\"}},\"type\":\"table\"}],\"barpolar\":[{\"marker\":{\"line\":{\"color\":\"#E5ECF6\",\"width\":0.5},\"pattern\":{\"fillmode\":\"overlay\",\"size\":10,\"solidity\":0.2}},\"type\":\"barpolar\"}],\"pie\":[{\"automargin\":true,\"type\":\"pie\"}]},\"layout\":{\"autotypenumbers\":\"strict\",\"colorway\":[\"#636efa\",\"#EF553B\",\"#00cc96\",\"#ab63fa\",\"#FFA15A\",\"#19d3f3\",\"#FF6692\",\"#B6E880\",\"#FF97FF\",\"#FECB52\"],\"font\":{\"color\":\"#2a3f5f\"},\"hovermode\":\"closest\",\"hoverlabel\":{\"align\":\"left\"},\"paper_bgcolor\":\"white\",\"plot_bgcolor\":\"#E5ECF6\",\"polar\":{\"bgcolor\":\"#E5ECF6\",\"angularaxis\":{\"gridcolor\":\"white\",\"linecolor\":\"white\",\"ticks\":\"\"},\"radialaxis\":{\"gridcolor\":\"white\",\"linecolor\":\"white\",\"ticks\":\"\"}},\"ternary\":{\"bgcolor\":\"#E5ECF6\",\"aaxis\":{\"gridcolor\":\"white\",\"linecolor\":\"white\",\"ticks\":\"\"},\"baxis\":{\"gridcolor\":\"white\",\"linecolor\":\"white\",\"ticks\":\"\"},\"caxis\":{\"gridcolor\":\"white\",\"linecolor\":\"white\",\"ticks\":\"\"}},\"coloraxis\":{\"colorbar\":{\"outlinewidth\":0,\"ticks\":\"\"}},\"colorscale\":{\"sequential\":[[0.0,\"#0d0887\"],[0.1111111111111111,\"#46039f\"],[0.2222222222222222,\"#7201a8\"],[0.3333333333333333,\"#9c179e\"],[0.4444444444444444,\"#bd3786\"],[0.5555555555555556,\"#d8576b\"],[0.6666666666666666,\"#ed7953\"],[0.7777777777777778,\"#fb9f3a\"],[0.8888888888888888,\"#fdca26\"],[1.0,\"#f0f921\"]],\"sequentialminus\":[[0.0,\"#0d0887\"],[0.1111111111111111,\"#46039f\"],[0.2222222222222222,\"#7201a8\"],[0.3333333333333333,\"#9c179e\"],[0.4444444444444444,\"#bd3786\"],[0.5555555555555556,\"#d8576b\"],[0.6666666666666666,\"#ed7953\"],[0.7777777777777778,\"#fb9f3a\"],[0.8888888888888888,\"#fdca26\"],[1.0,\"#f0f921\"]],\"diverging\":[[0,\"#8e0152\"],[0.1,\"#c51b7d\"],[0.2,\"#de77ae\"],[0.3,\"#f1b6da\"],[0.4,\"#fde0ef\"],[0.5,\"#f7f7f7\"],[0.6,\"#e6f5d0\"],[0.7,\"#b8e186\"],[0.8,\"#7fbc41\"],[0.9,\"#4d9221\"],[1,\"#276419\"]]},\"xaxis\":{\"gridcolor\":\"white\",\"linecolor\":\"white\",\"ticks\":\"\",\"title\":{\"standoff\":15},\"zerolinecolor\":\"white\",\"automargin\":true,\"zerolinewidth\":2},\"yaxis\":{\"gridcolor\":\"white\",\"linecolor\":\"white\",\"ticks\":\"\",\"title\":{\"standoff\":15},\"zerolinecolor\":\"white\",\"automargin\":true,\"zerolinewidth\":2},\"scene\":{\"xaxis\":{\"backgroundcolor\":\"#E5ECF6\",\"gridcolor\":\"white\",\"linecolor\":\"white\",\"showbackground\":true,\"ticks\":\"\",\"zerolinecolor\":\"white\",\"gridwidth\":2},\"yaxis\":{\"backgroundcolor\":\"#E5ECF6\",\"gridcolor\":\"white\",\"linecolor\":\"white\",\"showbackground\":true,\"ticks\":\"\",\"zerolinecolor\":\"white\",\"gridwidth\":2},\"zaxis\":{\"backgroundcolor\":\"#E5ECF6\",\"gridcolor\":\"white\",\"linecolor\":\"white\",\"showbackground\":true,\"ticks\":\"\",\"zerolinecolor\":\"white\",\"gridwidth\":2}},\"shapedefaults\":{\"line\":{\"color\":\"#2a3f5f\"}},\"annotationdefaults\":{\"arrowcolor\":\"#2a3f5f\",\"arrowhead\":0,\"arrowwidth\":1},\"geo\":{\"bgcolor\":\"white\",\"landcolor\":\"#E5ECF6\",\"subunitcolor\":\"white\",\"showland\":true,\"showlakes\":true,\"lakecolor\":\"white\"},\"title\":{\"x\":0.05},\"mapbox\":{\"style\":\"light\"}}},\"xaxis\":{\"anchor\":\"y\",\"domain\":[0.0,1.0],\"title\":{\"text\":\"PT Marks\"}},\"yaxis\":{\"anchor\":\"x\",\"domain\":[0.0,1.0],\"title\":{\"text\":\"Comm\"},\"categoryorder\":\"array\",\"categoryarray\":[\"EWS\",\"ST\",\"SC\",\"OBC\",\"Open\"]},\"legend\":{\"title\":{\"text\":\"Comm\"},\"tracegroupgap\":0},\"title\":{\"text\":\"Box Plot of PT_Marks by Comm\"},\"boxmode\":\"overlay\",\"annotations\":[{\"align\":\"left\",\"font\":{\"size\":12},\"showarrow\":false,\"x\":1.15,\"xref\":\"paper\",\"y\":0.5,\"yref\":\"paper\"}]},                        {\"responsive\": true}                    ).then(function(){\n",
       "                            \n",
       "var gd = document.getElementById('2cfea669-1b6d-487e-a94f-4f5c0818b0d0');\n",
       "var x = new MutationObserver(function (mutations, observer) {{\n",
       "        var display = window.getComputedStyle(gd).display;\n",
       "        if (!display || display === 'none') {{\n",
       "            console.log([gd, 'removed!']);\n",
       "            Plotly.purge(gd);\n",
       "            observer.disconnect();\n",
       "        }}\n",
       "}});\n",
       "\n",
       "// Listen for the removal of the full notebook cells\n",
       "var notebookContainer = gd.closest('#notebook-container');\n",
       "if (notebookContainer) {{\n",
       "    x.observe(notebookContainer, {childList: true});\n",
       "}}\n",
       "\n",
       "// Listen for the clearing of the current output cell\n",
       "var outputEl = gd.closest('.output');\n",
       "if (outputEl) {{\n",
       "    x.observe(outputEl, {childList: true});\n",
       "}}\n",
       "\n",
       "                        })                };                });            </script>        </div>"
      ]
     },
     "metadata": {},
     "output_type": "display_data"
    }
   ],
   "source": [
    "# Create a colorful box plot with additional information\n",
    "fig = px.box(\n",
    "    upsc_2022_df,\n",
    "    x=\"PT_Marks\",\n",
    "    y=\"Comm\",\n",
    "    color=\"Comm\",  # Color the boxes by 'Comm'\n",
    "    title='Box Plot of PT_Marks by Comm',\n",
    "    labels={'PT_Marks': 'PT Marks', 'Comm': 'Comm'},\n",
    "    category_orders={'Comm': ['Open', 'OBC', 'SC', 'ST', 'EWS']}  # Optional: Set the order of 'Comm' categories\n",
    ")\n",
    "\n",
    "# Add information to the chart\n",
    "fig.update_layout(\n",
    "    annotations=[\n",
    "        dict(\n",
    "            x=1.15,\n",
    "            y=0.5,\n",
    "            xref='paper',\n",
    "            yref='paper',\n",
    "            #text='Box plot showing distribution of PT_Marks by Comm',\n",
    "            showarrow=False,\n",
    "            align='left',\n",
    "            font=dict(size=12),\n",
    "        )\n",
    "    ]\n",
    ")\n",
    "\n",
    "# Show the plot\n",
    "fig.show()\n"
   ]
  },
  {
   "cell_type": "code",
   "execution_count": null,
   "id": "bc9d0276",
   "metadata": {},
   "outputs": [],
   "source": []
  },
  {
   "cell_type": "code",
   "execution_count": 40,
   "id": "773c8398",
   "metadata": {},
   "outputs": [
    {
     "data": {
      "text/plain": [
       "776.3247588424438"
      ]
     },
     "execution_count": 40,
     "metadata": {},
     "output_type": "execute_result"
    }
   ],
   "source": [
    "upsc_2022_df.W_total.mean()"
   ]
  },
  {
   "cell_type": "code",
   "execution_count": 48,
   "id": "b3b1cd39",
   "metadata": {},
   "outputs": [
    {
     "name": "stdout",
     "output_type": "stream",
     "text": [
      "         W_total    PT_Marks     F_Total\n",
      "Comm                                    \n",
      "EWS   778.989899  174.909091  953.898990\n",
      "OBC   771.022814  173.992395  945.015209\n",
      "Open  794.223188  178.249275  972.472464\n",
      "SC    750.512987  168.136364  918.649351\n",
      "ST    761.472222  168.847222  930.319444\n"
     ]
    }
   ],
   "source": [
    "# Define the columns for which you want to calculate the mean\n",
    "columns_to_mean = ['W_total', 'PT_Marks', 'F_Total']\n",
    "\n",
    "# Calculate the mean for each 'Comm' category and selected columns\n",
    "mean_by_comm = upsc_2022_df.groupby('Comm')[columns_to_mean].mean()\n",
    "\n",
    "# Display the result\n",
    "print(mean_by_comm)"
   ]
  },
  {
   "cell_type": "code",
   "execution_count": 66,
   "id": "dafdc7ce",
   "metadata": {},
   "outputs": [
    {
     "name": "stdout",
     "output_type": "stream",
     "text": [
      "   Comm    W_total   PT_Marks    F_Total\n",
      "0   EWS  26.147343  14.192619  24.854062\n",
      "1   OBC  31.926195  14.515586  33.353985\n",
      "2  Open  56.776536  14.667295  61.495415\n",
      "3    SC  32.813842  17.212273  33.461818\n",
      "4    ST  27.250519  19.512120  25.127184\n"
     ]
    }
   ],
   "source": [
    "# Calculate the standard deviation for each 'Comm' category and selected columns\n",
    "std_by_comm = upsc_2022_df.groupby('Comm')[columns_to_mean].std().reset_index()\n",
    "\n",
    "# Display the result\n",
    "print(std_by_comm)\n"
   ]
  },
  {
   "cell_type": "code",
   "execution_count": 49,
   "id": "cbb70ba8",
   "metadata": {},
   "outputs": [
    {
     "name": "stdout",
     "output_type": "stream",
     "text": [
      "Comm             EWS         OBC        Open          SC          ST\n",
      "W_total   778.989899  771.022814  794.223188  750.512987  761.472222\n",
      "PT_Marks  174.909091  173.992395  178.249275  168.136364  168.847222\n",
      "F_Total   953.898990  945.015209  972.472464  918.649351  930.319444\n"
     ]
    }
   ],
   "source": [
    "# Display the result with rows and columns swapped\n",
    "print(mean_by_comm.transpose())"
   ]
  },
  {
   "cell_type": "code",
   "execution_count": 63,
   "id": "a98ea8a6",
   "metadata": {},
   "outputs": [
    {
     "data": {
      "application/vnd.plotly.v1+json": {
       "config": {
        "plotlyServerURL": "https://plot.ly"
       },
       "data": [
        {
         "alignmentgroup": "True",
         "hovertemplate": "Metric=W_total<br>Comm=%{x}<br>Mean Value=%{y}<extra></extra>",
         "legendgroup": "W_total",
         "marker": {
          "color": "#636efa",
          "pattern": {
           "shape": ""
          }
         },
         "name": "W_total",
         "offsetgroup": "W_total",
         "orientation": "v",
         "showlegend": true,
         "textposition": "auto",
         "type": "bar",
         "x": [
          "EWS",
          "OBC",
          "Open",
          "SC",
          "ST"
         ],
         "xaxis": "x",
         "y": [
          778.989898989899,
          771.022813688213,
          794.2231884057971,
          750.512987012987,
          761.4722222222222
         ],
         "yaxis": "y"
        },
        {
         "alignmentgroup": "True",
         "hovertemplate": "Metric=PT_Marks<br>Comm=%{x}<br>Mean Value=%{y}<extra></extra>",
         "legendgroup": "PT_Marks",
         "marker": {
          "color": "#EF553B",
          "pattern": {
           "shape": ""
          }
         },
         "name": "PT_Marks",
         "offsetgroup": "PT_Marks",
         "orientation": "v",
         "showlegend": true,
         "textposition": "auto",
         "type": "bar",
         "x": [
          "EWS",
          "OBC",
          "Open",
          "SC",
          "ST"
         ],
         "xaxis": "x",
         "y": [
          174.9090909090909,
          173.99239543726236,
          178.24927536231883,
          168.13636363636363,
          168.84722222222223
         ],
         "yaxis": "y"
        },
        {
         "alignmentgroup": "True",
         "hovertemplate": "Metric=F_Total<br>Comm=%{x}<br>Mean Value=%{y}<extra></extra>",
         "legendgroup": "F_Total",
         "marker": {
          "color": "#00cc96",
          "pattern": {
           "shape": ""
          }
         },
         "name": "F_Total",
         "offsetgroup": "F_Total",
         "orientation": "v",
         "showlegend": true,
         "textposition": "auto",
         "type": "bar",
         "x": [
          "EWS",
          "OBC",
          "Open",
          "SC",
          "ST"
         ],
         "xaxis": "x",
         "y": [
          953.89898989899,
          945.0152091254753,
          972.472463768116,
          918.6493506493506,
          930.3194444444445
         ],
         "yaxis": "y"
        }
       ],
       "layout": {
        "barmode": "group",
        "legend": {
         "title": {
          "text": "Metric"
         },
         "tracegroupgap": 0
        },
        "template": {
         "data": {
          "bar": [
           {
            "error_x": {
             "color": "#2a3f5f"
            },
            "error_y": {
             "color": "#2a3f5f"
            },
            "marker": {
             "line": {
              "color": "#E5ECF6",
              "width": 0.5
             },
             "pattern": {
              "fillmode": "overlay",
              "size": 10,
              "solidity": 0.2
             }
            },
            "type": "bar"
           }
          ],
          "barpolar": [
           {
            "marker": {
             "line": {
              "color": "#E5ECF6",
              "width": 0.5
             },
             "pattern": {
              "fillmode": "overlay",
              "size": 10,
              "solidity": 0.2
             }
            },
            "type": "barpolar"
           }
          ],
          "carpet": [
           {
            "aaxis": {
             "endlinecolor": "#2a3f5f",
             "gridcolor": "white",
             "linecolor": "white",
             "minorgridcolor": "white",
             "startlinecolor": "#2a3f5f"
            },
            "baxis": {
             "endlinecolor": "#2a3f5f",
             "gridcolor": "white",
             "linecolor": "white",
             "minorgridcolor": "white",
             "startlinecolor": "#2a3f5f"
            },
            "type": "carpet"
           }
          ],
          "choropleth": [
           {
            "colorbar": {
             "outlinewidth": 0,
             "ticks": ""
            },
            "type": "choropleth"
           }
          ],
          "contour": [
           {
            "colorbar": {
             "outlinewidth": 0,
             "ticks": ""
            },
            "colorscale": [
             [
              0,
              "#0d0887"
             ],
             [
              0.1111111111111111,
              "#46039f"
             ],
             [
              0.2222222222222222,
              "#7201a8"
             ],
             [
              0.3333333333333333,
              "#9c179e"
             ],
             [
              0.4444444444444444,
              "#bd3786"
             ],
             [
              0.5555555555555556,
              "#d8576b"
             ],
             [
              0.6666666666666666,
              "#ed7953"
             ],
             [
              0.7777777777777778,
              "#fb9f3a"
             ],
             [
              0.8888888888888888,
              "#fdca26"
             ],
             [
              1,
              "#f0f921"
             ]
            ],
            "type": "contour"
           }
          ],
          "contourcarpet": [
           {
            "colorbar": {
             "outlinewidth": 0,
             "ticks": ""
            },
            "type": "contourcarpet"
           }
          ],
          "heatmap": [
           {
            "colorbar": {
             "outlinewidth": 0,
             "ticks": ""
            },
            "colorscale": [
             [
              0,
              "#0d0887"
             ],
             [
              0.1111111111111111,
              "#46039f"
             ],
             [
              0.2222222222222222,
              "#7201a8"
             ],
             [
              0.3333333333333333,
              "#9c179e"
             ],
             [
              0.4444444444444444,
              "#bd3786"
             ],
             [
              0.5555555555555556,
              "#d8576b"
             ],
             [
              0.6666666666666666,
              "#ed7953"
             ],
             [
              0.7777777777777778,
              "#fb9f3a"
             ],
             [
              0.8888888888888888,
              "#fdca26"
             ],
             [
              1,
              "#f0f921"
             ]
            ],
            "type": "heatmap"
           }
          ],
          "heatmapgl": [
           {
            "colorbar": {
             "outlinewidth": 0,
             "ticks": ""
            },
            "colorscale": [
             [
              0,
              "#0d0887"
             ],
             [
              0.1111111111111111,
              "#46039f"
             ],
             [
              0.2222222222222222,
              "#7201a8"
             ],
             [
              0.3333333333333333,
              "#9c179e"
             ],
             [
              0.4444444444444444,
              "#bd3786"
             ],
             [
              0.5555555555555556,
              "#d8576b"
             ],
             [
              0.6666666666666666,
              "#ed7953"
             ],
             [
              0.7777777777777778,
              "#fb9f3a"
             ],
             [
              0.8888888888888888,
              "#fdca26"
             ],
             [
              1,
              "#f0f921"
             ]
            ],
            "type": "heatmapgl"
           }
          ],
          "histogram": [
           {
            "marker": {
             "pattern": {
              "fillmode": "overlay",
              "size": 10,
              "solidity": 0.2
             }
            },
            "type": "histogram"
           }
          ],
          "histogram2d": [
           {
            "colorbar": {
             "outlinewidth": 0,
             "ticks": ""
            },
            "colorscale": [
             [
              0,
              "#0d0887"
             ],
             [
              0.1111111111111111,
              "#46039f"
             ],
             [
              0.2222222222222222,
              "#7201a8"
             ],
             [
              0.3333333333333333,
              "#9c179e"
             ],
             [
              0.4444444444444444,
              "#bd3786"
             ],
             [
              0.5555555555555556,
              "#d8576b"
             ],
             [
              0.6666666666666666,
              "#ed7953"
             ],
             [
              0.7777777777777778,
              "#fb9f3a"
             ],
             [
              0.8888888888888888,
              "#fdca26"
             ],
             [
              1,
              "#f0f921"
             ]
            ],
            "type": "histogram2d"
           }
          ],
          "histogram2dcontour": [
           {
            "colorbar": {
             "outlinewidth": 0,
             "ticks": ""
            },
            "colorscale": [
             [
              0,
              "#0d0887"
             ],
             [
              0.1111111111111111,
              "#46039f"
             ],
             [
              0.2222222222222222,
              "#7201a8"
             ],
             [
              0.3333333333333333,
              "#9c179e"
             ],
             [
              0.4444444444444444,
              "#bd3786"
             ],
             [
              0.5555555555555556,
              "#d8576b"
             ],
             [
              0.6666666666666666,
              "#ed7953"
             ],
             [
              0.7777777777777778,
              "#fb9f3a"
             ],
             [
              0.8888888888888888,
              "#fdca26"
             ],
             [
              1,
              "#f0f921"
             ]
            ],
            "type": "histogram2dcontour"
           }
          ],
          "mesh3d": [
           {
            "colorbar": {
             "outlinewidth": 0,
             "ticks": ""
            },
            "type": "mesh3d"
           }
          ],
          "parcoords": [
           {
            "line": {
             "colorbar": {
              "outlinewidth": 0,
              "ticks": ""
             }
            },
            "type": "parcoords"
           }
          ],
          "pie": [
           {
            "automargin": true,
            "type": "pie"
           }
          ],
          "scatter": [
           {
            "fillpattern": {
             "fillmode": "overlay",
             "size": 10,
             "solidity": 0.2
            },
            "type": "scatter"
           }
          ],
          "scatter3d": [
           {
            "line": {
             "colorbar": {
              "outlinewidth": 0,
              "ticks": ""
             }
            },
            "marker": {
             "colorbar": {
              "outlinewidth": 0,
              "ticks": ""
             }
            },
            "type": "scatter3d"
           }
          ],
          "scattercarpet": [
           {
            "marker": {
             "colorbar": {
              "outlinewidth": 0,
              "ticks": ""
             }
            },
            "type": "scattercarpet"
           }
          ],
          "scattergeo": [
           {
            "marker": {
             "colorbar": {
              "outlinewidth": 0,
              "ticks": ""
             }
            },
            "type": "scattergeo"
           }
          ],
          "scattergl": [
           {
            "marker": {
             "colorbar": {
              "outlinewidth": 0,
              "ticks": ""
             }
            },
            "type": "scattergl"
           }
          ],
          "scattermapbox": [
           {
            "marker": {
             "colorbar": {
              "outlinewidth": 0,
              "ticks": ""
             }
            },
            "type": "scattermapbox"
           }
          ],
          "scatterpolar": [
           {
            "marker": {
             "colorbar": {
              "outlinewidth": 0,
              "ticks": ""
             }
            },
            "type": "scatterpolar"
           }
          ],
          "scatterpolargl": [
           {
            "marker": {
             "colorbar": {
              "outlinewidth": 0,
              "ticks": ""
             }
            },
            "type": "scatterpolargl"
           }
          ],
          "scatterternary": [
           {
            "marker": {
             "colorbar": {
              "outlinewidth": 0,
              "ticks": ""
             }
            },
            "type": "scatterternary"
           }
          ],
          "surface": [
           {
            "colorbar": {
             "outlinewidth": 0,
             "ticks": ""
            },
            "colorscale": [
             [
              0,
              "#0d0887"
             ],
             [
              0.1111111111111111,
              "#46039f"
             ],
             [
              0.2222222222222222,
              "#7201a8"
             ],
             [
              0.3333333333333333,
              "#9c179e"
             ],
             [
              0.4444444444444444,
              "#bd3786"
             ],
             [
              0.5555555555555556,
              "#d8576b"
             ],
             [
              0.6666666666666666,
              "#ed7953"
             ],
             [
              0.7777777777777778,
              "#fb9f3a"
             ],
             [
              0.8888888888888888,
              "#fdca26"
             ],
             [
              1,
              "#f0f921"
             ]
            ],
            "type": "surface"
           }
          ],
          "table": [
           {
            "cells": {
             "fill": {
              "color": "#EBF0F8"
             },
             "line": {
              "color": "white"
             }
            },
            "header": {
             "fill": {
              "color": "#C8D4E3"
             },
             "line": {
              "color": "white"
             }
            },
            "type": "table"
           }
          ]
         },
         "layout": {
          "annotationdefaults": {
           "arrowcolor": "#2a3f5f",
           "arrowhead": 0,
           "arrowwidth": 1
          },
          "autotypenumbers": "strict",
          "coloraxis": {
           "colorbar": {
            "outlinewidth": 0,
            "ticks": ""
           }
          },
          "colorscale": {
           "diverging": [
            [
             0,
             "#8e0152"
            ],
            [
             0.1,
             "#c51b7d"
            ],
            [
             0.2,
             "#de77ae"
            ],
            [
             0.3,
             "#f1b6da"
            ],
            [
             0.4,
             "#fde0ef"
            ],
            [
             0.5,
             "#f7f7f7"
            ],
            [
             0.6,
             "#e6f5d0"
            ],
            [
             0.7,
             "#b8e186"
            ],
            [
             0.8,
             "#7fbc41"
            ],
            [
             0.9,
             "#4d9221"
            ],
            [
             1,
             "#276419"
            ]
           ],
           "sequential": [
            [
             0,
             "#0d0887"
            ],
            [
             0.1111111111111111,
             "#46039f"
            ],
            [
             0.2222222222222222,
             "#7201a8"
            ],
            [
             0.3333333333333333,
             "#9c179e"
            ],
            [
             0.4444444444444444,
             "#bd3786"
            ],
            [
             0.5555555555555556,
             "#d8576b"
            ],
            [
             0.6666666666666666,
             "#ed7953"
            ],
            [
             0.7777777777777778,
             "#fb9f3a"
            ],
            [
             0.8888888888888888,
             "#fdca26"
            ],
            [
             1,
             "#f0f921"
            ]
           ],
           "sequentialminus": [
            [
             0,
             "#0d0887"
            ],
            [
             0.1111111111111111,
             "#46039f"
            ],
            [
             0.2222222222222222,
             "#7201a8"
            ],
            [
             0.3333333333333333,
             "#9c179e"
            ],
            [
             0.4444444444444444,
             "#bd3786"
            ],
            [
             0.5555555555555556,
             "#d8576b"
            ],
            [
             0.6666666666666666,
             "#ed7953"
            ],
            [
             0.7777777777777778,
             "#fb9f3a"
            ],
            [
             0.8888888888888888,
             "#fdca26"
            ],
            [
             1,
             "#f0f921"
            ]
           ]
          },
          "colorway": [
           "#636efa",
           "#EF553B",
           "#00cc96",
           "#ab63fa",
           "#FFA15A",
           "#19d3f3",
           "#FF6692",
           "#B6E880",
           "#FF97FF",
           "#FECB52"
          ],
          "font": {
           "color": "#2a3f5f"
          },
          "geo": {
           "bgcolor": "white",
           "lakecolor": "white",
           "landcolor": "#E5ECF6",
           "showlakes": true,
           "showland": true,
           "subunitcolor": "white"
          },
          "hoverlabel": {
           "align": "left"
          },
          "hovermode": "closest",
          "mapbox": {
           "style": "light"
          },
          "paper_bgcolor": "white",
          "plot_bgcolor": "#E5ECF6",
          "polar": {
           "angularaxis": {
            "gridcolor": "white",
            "linecolor": "white",
            "ticks": ""
           },
           "bgcolor": "#E5ECF6",
           "radialaxis": {
            "gridcolor": "white",
            "linecolor": "white",
            "ticks": ""
           }
          },
          "scene": {
           "xaxis": {
            "backgroundcolor": "#E5ECF6",
            "gridcolor": "white",
            "gridwidth": 2,
            "linecolor": "white",
            "showbackground": true,
            "ticks": "",
            "zerolinecolor": "white"
           },
           "yaxis": {
            "backgroundcolor": "#E5ECF6",
            "gridcolor": "white",
            "gridwidth": 2,
            "linecolor": "white",
            "showbackground": true,
            "ticks": "",
            "zerolinecolor": "white"
           },
           "zaxis": {
            "backgroundcolor": "#E5ECF6",
            "gridcolor": "white",
            "gridwidth": 2,
            "linecolor": "white",
            "showbackground": true,
            "ticks": "",
            "zerolinecolor": "white"
           }
          },
          "shapedefaults": {
           "line": {
            "color": "#2a3f5f"
           }
          },
          "ternary": {
           "aaxis": {
            "gridcolor": "white",
            "linecolor": "white",
            "ticks": ""
           },
           "baxis": {
            "gridcolor": "white",
            "linecolor": "white",
            "ticks": ""
           },
           "bgcolor": "#E5ECF6",
           "caxis": {
            "gridcolor": "white",
            "linecolor": "white",
            "ticks": ""
           }
          },
          "title": {
           "x": 0.05
          },
          "xaxis": {
           "automargin": true,
           "gridcolor": "white",
           "linecolor": "white",
           "ticks": "",
           "title": {
            "standoff": 15
           },
           "zerolinecolor": "white",
           "zerolinewidth": 2
          },
          "yaxis": {
           "automargin": true,
           "gridcolor": "white",
           "linecolor": "white",
           "ticks": "",
           "title": {
            "standoff": 15
           },
           "zerolinecolor": "white",
           "zerolinewidth": 2
          }
         }
        },
        "title": {
         "text": "Mean Values by Comm and Metric"
        },
        "xaxis": {
         "anchor": "y",
         "domain": [
          0,
          1
         ],
         "title": {
          "text": "Comm"
         }
        },
        "yaxis": {
         "anchor": "x",
         "domain": [
          0,
          1
         ],
         "title": {
          "text": "Mean Value"
         }
        }
       }
      },
      "text/html": [
       "<div>                            <div id=\"825947e9-e01a-439e-a5e7-e6b5a11fed6b\" class=\"plotly-graph-div\" style=\"height:525px; width:100%;\"></div>            <script type=\"text/javascript\">                require([\"plotly\"], function(Plotly) {                    window.PLOTLYENV=window.PLOTLYENV || {};                                    if (document.getElementById(\"825947e9-e01a-439e-a5e7-e6b5a11fed6b\")) {                    Plotly.newPlot(                        \"825947e9-e01a-439e-a5e7-e6b5a11fed6b\",                        [{\"alignmentgroup\":\"True\",\"hovertemplate\":\"Metric=W_total<br>Comm=%{x}<br>Mean Value=%{y}<extra></extra>\",\"legendgroup\":\"W_total\",\"marker\":{\"color\":\"#636efa\",\"pattern\":{\"shape\":\"\"}},\"name\":\"W_total\",\"offsetgroup\":\"W_total\",\"orientation\":\"v\",\"showlegend\":true,\"textposition\":\"auto\",\"x\":[\"EWS\",\"OBC\",\"Open\",\"SC\",\"ST\"],\"xaxis\":\"x\",\"y\":[778.989898989899,771.022813688213,794.2231884057971,750.512987012987,761.4722222222222],\"yaxis\":\"y\",\"type\":\"bar\"},{\"alignmentgroup\":\"True\",\"hovertemplate\":\"Metric=PT_Marks<br>Comm=%{x}<br>Mean Value=%{y}<extra></extra>\",\"legendgroup\":\"PT_Marks\",\"marker\":{\"color\":\"#EF553B\",\"pattern\":{\"shape\":\"\"}},\"name\":\"PT_Marks\",\"offsetgroup\":\"PT_Marks\",\"orientation\":\"v\",\"showlegend\":true,\"textposition\":\"auto\",\"x\":[\"EWS\",\"OBC\",\"Open\",\"SC\",\"ST\"],\"xaxis\":\"x\",\"y\":[174.9090909090909,173.99239543726236,178.24927536231883,168.13636363636363,168.84722222222223],\"yaxis\":\"y\",\"type\":\"bar\"},{\"alignmentgroup\":\"True\",\"hovertemplate\":\"Metric=F_Total<br>Comm=%{x}<br>Mean Value=%{y}<extra></extra>\",\"legendgroup\":\"F_Total\",\"marker\":{\"color\":\"#00cc96\",\"pattern\":{\"shape\":\"\"}},\"name\":\"F_Total\",\"offsetgroup\":\"F_Total\",\"orientation\":\"v\",\"showlegend\":true,\"textposition\":\"auto\",\"x\":[\"EWS\",\"OBC\",\"Open\",\"SC\",\"ST\"],\"xaxis\":\"x\",\"y\":[953.89898989899,945.0152091254753,972.472463768116,918.6493506493506,930.3194444444445],\"yaxis\":\"y\",\"type\":\"bar\"}],                        {\"template\":{\"data\":{\"histogram2dcontour\":[{\"type\":\"histogram2dcontour\",\"colorbar\":{\"outlinewidth\":0,\"ticks\":\"\"},\"colorscale\":[[0.0,\"#0d0887\"],[0.1111111111111111,\"#46039f\"],[0.2222222222222222,\"#7201a8\"],[0.3333333333333333,\"#9c179e\"],[0.4444444444444444,\"#bd3786\"],[0.5555555555555556,\"#d8576b\"],[0.6666666666666666,\"#ed7953\"],[0.7777777777777778,\"#fb9f3a\"],[0.8888888888888888,\"#fdca26\"],[1.0,\"#f0f921\"]]}],\"choropleth\":[{\"type\":\"choropleth\",\"colorbar\":{\"outlinewidth\":0,\"ticks\":\"\"}}],\"histogram2d\":[{\"type\":\"histogram2d\",\"colorbar\":{\"outlinewidth\":0,\"ticks\":\"\"},\"colorscale\":[[0.0,\"#0d0887\"],[0.1111111111111111,\"#46039f\"],[0.2222222222222222,\"#7201a8\"],[0.3333333333333333,\"#9c179e\"],[0.4444444444444444,\"#bd3786\"],[0.5555555555555556,\"#d8576b\"],[0.6666666666666666,\"#ed7953\"],[0.7777777777777778,\"#fb9f3a\"],[0.8888888888888888,\"#fdca26\"],[1.0,\"#f0f921\"]]}],\"heatmap\":[{\"type\":\"heatmap\",\"colorbar\":{\"outlinewidth\":0,\"ticks\":\"\"},\"colorscale\":[[0.0,\"#0d0887\"],[0.1111111111111111,\"#46039f\"],[0.2222222222222222,\"#7201a8\"],[0.3333333333333333,\"#9c179e\"],[0.4444444444444444,\"#bd3786\"],[0.5555555555555556,\"#d8576b\"],[0.6666666666666666,\"#ed7953\"],[0.7777777777777778,\"#fb9f3a\"],[0.8888888888888888,\"#fdca26\"],[1.0,\"#f0f921\"]]}],\"heatmapgl\":[{\"type\":\"heatmapgl\",\"colorbar\":{\"outlinewidth\":0,\"ticks\":\"\"},\"colorscale\":[[0.0,\"#0d0887\"],[0.1111111111111111,\"#46039f\"],[0.2222222222222222,\"#7201a8\"],[0.3333333333333333,\"#9c179e\"],[0.4444444444444444,\"#bd3786\"],[0.5555555555555556,\"#d8576b\"],[0.6666666666666666,\"#ed7953\"],[0.7777777777777778,\"#fb9f3a\"],[0.8888888888888888,\"#fdca26\"],[1.0,\"#f0f921\"]]}],\"contourcarpet\":[{\"type\":\"contourcarpet\",\"colorbar\":{\"outlinewidth\":0,\"ticks\":\"\"}}],\"contour\":[{\"type\":\"contour\",\"colorbar\":{\"outlinewidth\":0,\"ticks\":\"\"},\"colorscale\":[[0.0,\"#0d0887\"],[0.1111111111111111,\"#46039f\"],[0.2222222222222222,\"#7201a8\"],[0.3333333333333333,\"#9c179e\"],[0.4444444444444444,\"#bd3786\"],[0.5555555555555556,\"#d8576b\"],[0.6666666666666666,\"#ed7953\"],[0.7777777777777778,\"#fb9f3a\"],[0.8888888888888888,\"#fdca26\"],[1.0,\"#f0f921\"]]}],\"surface\":[{\"type\":\"surface\",\"colorbar\":{\"outlinewidth\":0,\"ticks\":\"\"},\"colorscale\":[[0.0,\"#0d0887\"],[0.1111111111111111,\"#46039f\"],[0.2222222222222222,\"#7201a8\"],[0.3333333333333333,\"#9c179e\"],[0.4444444444444444,\"#bd3786\"],[0.5555555555555556,\"#d8576b\"],[0.6666666666666666,\"#ed7953\"],[0.7777777777777778,\"#fb9f3a\"],[0.8888888888888888,\"#fdca26\"],[1.0,\"#f0f921\"]]}],\"mesh3d\":[{\"type\":\"mesh3d\",\"colorbar\":{\"outlinewidth\":0,\"ticks\":\"\"}}],\"scatter\":[{\"fillpattern\":{\"fillmode\":\"overlay\",\"size\":10,\"solidity\":0.2},\"type\":\"scatter\"}],\"parcoords\":[{\"type\":\"parcoords\",\"line\":{\"colorbar\":{\"outlinewidth\":0,\"ticks\":\"\"}}}],\"scatterpolargl\":[{\"type\":\"scatterpolargl\",\"marker\":{\"colorbar\":{\"outlinewidth\":0,\"ticks\":\"\"}}}],\"bar\":[{\"error_x\":{\"color\":\"#2a3f5f\"},\"error_y\":{\"color\":\"#2a3f5f\"},\"marker\":{\"line\":{\"color\":\"#E5ECF6\",\"width\":0.5},\"pattern\":{\"fillmode\":\"overlay\",\"size\":10,\"solidity\":0.2}},\"type\":\"bar\"}],\"scattergeo\":[{\"type\":\"scattergeo\",\"marker\":{\"colorbar\":{\"outlinewidth\":0,\"ticks\":\"\"}}}],\"scatterpolar\":[{\"type\":\"scatterpolar\",\"marker\":{\"colorbar\":{\"outlinewidth\":0,\"ticks\":\"\"}}}],\"histogram\":[{\"marker\":{\"pattern\":{\"fillmode\":\"overlay\",\"size\":10,\"solidity\":0.2}},\"type\":\"histogram\"}],\"scattergl\":[{\"type\":\"scattergl\",\"marker\":{\"colorbar\":{\"outlinewidth\":0,\"ticks\":\"\"}}}],\"scatter3d\":[{\"type\":\"scatter3d\",\"line\":{\"colorbar\":{\"outlinewidth\":0,\"ticks\":\"\"}},\"marker\":{\"colorbar\":{\"outlinewidth\":0,\"ticks\":\"\"}}}],\"scattermapbox\":[{\"type\":\"scattermapbox\",\"marker\":{\"colorbar\":{\"outlinewidth\":0,\"ticks\":\"\"}}}],\"scatterternary\":[{\"type\":\"scatterternary\",\"marker\":{\"colorbar\":{\"outlinewidth\":0,\"ticks\":\"\"}}}],\"scattercarpet\":[{\"type\":\"scattercarpet\",\"marker\":{\"colorbar\":{\"outlinewidth\":0,\"ticks\":\"\"}}}],\"carpet\":[{\"aaxis\":{\"endlinecolor\":\"#2a3f5f\",\"gridcolor\":\"white\",\"linecolor\":\"white\",\"minorgridcolor\":\"white\",\"startlinecolor\":\"#2a3f5f\"},\"baxis\":{\"endlinecolor\":\"#2a3f5f\",\"gridcolor\":\"white\",\"linecolor\":\"white\",\"minorgridcolor\":\"white\",\"startlinecolor\":\"#2a3f5f\"},\"type\":\"carpet\"}],\"table\":[{\"cells\":{\"fill\":{\"color\":\"#EBF0F8\"},\"line\":{\"color\":\"white\"}},\"header\":{\"fill\":{\"color\":\"#C8D4E3\"},\"line\":{\"color\":\"white\"}},\"type\":\"table\"}],\"barpolar\":[{\"marker\":{\"line\":{\"color\":\"#E5ECF6\",\"width\":0.5},\"pattern\":{\"fillmode\":\"overlay\",\"size\":10,\"solidity\":0.2}},\"type\":\"barpolar\"}],\"pie\":[{\"automargin\":true,\"type\":\"pie\"}]},\"layout\":{\"autotypenumbers\":\"strict\",\"colorway\":[\"#636efa\",\"#EF553B\",\"#00cc96\",\"#ab63fa\",\"#FFA15A\",\"#19d3f3\",\"#FF6692\",\"#B6E880\",\"#FF97FF\",\"#FECB52\"],\"font\":{\"color\":\"#2a3f5f\"},\"hovermode\":\"closest\",\"hoverlabel\":{\"align\":\"left\"},\"paper_bgcolor\":\"white\",\"plot_bgcolor\":\"#E5ECF6\",\"polar\":{\"bgcolor\":\"#E5ECF6\",\"angularaxis\":{\"gridcolor\":\"white\",\"linecolor\":\"white\",\"ticks\":\"\"},\"radialaxis\":{\"gridcolor\":\"white\",\"linecolor\":\"white\",\"ticks\":\"\"}},\"ternary\":{\"bgcolor\":\"#E5ECF6\",\"aaxis\":{\"gridcolor\":\"white\",\"linecolor\":\"white\",\"ticks\":\"\"},\"baxis\":{\"gridcolor\":\"white\",\"linecolor\":\"white\",\"ticks\":\"\"},\"caxis\":{\"gridcolor\":\"white\",\"linecolor\":\"white\",\"ticks\":\"\"}},\"coloraxis\":{\"colorbar\":{\"outlinewidth\":0,\"ticks\":\"\"}},\"colorscale\":{\"sequential\":[[0.0,\"#0d0887\"],[0.1111111111111111,\"#46039f\"],[0.2222222222222222,\"#7201a8\"],[0.3333333333333333,\"#9c179e\"],[0.4444444444444444,\"#bd3786\"],[0.5555555555555556,\"#d8576b\"],[0.6666666666666666,\"#ed7953\"],[0.7777777777777778,\"#fb9f3a\"],[0.8888888888888888,\"#fdca26\"],[1.0,\"#f0f921\"]],\"sequentialminus\":[[0.0,\"#0d0887\"],[0.1111111111111111,\"#46039f\"],[0.2222222222222222,\"#7201a8\"],[0.3333333333333333,\"#9c179e\"],[0.4444444444444444,\"#bd3786\"],[0.5555555555555556,\"#d8576b\"],[0.6666666666666666,\"#ed7953\"],[0.7777777777777778,\"#fb9f3a\"],[0.8888888888888888,\"#fdca26\"],[1.0,\"#f0f921\"]],\"diverging\":[[0,\"#8e0152\"],[0.1,\"#c51b7d\"],[0.2,\"#de77ae\"],[0.3,\"#f1b6da\"],[0.4,\"#fde0ef\"],[0.5,\"#f7f7f7\"],[0.6,\"#e6f5d0\"],[0.7,\"#b8e186\"],[0.8,\"#7fbc41\"],[0.9,\"#4d9221\"],[1,\"#276419\"]]},\"xaxis\":{\"gridcolor\":\"white\",\"linecolor\":\"white\",\"ticks\":\"\",\"title\":{\"standoff\":15},\"zerolinecolor\":\"white\",\"automargin\":true,\"zerolinewidth\":2},\"yaxis\":{\"gridcolor\":\"white\",\"linecolor\":\"white\",\"ticks\":\"\",\"title\":{\"standoff\":15},\"zerolinecolor\":\"white\",\"automargin\":true,\"zerolinewidth\":2},\"scene\":{\"xaxis\":{\"backgroundcolor\":\"#E5ECF6\",\"gridcolor\":\"white\",\"linecolor\":\"white\",\"showbackground\":true,\"ticks\":\"\",\"zerolinecolor\":\"white\",\"gridwidth\":2},\"yaxis\":{\"backgroundcolor\":\"#E5ECF6\",\"gridcolor\":\"white\",\"linecolor\":\"white\",\"showbackground\":true,\"ticks\":\"\",\"zerolinecolor\":\"white\",\"gridwidth\":2},\"zaxis\":{\"backgroundcolor\":\"#E5ECF6\",\"gridcolor\":\"white\",\"linecolor\":\"white\",\"showbackground\":true,\"ticks\":\"\",\"zerolinecolor\":\"white\",\"gridwidth\":2}},\"shapedefaults\":{\"line\":{\"color\":\"#2a3f5f\"}},\"annotationdefaults\":{\"arrowcolor\":\"#2a3f5f\",\"arrowhead\":0,\"arrowwidth\":1},\"geo\":{\"bgcolor\":\"white\",\"landcolor\":\"#E5ECF6\",\"subunitcolor\":\"white\",\"showland\":true,\"showlakes\":true,\"lakecolor\":\"white\"},\"title\":{\"x\":0.05},\"mapbox\":{\"style\":\"light\"}}},\"xaxis\":{\"anchor\":\"y\",\"domain\":[0.0,1.0],\"title\":{\"text\":\"Comm\"}},\"yaxis\":{\"anchor\":\"x\",\"domain\":[0.0,1.0],\"title\":{\"text\":\"Mean Value\"}},\"legend\":{\"title\":{\"text\":\"Metric\"},\"tracegroupgap\":0},\"title\":{\"text\":\"Mean Values by Comm and Metric\"},\"barmode\":\"group\"},                        {\"responsive\": true}                    ).then(function(){\n",
       "                            \n",
       "var gd = document.getElementById('825947e9-e01a-439e-a5e7-e6b5a11fed6b');\n",
       "var x = new MutationObserver(function (mutations, observer) {{\n",
       "        var display = window.getComputedStyle(gd).display;\n",
       "        if (!display || display === 'none') {{\n",
       "            console.log([gd, 'removed!']);\n",
       "            Plotly.purge(gd);\n",
       "            observer.disconnect();\n",
       "        }}\n",
       "}});\n",
       "\n",
       "// Listen for the removal of the full notebook cells\n",
       "var notebookContainer = gd.closest('#notebook-container');\n",
       "if (notebookContainer) {{\n",
       "    x.observe(notebookContainer, {childList: true});\n",
       "}}\n",
       "\n",
       "// Listen for the clearing of the current output cell\n",
       "var outputEl = gd.closest('.output');\n",
       "if (outputEl) {{\n",
       "    x.observe(outputEl, {childList: true});\n",
       "}}\n",
       "\n",
       "                        })                };                });            </script>        </div>"
      ]
     },
     "metadata": {},
     "output_type": "display_data"
    }
   ],
   "source": [
    "\n",
    "# Assuming you have already created the upsc_2022_df DataFrame\n",
    "\n",
    "# Define the columns for which you want to calculate the mean\n",
    "columns_to_mean = ['W_total', 'PT_Marks', 'F_Total']\n",
    "\n",
    "# Calculate the mean for each 'Comm' category and selected columns\n",
    "mean_by_comm = upsc_2022_df.groupby('Comm')[columns_to_mean].mean().reset_index()\n",
    "\n",
    "# Melt the DataFrame for easier plotting\n",
    "mean_by_comm_melted = pd.melt(mean_by_comm, id_vars='Comm', var_name='Metric', value_name='Mean Value')\n",
    "\n",
    "# Create a grouped bar chart using Plotly Express\n",
    "fig = px.bar(\n",
    "    mean_by_comm_melted,\n",
    "    x='Comm',\n",
    "    y='Mean Value',\n",
    "    color='Metric',\n",
    "    barmode='group',\n",
    "    title='Mean Values by Comm and Metric',\n",
    ")\n",
    "\n",
    "# Set labels\n",
    "fig.update_layout(\n",
    "    xaxis_title='Comm',\n",
    "    yaxis_title='Mean Value',\n",
    ")\n",
    "\n",
    "# Show the plot\n",
    "fig.show()\n"
   ]
  },
  {
   "cell_type": "code",
   "execution_count": 55,
   "id": "312e3c7d",
   "metadata": {},
   "outputs": [
    {
     "data": {
      "application/vnd.plotly.v1+json": {
       "config": {
        "plotlyServerURL": "https://plot.ly"
       },
       "data": [
        {
         "hovertemplate": "Comm=EWS<br>x=%{x}<br>PT_Marks=%{y}<extra></extra>",
         "legendgroup": "EWS",
         "line": {
          "color": "#636efa",
          "dash": "solid"
         },
         "marker": {
          "symbol": "circle"
         },
         "mode": "lines",
         "name": "EWS",
         "orientation": "v",
         "showlegend": true,
         "type": "scatter",
         "x": [
          8,
          17,
          54,
          71,
          73,
          88
         ],
         "xaxis": "x",
         "y": [
          180,
          175,
          173,
          171,
          202,
          176
         ],
         "yaxis": "y"
        },
        {
         "hovertemplate": "Comm=OBC<br>x=%{x}<br>PT_Marks=%{y}<extra></extra>",
         "legendgroup": "OBC",
         "line": {
          "color": "#EF553B",
          "dash": "solid"
         },
         "marker": {
          "symbol": "circle"
         },
         "mode": "lines",
         "name": "OBC",
         "orientation": "v",
         "showlegend": true,
         "type": "scatter",
         "x": [
          1,
          2,
          20,
          26,
          43,
          49,
          50,
          82,
          93
         ],
         "xaxis": "x",
         "y": [
          187,
          187,
          195,
          198,
          187,
          198,
          182,
          193,
          187
         ],
         "yaxis": "y"
        },
        {
         "hovertemplate": "Comm=Open<br>x=%{x}<br>PT_Marks=%{y}<extra></extra>",
         "legendgroup": "Open",
         "line": {
          "color": "#00cc96",
          "dash": "solid"
         },
         "marker": {
          "symbol": "circle"
         },
         "mode": "lines",
         "name": "Open",
         "orientation": "v",
         "showlegend": true,
         "type": "scatter",
         "x": [
          0,
          3,
          4,
          5,
          6,
          7,
          9,
          10,
          11,
          12,
          13,
          14,
          15,
          16,
          18,
          19,
          21,
          22,
          23,
          24,
          25,
          27,
          28,
          29,
          30,
          31,
          32,
          33,
          35,
          36,
          37,
          38,
          39,
          40,
          41,
          42,
          44,
          45,
          46,
          47,
          48,
          51,
          52,
          53,
          55,
          56,
          57,
          58,
          59,
          60,
          61,
          62,
          63,
          64,
          65,
          66,
          67,
          68,
          69,
          70,
          72,
          74,
          75,
          76,
          77,
          78,
          79,
          80,
          81,
          83,
          85,
          86,
          87,
          90,
          91,
          92,
          94,
          95,
          96,
          97,
          98,
          99
         ],
         "xaxis": "x",
         "y": [
          193,
          173,
          193,
          193,
          182,
          195,
          180,
          205,
          185,
          184,
          204,
          162,
          176,
          176,
          180,
          204,
          178,
          179,
          195,
          171,
          184,
          184,
          185,
          187,
          154,
          195,
          184,
          206,
          193,
          184,
          190,
          180,
          206,
          179,
          180,
          195,
          195,
          193,
          206,
          190,
          180,
          182,
          176,
          206,
          182,
          176,
          195,
          187,
          193,
          201,
          193,
          185,
          173,
          206,
          182,
          184,
          185,
          190,
          176,
          173,
          184,
          162,
          195,
          190,
          185,
          179,
          198,
          187,
          176,
          190,
          173,
          187,
          184,
          179,
          187,
          173,
          170,
          198,
          162,
          193,
          173,
          190
         ],
         "yaxis": "y"
        },
        {
         "hovertemplate": "Comm=SC<br>x=%{x}<br>PT_Marks=%{y}<extra></extra>",
         "legendgroup": "SC",
         "line": {
          "color": "#ab63fa",
          "dash": "solid"
         },
         "marker": {
          "symbol": "circle"
         },
         "mode": "lines",
         "name": "SC",
         "orientation": "v",
         "showlegend": true,
         "type": "scatter",
         "x": [
          89
         ],
         "xaxis": "x",
         "y": [
          190
         ],
         "yaxis": "y"
        },
        {
         "hovertemplate": "Comm=ST<br>x=%{x}<br>PT_Marks=%{y}<extra></extra>",
         "legendgroup": "ST",
         "line": {
          "color": "#FFA15A",
          "dash": "solid"
         },
         "marker": {
          "symbol": "circle"
         },
         "mode": "lines",
         "name": "ST",
         "orientation": "v",
         "showlegend": true,
         "type": "scatter",
         "x": [
          34,
          84
         ],
         "xaxis": "x",
         "y": [
          190,
          198
         ],
         "yaxis": "y"
        }
       ],
       "layout": {
        "legend": {
         "title": {
          "text": "Comm"
         },
         "tracegroupgap": 0
        },
        "margin": {
         "t": 60
        },
        "template": {
         "data": {
          "bar": [
           {
            "error_x": {
             "color": "#2a3f5f"
            },
            "error_y": {
             "color": "#2a3f5f"
            },
            "marker": {
             "line": {
              "color": "#E5ECF6",
              "width": 0.5
             },
             "pattern": {
              "fillmode": "overlay",
              "size": 10,
              "solidity": 0.2
             }
            },
            "type": "bar"
           }
          ],
          "barpolar": [
           {
            "marker": {
             "line": {
              "color": "#E5ECF6",
              "width": 0.5
             },
             "pattern": {
              "fillmode": "overlay",
              "size": 10,
              "solidity": 0.2
             }
            },
            "type": "barpolar"
           }
          ],
          "carpet": [
           {
            "aaxis": {
             "endlinecolor": "#2a3f5f",
             "gridcolor": "white",
             "linecolor": "white",
             "minorgridcolor": "white",
             "startlinecolor": "#2a3f5f"
            },
            "baxis": {
             "endlinecolor": "#2a3f5f",
             "gridcolor": "white",
             "linecolor": "white",
             "minorgridcolor": "white",
             "startlinecolor": "#2a3f5f"
            },
            "type": "carpet"
           }
          ],
          "choropleth": [
           {
            "colorbar": {
             "outlinewidth": 0,
             "ticks": ""
            },
            "type": "choropleth"
           }
          ],
          "contour": [
           {
            "colorbar": {
             "outlinewidth": 0,
             "ticks": ""
            },
            "colorscale": [
             [
              0,
              "#0d0887"
             ],
             [
              0.1111111111111111,
              "#46039f"
             ],
             [
              0.2222222222222222,
              "#7201a8"
             ],
             [
              0.3333333333333333,
              "#9c179e"
             ],
             [
              0.4444444444444444,
              "#bd3786"
             ],
             [
              0.5555555555555556,
              "#d8576b"
             ],
             [
              0.6666666666666666,
              "#ed7953"
             ],
             [
              0.7777777777777778,
              "#fb9f3a"
             ],
             [
              0.8888888888888888,
              "#fdca26"
             ],
             [
              1,
              "#f0f921"
             ]
            ],
            "type": "contour"
           }
          ],
          "contourcarpet": [
           {
            "colorbar": {
             "outlinewidth": 0,
             "ticks": ""
            },
            "type": "contourcarpet"
           }
          ],
          "heatmap": [
           {
            "colorbar": {
             "outlinewidth": 0,
             "ticks": ""
            },
            "colorscale": [
             [
              0,
              "#0d0887"
             ],
             [
              0.1111111111111111,
              "#46039f"
             ],
             [
              0.2222222222222222,
              "#7201a8"
             ],
             [
              0.3333333333333333,
              "#9c179e"
             ],
             [
              0.4444444444444444,
              "#bd3786"
             ],
             [
              0.5555555555555556,
              "#d8576b"
             ],
             [
              0.6666666666666666,
              "#ed7953"
             ],
             [
              0.7777777777777778,
              "#fb9f3a"
             ],
             [
              0.8888888888888888,
              "#fdca26"
             ],
             [
              1,
              "#f0f921"
             ]
            ],
            "type": "heatmap"
           }
          ],
          "heatmapgl": [
           {
            "colorbar": {
             "outlinewidth": 0,
             "ticks": ""
            },
            "colorscale": [
             [
              0,
              "#0d0887"
             ],
             [
              0.1111111111111111,
              "#46039f"
             ],
             [
              0.2222222222222222,
              "#7201a8"
             ],
             [
              0.3333333333333333,
              "#9c179e"
             ],
             [
              0.4444444444444444,
              "#bd3786"
             ],
             [
              0.5555555555555556,
              "#d8576b"
             ],
             [
              0.6666666666666666,
              "#ed7953"
             ],
             [
              0.7777777777777778,
              "#fb9f3a"
             ],
             [
              0.8888888888888888,
              "#fdca26"
             ],
             [
              1,
              "#f0f921"
             ]
            ],
            "type": "heatmapgl"
           }
          ],
          "histogram": [
           {
            "marker": {
             "pattern": {
              "fillmode": "overlay",
              "size": 10,
              "solidity": 0.2
             }
            },
            "type": "histogram"
           }
          ],
          "histogram2d": [
           {
            "colorbar": {
             "outlinewidth": 0,
             "ticks": ""
            },
            "colorscale": [
             [
              0,
              "#0d0887"
             ],
             [
              0.1111111111111111,
              "#46039f"
             ],
             [
              0.2222222222222222,
              "#7201a8"
             ],
             [
              0.3333333333333333,
              "#9c179e"
             ],
             [
              0.4444444444444444,
              "#bd3786"
             ],
             [
              0.5555555555555556,
              "#d8576b"
             ],
             [
              0.6666666666666666,
              "#ed7953"
             ],
             [
              0.7777777777777778,
              "#fb9f3a"
             ],
             [
              0.8888888888888888,
              "#fdca26"
             ],
             [
              1,
              "#f0f921"
             ]
            ],
            "type": "histogram2d"
           }
          ],
          "histogram2dcontour": [
           {
            "colorbar": {
             "outlinewidth": 0,
             "ticks": ""
            },
            "colorscale": [
             [
              0,
              "#0d0887"
             ],
             [
              0.1111111111111111,
              "#46039f"
             ],
             [
              0.2222222222222222,
              "#7201a8"
             ],
             [
              0.3333333333333333,
              "#9c179e"
             ],
             [
              0.4444444444444444,
              "#bd3786"
             ],
             [
              0.5555555555555556,
              "#d8576b"
             ],
             [
              0.6666666666666666,
              "#ed7953"
             ],
             [
              0.7777777777777778,
              "#fb9f3a"
             ],
             [
              0.8888888888888888,
              "#fdca26"
             ],
             [
              1,
              "#f0f921"
             ]
            ],
            "type": "histogram2dcontour"
           }
          ],
          "mesh3d": [
           {
            "colorbar": {
             "outlinewidth": 0,
             "ticks": ""
            },
            "type": "mesh3d"
           }
          ],
          "parcoords": [
           {
            "line": {
             "colorbar": {
              "outlinewidth": 0,
              "ticks": ""
             }
            },
            "type": "parcoords"
           }
          ],
          "pie": [
           {
            "automargin": true,
            "type": "pie"
           }
          ],
          "scatter": [
           {
            "fillpattern": {
             "fillmode": "overlay",
             "size": 10,
             "solidity": 0.2
            },
            "type": "scatter"
           }
          ],
          "scatter3d": [
           {
            "line": {
             "colorbar": {
              "outlinewidth": 0,
              "ticks": ""
             }
            },
            "marker": {
             "colorbar": {
              "outlinewidth": 0,
              "ticks": ""
             }
            },
            "type": "scatter3d"
           }
          ],
          "scattercarpet": [
           {
            "marker": {
             "colorbar": {
              "outlinewidth": 0,
              "ticks": ""
             }
            },
            "type": "scattercarpet"
           }
          ],
          "scattergeo": [
           {
            "marker": {
             "colorbar": {
              "outlinewidth": 0,
              "ticks": ""
             }
            },
            "type": "scattergeo"
           }
          ],
          "scattergl": [
           {
            "marker": {
             "colorbar": {
              "outlinewidth": 0,
              "ticks": ""
             }
            },
            "type": "scattergl"
           }
          ],
          "scattermapbox": [
           {
            "marker": {
             "colorbar": {
              "outlinewidth": 0,
              "ticks": ""
             }
            },
            "type": "scattermapbox"
           }
          ],
          "scatterpolar": [
           {
            "marker": {
             "colorbar": {
              "outlinewidth": 0,
              "ticks": ""
             }
            },
            "type": "scatterpolar"
           }
          ],
          "scatterpolargl": [
           {
            "marker": {
             "colorbar": {
              "outlinewidth": 0,
              "ticks": ""
             }
            },
            "type": "scatterpolargl"
           }
          ],
          "scatterternary": [
           {
            "marker": {
             "colorbar": {
              "outlinewidth": 0,
              "ticks": ""
             }
            },
            "type": "scatterternary"
           }
          ],
          "surface": [
           {
            "colorbar": {
             "outlinewidth": 0,
             "ticks": ""
            },
            "colorscale": [
             [
              0,
              "#0d0887"
             ],
             [
              0.1111111111111111,
              "#46039f"
             ],
             [
              0.2222222222222222,
              "#7201a8"
             ],
             [
              0.3333333333333333,
              "#9c179e"
             ],
             [
              0.4444444444444444,
              "#bd3786"
             ],
             [
              0.5555555555555556,
              "#d8576b"
             ],
             [
              0.6666666666666666,
              "#ed7953"
             ],
             [
              0.7777777777777778,
              "#fb9f3a"
             ],
             [
              0.8888888888888888,
              "#fdca26"
             ],
             [
              1,
              "#f0f921"
             ]
            ],
            "type": "surface"
           }
          ],
          "table": [
           {
            "cells": {
             "fill": {
              "color": "#EBF0F8"
             },
             "line": {
              "color": "white"
             }
            },
            "header": {
             "fill": {
              "color": "#C8D4E3"
             },
             "line": {
              "color": "white"
             }
            },
            "type": "table"
           }
          ]
         },
         "layout": {
          "annotationdefaults": {
           "arrowcolor": "#2a3f5f",
           "arrowhead": 0,
           "arrowwidth": 1
          },
          "autotypenumbers": "strict",
          "coloraxis": {
           "colorbar": {
            "outlinewidth": 0,
            "ticks": ""
           }
          },
          "colorscale": {
           "diverging": [
            [
             0,
             "#8e0152"
            ],
            [
             0.1,
             "#c51b7d"
            ],
            [
             0.2,
             "#de77ae"
            ],
            [
             0.3,
             "#f1b6da"
            ],
            [
             0.4,
             "#fde0ef"
            ],
            [
             0.5,
             "#f7f7f7"
            ],
            [
             0.6,
             "#e6f5d0"
            ],
            [
             0.7,
             "#b8e186"
            ],
            [
             0.8,
             "#7fbc41"
            ],
            [
             0.9,
             "#4d9221"
            ],
            [
             1,
             "#276419"
            ]
           ],
           "sequential": [
            [
             0,
             "#0d0887"
            ],
            [
             0.1111111111111111,
             "#46039f"
            ],
            [
             0.2222222222222222,
             "#7201a8"
            ],
            [
             0.3333333333333333,
             "#9c179e"
            ],
            [
             0.4444444444444444,
             "#bd3786"
            ],
            [
             0.5555555555555556,
             "#d8576b"
            ],
            [
             0.6666666666666666,
             "#ed7953"
            ],
            [
             0.7777777777777778,
             "#fb9f3a"
            ],
            [
             0.8888888888888888,
             "#fdca26"
            ],
            [
             1,
             "#f0f921"
            ]
           ],
           "sequentialminus": [
            [
             0,
             "#0d0887"
            ],
            [
             0.1111111111111111,
             "#46039f"
            ],
            [
             0.2222222222222222,
             "#7201a8"
            ],
            [
             0.3333333333333333,
             "#9c179e"
            ],
            [
             0.4444444444444444,
             "#bd3786"
            ],
            [
             0.5555555555555556,
             "#d8576b"
            ],
            [
             0.6666666666666666,
             "#ed7953"
            ],
            [
             0.7777777777777778,
             "#fb9f3a"
            ],
            [
             0.8888888888888888,
             "#fdca26"
            ],
            [
             1,
             "#f0f921"
            ]
           ]
          },
          "colorway": [
           "#636efa",
           "#EF553B",
           "#00cc96",
           "#ab63fa",
           "#FFA15A",
           "#19d3f3",
           "#FF6692",
           "#B6E880",
           "#FF97FF",
           "#FECB52"
          ],
          "font": {
           "color": "#2a3f5f"
          },
          "geo": {
           "bgcolor": "white",
           "lakecolor": "white",
           "landcolor": "#E5ECF6",
           "showlakes": true,
           "showland": true,
           "subunitcolor": "white"
          },
          "hoverlabel": {
           "align": "left"
          },
          "hovermode": "closest",
          "mapbox": {
           "style": "light"
          },
          "paper_bgcolor": "white",
          "plot_bgcolor": "#E5ECF6",
          "polar": {
           "angularaxis": {
            "gridcolor": "white",
            "linecolor": "white",
            "ticks": ""
           },
           "bgcolor": "#E5ECF6",
           "radialaxis": {
            "gridcolor": "white",
            "linecolor": "white",
            "ticks": ""
           }
          },
          "scene": {
           "xaxis": {
            "backgroundcolor": "#E5ECF6",
            "gridcolor": "white",
            "gridwidth": 2,
            "linecolor": "white",
            "showbackground": true,
            "ticks": "",
            "zerolinecolor": "white"
           },
           "yaxis": {
            "backgroundcolor": "#E5ECF6",
            "gridcolor": "white",
            "gridwidth": 2,
            "linecolor": "white",
            "showbackground": true,
            "ticks": "",
            "zerolinecolor": "white"
           },
           "zaxis": {
            "backgroundcolor": "#E5ECF6",
            "gridcolor": "white",
            "gridwidth": 2,
            "linecolor": "white",
            "showbackground": true,
            "ticks": "",
            "zerolinecolor": "white"
           }
          },
          "shapedefaults": {
           "line": {
            "color": "#2a3f5f"
           }
          },
          "ternary": {
           "aaxis": {
            "gridcolor": "white",
            "linecolor": "white",
            "ticks": ""
           },
           "baxis": {
            "gridcolor": "white",
            "linecolor": "white",
            "ticks": ""
           },
           "bgcolor": "#E5ECF6",
           "caxis": {
            "gridcolor": "white",
            "linecolor": "white",
            "ticks": ""
           }
          },
          "title": {
           "x": 0.05
          },
          "xaxis": {
           "automargin": true,
           "gridcolor": "white",
           "linecolor": "white",
           "ticks": "",
           "title": {
            "standoff": 15
           },
           "zerolinecolor": "white",
           "zerolinewidth": 2
          },
          "yaxis": {
           "automargin": true,
           "gridcolor": "white",
           "linecolor": "white",
           "ticks": "",
           "title": {
            "standoff": 15
           },
           "zerolinecolor": "white",
           "zerolinewidth": 2
          }
         }
        },
        "title": {
         "text": "PT Marks vs Comm"
        },
        "xaxis": {
         "anchor": "y",
         "domain": [
          0,
          1
         ],
         "title": {
          "text": "Index"
         }
        },
        "yaxis": {
         "anchor": "x",
         "domain": [
          0,
          1
         ],
         "title": {
          "text": "PT Marks"
         }
        }
       }
      },
      "text/html": [
       "<div>                            <div id=\"6ff8f134-0a9d-4fca-8ad4-ed1cc5c4bb8f\" class=\"plotly-graph-div\" style=\"height:525px; width:100%;\"></div>            <script type=\"text/javascript\">                require([\"plotly\"], function(Plotly) {                    window.PLOTLYENV=window.PLOTLYENV || {};                                    if (document.getElementById(\"6ff8f134-0a9d-4fca-8ad4-ed1cc5c4bb8f\")) {                    Plotly.newPlot(                        \"6ff8f134-0a9d-4fca-8ad4-ed1cc5c4bb8f\",                        [{\"hovertemplate\":\"Comm=EWS<br>x=%{x}<br>PT_Marks=%{y}<extra></extra>\",\"legendgroup\":\"EWS\",\"line\":{\"color\":\"#636efa\",\"dash\":\"solid\"},\"marker\":{\"symbol\":\"circle\"},\"mode\":\"lines\",\"name\":\"EWS\",\"orientation\":\"v\",\"showlegend\":true,\"x\":[8,17,54,71,73,88],\"xaxis\":\"x\",\"y\":[180,175,173,171,202,176],\"yaxis\":\"y\",\"type\":\"scatter\"},{\"hovertemplate\":\"Comm=OBC<br>x=%{x}<br>PT_Marks=%{y}<extra></extra>\",\"legendgroup\":\"OBC\",\"line\":{\"color\":\"#EF553B\",\"dash\":\"solid\"},\"marker\":{\"symbol\":\"circle\"},\"mode\":\"lines\",\"name\":\"OBC\",\"orientation\":\"v\",\"showlegend\":true,\"x\":[1,2,20,26,43,49,50,82,93],\"xaxis\":\"x\",\"y\":[187,187,195,198,187,198,182,193,187],\"yaxis\":\"y\",\"type\":\"scatter\"},{\"hovertemplate\":\"Comm=Open<br>x=%{x}<br>PT_Marks=%{y}<extra></extra>\",\"legendgroup\":\"Open\",\"line\":{\"color\":\"#00cc96\",\"dash\":\"solid\"},\"marker\":{\"symbol\":\"circle\"},\"mode\":\"lines\",\"name\":\"Open\",\"orientation\":\"v\",\"showlegend\":true,\"x\":[0,3,4,5,6,7,9,10,11,12,13,14,15,16,18,19,21,22,23,24,25,27,28,29,30,31,32,33,35,36,37,38,39,40,41,42,44,45,46,47,48,51,52,53,55,56,57,58,59,60,61,62,63,64,65,66,67,68,69,70,72,74,75,76,77,78,79,80,81,83,85,86,87,90,91,92,94,95,96,97,98,99],\"xaxis\":\"x\",\"y\":[193,173,193,193,182,195,180,205,185,184,204,162,176,176,180,204,178,179,195,171,184,184,185,187,154,195,184,206,193,184,190,180,206,179,180,195,195,193,206,190,180,182,176,206,182,176,195,187,193,201,193,185,173,206,182,184,185,190,176,173,184,162,195,190,185,179,198,187,176,190,173,187,184,179,187,173,170,198,162,193,173,190],\"yaxis\":\"y\",\"type\":\"scatter\"},{\"hovertemplate\":\"Comm=SC<br>x=%{x}<br>PT_Marks=%{y}<extra></extra>\",\"legendgroup\":\"SC\",\"line\":{\"color\":\"#ab63fa\",\"dash\":\"solid\"},\"marker\":{\"symbol\":\"circle\"},\"mode\":\"lines\",\"name\":\"SC\",\"orientation\":\"v\",\"showlegend\":true,\"x\":[89],\"xaxis\":\"x\",\"y\":[190],\"yaxis\":\"y\",\"type\":\"scatter\"},{\"hovertemplate\":\"Comm=ST<br>x=%{x}<br>PT_Marks=%{y}<extra></extra>\",\"legendgroup\":\"ST\",\"line\":{\"color\":\"#FFA15A\",\"dash\":\"solid\"},\"marker\":{\"symbol\":\"circle\"},\"mode\":\"lines\",\"name\":\"ST\",\"orientation\":\"v\",\"showlegend\":true,\"x\":[34,84],\"xaxis\":\"x\",\"y\":[190,198],\"yaxis\":\"y\",\"type\":\"scatter\"}],                        {\"template\":{\"data\":{\"histogram2dcontour\":[{\"type\":\"histogram2dcontour\",\"colorbar\":{\"outlinewidth\":0,\"ticks\":\"\"},\"colorscale\":[[0.0,\"#0d0887\"],[0.1111111111111111,\"#46039f\"],[0.2222222222222222,\"#7201a8\"],[0.3333333333333333,\"#9c179e\"],[0.4444444444444444,\"#bd3786\"],[0.5555555555555556,\"#d8576b\"],[0.6666666666666666,\"#ed7953\"],[0.7777777777777778,\"#fb9f3a\"],[0.8888888888888888,\"#fdca26\"],[1.0,\"#f0f921\"]]}],\"choropleth\":[{\"type\":\"choropleth\",\"colorbar\":{\"outlinewidth\":0,\"ticks\":\"\"}}],\"histogram2d\":[{\"type\":\"histogram2d\",\"colorbar\":{\"outlinewidth\":0,\"ticks\":\"\"},\"colorscale\":[[0.0,\"#0d0887\"],[0.1111111111111111,\"#46039f\"],[0.2222222222222222,\"#7201a8\"],[0.3333333333333333,\"#9c179e\"],[0.4444444444444444,\"#bd3786\"],[0.5555555555555556,\"#d8576b\"],[0.6666666666666666,\"#ed7953\"],[0.7777777777777778,\"#fb9f3a\"],[0.8888888888888888,\"#fdca26\"],[1.0,\"#f0f921\"]]}],\"heatmap\":[{\"type\":\"heatmap\",\"colorbar\":{\"outlinewidth\":0,\"ticks\":\"\"},\"colorscale\":[[0.0,\"#0d0887\"],[0.1111111111111111,\"#46039f\"],[0.2222222222222222,\"#7201a8\"],[0.3333333333333333,\"#9c179e\"],[0.4444444444444444,\"#bd3786\"],[0.5555555555555556,\"#d8576b\"],[0.6666666666666666,\"#ed7953\"],[0.7777777777777778,\"#fb9f3a\"],[0.8888888888888888,\"#fdca26\"],[1.0,\"#f0f921\"]]}],\"heatmapgl\":[{\"type\":\"heatmapgl\",\"colorbar\":{\"outlinewidth\":0,\"ticks\":\"\"},\"colorscale\":[[0.0,\"#0d0887\"],[0.1111111111111111,\"#46039f\"],[0.2222222222222222,\"#7201a8\"],[0.3333333333333333,\"#9c179e\"],[0.4444444444444444,\"#bd3786\"],[0.5555555555555556,\"#d8576b\"],[0.6666666666666666,\"#ed7953\"],[0.7777777777777778,\"#fb9f3a\"],[0.8888888888888888,\"#fdca26\"],[1.0,\"#f0f921\"]]}],\"contourcarpet\":[{\"type\":\"contourcarpet\",\"colorbar\":{\"outlinewidth\":0,\"ticks\":\"\"}}],\"contour\":[{\"type\":\"contour\",\"colorbar\":{\"outlinewidth\":0,\"ticks\":\"\"},\"colorscale\":[[0.0,\"#0d0887\"],[0.1111111111111111,\"#46039f\"],[0.2222222222222222,\"#7201a8\"],[0.3333333333333333,\"#9c179e\"],[0.4444444444444444,\"#bd3786\"],[0.5555555555555556,\"#d8576b\"],[0.6666666666666666,\"#ed7953\"],[0.7777777777777778,\"#fb9f3a\"],[0.8888888888888888,\"#fdca26\"],[1.0,\"#f0f921\"]]}],\"surface\":[{\"type\":\"surface\",\"colorbar\":{\"outlinewidth\":0,\"ticks\":\"\"},\"colorscale\":[[0.0,\"#0d0887\"],[0.1111111111111111,\"#46039f\"],[0.2222222222222222,\"#7201a8\"],[0.3333333333333333,\"#9c179e\"],[0.4444444444444444,\"#bd3786\"],[0.5555555555555556,\"#d8576b\"],[0.6666666666666666,\"#ed7953\"],[0.7777777777777778,\"#fb9f3a\"],[0.8888888888888888,\"#fdca26\"],[1.0,\"#f0f921\"]]}],\"mesh3d\":[{\"type\":\"mesh3d\",\"colorbar\":{\"outlinewidth\":0,\"ticks\":\"\"}}],\"scatter\":[{\"fillpattern\":{\"fillmode\":\"overlay\",\"size\":10,\"solidity\":0.2},\"type\":\"scatter\"}],\"parcoords\":[{\"type\":\"parcoords\",\"line\":{\"colorbar\":{\"outlinewidth\":0,\"ticks\":\"\"}}}],\"scatterpolargl\":[{\"type\":\"scatterpolargl\",\"marker\":{\"colorbar\":{\"outlinewidth\":0,\"ticks\":\"\"}}}],\"bar\":[{\"error_x\":{\"color\":\"#2a3f5f\"},\"error_y\":{\"color\":\"#2a3f5f\"},\"marker\":{\"line\":{\"color\":\"#E5ECF6\",\"width\":0.5},\"pattern\":{\"fillmode\":\"overlay\",\"size\":10,\"solidity\":0.2}},\"type\":\"bar\"}],\"scattergeo\":[{\"type\":\"scattergeo\",\"marker\":{\"colorbar\":{\"outlinewidth\":0,\"ticks\":\"\"}}}],\"scatterpolar\":[{\"type\":\"scatterpolar\",\"marker\":{\"colorbar\":{\"outlinewidth\":0,\"ticks\":\"\"}}}],\"histogram\":[{\"marker\":{\"pattern\":{\"fillmode\":\"overlay\",\"size\":10,\"solidity\":0.2}},\"type\":\"histogram\"}],\"scattergl\":[{\"type\":\"scattergl\",\"marker\":{\"colorbar\":{\"outlinewidth\":0,\"ticks\":\"\"}}}],\"scatter3d\":[{\"type\":\"scatter3d\",\"line\":{\"colorbar\":{\"outlinewidth\":0,\"ticks\":\"\"}},\"marker\":{\"colorbar\":{\"outlinewidth\":0,\"ticks\":\"\"}}}],\"scattermapbox\":[{\"type\":\"scattermapbox\",\"marker\":{\"colorbar\":{\"outlinewidth\":0,\"ticks\":\"\"}}}],\"scatterternary\":[{\"type\":\"scatterternary\",\"marker\":{\"colorbar\":{\"outlinewidth\":0,\"ticks\":\"\"}}}],\"scattercarpet\":[{\"type\":\"scattercarpet\",\"marker\":{\"colorbar\":{\"outlinewidth\":0,\"ticks\":\"\"}}}],\"carpet\":[{\"aaxis\":{\"endlinecolor\":\"#2a3f5f\",\"gridcolor\":\"white\",\"linecolor\":\"white\",\"minorgridcolor\":\"white\",\"startlinecolor\":\"#2a3f5f\"},\"baxis\":{\"endlinecolor\":\"#2a3f5f\",\"gridcolor\":\"white\",\"linecolor\":\"white\",\"minorgridcolor\":\"white\",\"startlinecolor\":\"#2a3f5f\"},\"type\":\"carpet\"}],\"table\":[{\"cells\":{\"fill\":{\"color\":\"#EBF0F8\"},\"line\":{\"color\":\"white\"}},\"header\":{\"fill\":{\"color\":\"#C8D4E3\"},\"line\":{\"color\":\"white\"}},\"type\":\"table\"}],\"barpolar\":[{\"marker\":{\"line\":{\"color\":\"#E5ECF6\",\"width\":0.5},\"pattern\":{\"fillmode\":\"overlay\",\"size\":10,\"solidity\":0.2}},\"type\":\"barpolar\"}],\"pie\":[{\"automargin\":true,\"type\":\"pie\"}]},\"layout\":{\"autotypenumbers\":\"strict\",\"colorway\":[\"#636efa\",\"#EF553B\",\"#00cc96\",\"#ab63fa\",\"#FFA15A\",\"#19d3f3\",\"#FF6692\",\"#B6E880\",\"#FF97FF\",\"#FECB52\"],\"font\":{\"color\":\"#2a3f5f\"},\"hovermode\":\"closest\",\"hoverlabel\":{\"align\":\"left\"},\"paper_bgcolor\":\"white\",\"plot_bgcolor\":\"#E5ECF6\",\"polar\":{\"bgcolor\":\"#E5ECF6\",\"angularaxis\":{\"gridcolor\":\"white\",\"linecolor\":\"white\",\"ticks\":\"\"},\"radialaxis\":{\"gridcolor\":\"white\",\"linecolor\":\"white\",\"ticks\":\"\"}},\"ternary\":{\"bgcolor\":\"#E5ECF6\",\"aaxis\":{\"gridcolor\":\"white\",\"linecolor\":\"white\",\"ticks\":\"\"},\"baxis\":{\"gridcolor\":\"white\",\"linecolor\":\"white\",\"ticks\":\"\"},\"caxis\":{\"gridcolor\":\"white\",\"linecolor\":\"white\",\"ticks\":\"\"}},\"coloraxis\":{\"colorbar\":{\"outlinewidth\":0,\"ticks\":\"\"}},\"colorscale\":{\"sequential\":[[0.0,\"#0d0887\"],[0.1111111111111111,\"#46039f\"],[0.2222222222222222,\"#7201a8\"],[0.3333333333333333,\"#9c179e\"],[0.4444444444444444,\"#bd3786\"],[0.5555555555555556,\"#d8576b\"],[0.6666666666666666,\"#ed7953\"],[0.7777777777777778,\"#fb9f3a\"],[0.8888888888888888,\"#fdca26\"],[1.0,\"#f0f921\"]],\"sequentialminus\":[[0.0,\"#0d0887\"],[0.1111111111111111,\"#46039f\"],[0.2222222222222222,\"#7201a8\"],[0.3333333333333333,\"#9c179e\"],[0.4444444444444444,\"#bd3786\"],[0.5555555555555556,\"#d8576b\"],[0.6666666666666666,\"#ed7953\"],[0.7777777777777778,\"#fb9f3a\"],[0.8888888888888888,\"#fdca26\"],[1.0,\"#f0f921\"]],\"diverging\":[[0,\"#8e0152\"],[0.1,\"#c51b7d\"],[0.2,\"#de77ae\"],[0.3,\"#f1b6da\"],[0.4,\"#fde0ef\"],[0.5,\"#f7f7f7\"],[0.6,\"#e6f5d0\"],[0.7,\"#b8e186\"],[0.8,\"#7fbc41\"],[0.9,\"#4d9221\"],[1,\"#276419\"]]},\"xaxis\":{\"gridcolor\":\"white\",\"linecolor\":\"white\",\"ticks\":\"\",\"title\":{\"standoff\":15},\"zerolinecolor\":\"white\",\"automargin\":true,\"zerolinewidth\":2},\"yaxis\":{\"gridcolor\":\"white\",\"linecolor\":\"white\",\"ticks\":\"\",\"title\":{\"standoff\":15},\"zerolinecolor\":\"white\",\"automargin\":true,\"zerolinewidth\":2},\"scene\":{\"xaxis\":{\"backgroundcolor\":\"#E5ECF6\",\"gridcolor\":\"white\",\"linecolor\":\"white\",\"showbackground\":true,\"ticks\":\"\",\"zerolinecolor\":\"white\",\"gridwidth\":2},\"yaxis\":{\"backgroundcolor\":\"#E5ECF6\",\"gridcolor\":\"white\",\"linecolor\":\"white\",\"showbackground\":true,\"ticks\":\"\",\"zerolinecolor\":\"white\",\"gridwidth\":2},\"zaxis\":{\"backgroundcolor\":\"#E5ECF6\",\"gridcolor\":\"white\",\"linecolor\":\"white\",\"showbackground\":true,\"ticks\":\"\",\"zerolinecolor\":\"white\",\"gridwidth\":2}},\"shapedefaults\":{\"line\":{\"color\":\"#2a3f5f\"}},\"annotationdefaults\":{\"arrowcolor\":\"#2a3f5f\",\"arrowhead\":0,\"arrowwidth\":1},\"geo\":{\"bgcolor\":\"white\",\"landcolor\":\"#E5ECF6\",\"subunitcolor\":\"white\",\"showland\":true,\"showlakes\":true,\"lakecolor\":\"white\"},\"title\":{\"x\":0.05},\"mapbox\":{\"style\":\"light\"}}},\"xaxis\":{\"anchor\":\"y\",\"domain\":[0.0,1.0],\"title\":{\"text\":\"Index\"}},\"yaxis\":{\"anchor\":\"x\",\"domain\":[0.0,1.0],\"title\":{\"text\":\"PT Marks\"}},\"legend\":{\"title\":{\"text\":\"Comm\"},\"tracegroupgap\":0},\"margin\":{\"t\":60},\"title\":{\"text\":\"PT Marks vs Comm\"}},                        {\"responsive\": true}                    ).then(function(){\n",
       "                            \n",
       "var gd = document.getElementById('6ff8f134-0a9d-4fca-8ad4-ed1cc5c4bb8f');\n",
       "var x = new MutationObserver(function (mutations, observer) {{\n",
       "        var display = window.getComputedStyle(gd).display;\n",
       "        if (!display || display === 'none') {{\n",
       "            console.log([gd, 'removed!']);\n",
       "            Plotly.purge(gd);\n",
       "            observer.disconnect();\n",
       "        }}\n",
       "}});\n",
       "\n",
       "// Listen for the removal of the full notebook cells\n",
       "var notebookContainer = gd.closest('#notebook-container');\n",
       "if (notebookContainer) {{\n",
       "    x.observe(notebookContainer, {childList: true});\n",
       "}}\n",
       "\n",
       "// Listen for the clearing of the current output cell\n",
       "var outputEl = gd.closest('.output');\n",
       "if (outputEl) {{\n",
       "    x.observe(outputEl, {childList: true});\n",
       "}}\n",
       "\n",
       "                        })                };                });            </script>        </div>"
      ]
     },
     "metadata": {},
     "output_type": "display_data"
    }
   ],
   "source": [
    "import pandas as pd\n",
    "import plotly.express as px\n",
    "\n",
    "\n",
    "\n",
    "# Define the columns for the line graph\n",
    "columns_for_line_graph = ['PT_Marks']\n",
    "\n",
    "# Plotly Express line chart\n",
    "fig = px.line(upsc_2022_df[:100], x=upsc_2022_df[:100].index, y='PT_Marks', color='Comm', category_orders={'Comm': ['EWS', 'OBC', 'Open', 'SC', 'ST']})\n",
    "\n",
    "# Set labels and title\n",
    "fig.update_layout(\n",
    "    xaxis_title='Index',\n",
    "    yaxis_title='PT Marks',\n",
    "    title='PT Marks vs Comm',\n",
    ")\n",
    "\n",
    "# Show the plot\n",
    "fig.show()\n"
   ]
  },
  {
   "cell_type": "code",
   "execution_count": null,
   "id": "ad36bbb0",
   "metadata": {},
   "outputs": [],
   "source": []
  },
  {
   "cell_type": "code",
   "execution_count": null,
   "id": "56c44e52",
   "metadata": {},
   "outputs": [],
   "source": []
  },
  {
   "cell_type": "code",
   "execution_count": null,
   "id": "48fe76a5",
   "metadata": {},
   "outputs": [],
   "source": []
  },
  {
   "cell_type": "code",
   "execution_count": 80,
   "id": "796da8e0",
   "metadata": {},
   "outputs": [
    {
     "data": {
      "text/html": [
       "<div>\n",
       "<style scoped>\n",
       "    .dataframe tbody tr th:only-of-type {\n",
       "        vertical-align: middle;\n",
       "    }\n",
       "\n",
       "    .dataframe tbody tr th {\n",
       "        vertical-align: top;\n",
       "    }\n",
       "\n",
       "    .dataframe thead th {\n",
       "        text-align: right;\n",
       "    }\n",
       "</style>\n",
       "<table border=\"1\" class=\"dataframe\">\n",
       "  <thead>\n",
       "    <tr style=\"text-align: right;\">\n",
       "      <th></th>\n",
       "      <th>Roll_No</th>\n",
       "      <th>Name</th>\n",
       "      <th>Comm</th>\n",
       "      <th>PwBD</th>\n",
       "      <th>W_total</th>\n",
       "      <th>PT_Marks</th>\n",
       "      <th>F_Total</th>\n",
       "      <th>Rank</th>\n",
       "    </tr>\n",
       "  </thead>\n",
       "  <tbody>\n",
       "    <tr>\n",
       "      <th>0</th>\n",
       "      <td>5809986</td>\n",
       "      <td>ISHITA KISHORE</td>\n",
       "      <td>Open</td>\n",
       "      <td>No</td>\n",
       "      <td>901</td>\n",
       "      <td>193</td>\n",
       "      <td>1094</td>\n",
       "      <td>1</td>\n",
       "    </tr>\n",
       "    <tr>\n",
       "      <th>1</th>\n",
       "      <td>1506175</td>\n",
       "      <td>GARIMA LOHIA</td>\n",
       "      <td>OBC</td>\n",
       "      <td>No</td>\n",
       "      <td>876</td>\n",
       "      <td>187</td>\n",
       "      <td>1063</td>\n",
       "      <td>2</td>\n",
       "    </tr>\n",
       "    <tr>\n",
       "      <th>2</th>\n",
       "      <td>1019872</td>\n",
       "      <td>UMA HARATHI N</td>\n",
       "      <td>OBC</td>\n",
       "      <td>No</td>\n",
       "      <td>873</td>\n",
       "      <td>187</td>\n",
       "      <td>1060</td>\n",
       "      <td>3</td>\n",
       "    </tr>\n",
       "    <tr>\n",
       "      <th>3</th>\n",
       "      <td>858695</td>\n",
       "      <td>SMRITI MISHRA</td>\n",
       "      <td>Open</td>\n",
       "      <td>No</td>\n",
       "      <td>882</td>\n",
       "      <td>173</td>\n",
       "      <td>1055</td>\n",
       "      <td>4</td>\n",
       "    </tr>\n",
       "    <tr>\n",
       "      <th>4</th>\n",
       "      <td>906457</td>\n",
       "      <td>MAYUR HAZARIKA</td>\n",
       "      <td>Open</td>\n",
       "      <td>No</td>\n",
       "      <td>861</td>\n",
       "      <td>193</td>\n",
       "      <td>1054</td>\n",
       "      <td>5</td>\n",
       "    </tr>\n",
       "    <tr>\n",
       "      <th>5</th>\n",
       "      <td>2409491</td>\n",
       "      <td>GAHANA NAVYA JAMES</td>\n",
       "      <td>Open</td>\n",
       "      <td>No</td>\n",
       "      <td>861</td>\n",
       "      <td>193</td>\n",
       "      <td>1054</td>\n",
       "      <td>6</td>\n",
       "    </tr>\n",
       "    <tr>\n",
       "      <th>6</th>\n",
       "      <td>1802522</td>\n",
       "      <td>WASEEM AHMAD BHAT</td>\n",
       "      <td>Open</td>\n",
       "      <td>No</td>\n",
       "      <td>871</td>\n",
       "      <td>182</td>\n",
       "      <td>1053</td>\n",
       "      <td>7</td>\n",
       "    </tr>\n",
       "    <tr>\n",
       "      <th>7</th>\n",
       "      <td>853004</td>\n",
       "      <td>ANIRUDDH YADAV</td>\n",
       "      <td>Open</td>\n",
       "      <td>No</td>\n",
       "      <td>856</td>\n",
       "      <td>195</td>\n",
       "      <td>1051</td>\n",
       "      <td>8</td>\n",
       "    </tr>\n",
       "    <tr>\n",
       "      <th>8</th>\n",
       "      <td>3517201</td>\n",
       "      <td>KANIKA GOYAL</td>\n",
       "      <td>EWS</td>\n",
       "      <td>No</td>\n",
       "      <td>865</td>\n",
       "      <td>180</td>\n",
       "      <td>1045</td>\n",
       "      <td>9</td>\n",
       "    </tr>\n",
       "    <tr>\n",
       "      <th>9</th>\n",
       "      <td>205139</td>\n",
       "      <td>RAHUL SRIVASTAVA</td>\n",
       "      <td>Open</td>\n",
       "      <td>No</td>\n",
       "      <td>863</td>\n",
       "      <td>180</td>\n",
       "      <td>1043</td>\n",
       "      <td>10</td>\n",
       "    </tr>\n",
       "  </tbody>\n",
       "</table>\n",
       "</div>"
      ],
      "text/plain": [
       "   Roll_No                Name  Comm PwBD  W_total  PT_Marks  F_Total  Rank\n",
       "0  5809986      ISHITA KISHORE  Open   No      901       193     1094     1\n",
       "1  1506175        GARIMA LOHIA   OBC   No      876       187     1063     2\n",
       "2  1019872       UMA HARATHI N   OBC   No      873       187     1060     3\n",
       "3   858695       SMRITI MISHRA  Open   No      882       173     1055     4\n",
       "4   906457      MAYUR HAZARIKA  Open   No      861       193     1054     5\n",
       "5  2409491  GAHANA NAVYA JAMES  Open   No      861       193     1054     6\n",
       "6  1802522   WASEEM AHMAD BHAT  Open   No      871       182     1053     7\n",
       "7   853004      ANIRUDDH YADAV  Open   No      856       195     1051     8\n",
       "8  3517201        KANIKA GOYAL   EWS   No      865       180     1045     9\n",
       "9   205139    RAHUL SRIVASTAVA  Open   No      863       180     1043    10"
      ]
     },
     "execution_count": 80,
     "metadata": {},
     "output_type": "execute_result"
    }
   ],
   "source": [
    "upsc_2022_df.head(10)"
   ]
  },
  {
   "cell_type": "code",
   "execution_count": null,
   "id": "f31d1456",
   "metadata": {},
   "outputs": [],
   "source": [
    "# Analysis \n",
    "# Lest's see entries with open categories "
   ]
  },
  {
   "cell_type": "code",
   "execution_count": 84,
   "id": "c9d19788",
   "metadata": {},
   "outputs": [
    {
     "data": {
      "text/html": [
       "<div>\n",
       "<style scoped>\n",
       "    .dataframe tbody tr th:only-of-type {\n",
       "        vertical-align: middle;\n",
       "    }\n",
       "\n",
       "    .dataframe tbody tr th {\n",
       "        vertical-align: top;\n",
       "    }\n",
       "\n",
       "    .dataframe thead th {\n",
       "        text-align: right;\n",
       "    }\n",
       "</style>\n",
       "<table border=\"1\" class=\"dataframe\">\n",
       "  <thead>\n",
       "    <tr style=\"text-align: right;\">\n",
       "      <th></th>\n",
       "      <th>Roll_No</th>\n",
       "      <th>Name</th>\n",
       "      <th>Comm</th>\n",
       "      <th>PwBD</th>\n",
       "      <th>W_total</th>\n",
       "      <th>PT_Marks</th>\n",
       "      <th>F_Total</th>\n",
       "      <th>Rank</th>\n",
       "    </tr>\n",
       "  </thead>\n",
       "  <tbody>\n",
       "    <tr>\n",
       "      <th>0</th>\n",
       "      <td>5809986</td>\n",
       "      <td>ISHITA KISHORE</td>\n",
       "      <td>Open</td>\n",
       "      <td>No</td>\n",
       "      <td>901</td>\n",
       "      <td>193</td>\n",
       "      <td>1094</td>\n",
       "      <td>1</td>\n",
       "    </tr>\n",
       "    <tr>\n",
       "      <th>3</th>\n",
       "      <td>858695</td>\n",
       "      <td>SMRITI MISHRA</td>\n",
       "      <td>Open</td>\n",
       "      <td>No</td>\n",
       "      <td>882</td>\n",
       "      <td>173</td>\n",
       "      <td>1055</td>\n",
       "      <td>4</td>\n",
       "    </tr>\n",
       "    <tr>\n",
       "      <th>4</th>\n",
       "      <td>906457</td>\n",
       "      <td>MAYUR HAZARIKA</td>\n",
       "      <td>Open</td>\n",
       "      <td>No</td>\n",
       "      <td>861</td>\n",
       "      <td>193</td>\n",
       "      <td>1054</td>\n",
       "      <td>5</td>\n",
       "    </tr>\n",
       "    <tr>\n",
       "      <th>5</th>\n",
       "      <td>2409491</td>\n",
       "      <td>GAHANA NAVYA JAMES</td>\n",
       "      <td>Open</td>\n",
       "      <td>No</td>\n",
       "      <td>861</td>\n",
       "      <td>193</td>\n",
       "      <td>1054</td>\n",
       "      <td>6</td>\n",
       "    </tr>\n",
       "    <tr>\n",
       "      <th>6</th>\n",
       "      <td>1802522</td>\n",
       "      <td>WASEEM AHMAD BHAT</td>\n",
       "      <td>Open</td>\n",
       "      <td>No</td>\n",
       "      <td>871</td>\n",
       "      <td>182</td>\n",
       "      <td>1053</td>\n",
       "      <td>7</td>\n",
       "    </tr>\n",
       "    <tr>\n",
       "      <th>7</th>\n",
       "      <td>853004</td>\n",
       "      <td>ANIRUDDH YADAV</td>\n",
       "      <td>Open</td>\n",
       "      <td>No</td>\n",
       "      <td>856</td>\n",
       "      <td>195</td>\n",
       "      <td>1051</td>\n",
       "      <td>8</td>\n",
       "    </tr>\n",
       "    <tr>\n",
       "      <th>9</th>\n",
       "      <td>205139</td>\n",
       "      <td>RAHUL SRIVASTAVA</td>\n",
       "      <td>Open</td>\n",
       "      <td>No</td>\n",
       "      <td>863</td>\n",
       "      <td>180</td>\n",
       "      <td>1043</td>\n",
       "      <td>10</td>\n",
       "    </tr>\n",
       "    <tr>\n",
       "      <th>10</th>\n",
       "      <td>3407299</td>\n",
       "      <td>PARSANJEET KOUR</td>\n",
       "      <td>Open</td>\n",
       "      <td>No</td>\n",
       "      <td>837</td>\n",
       "      <td>205</td>\n",
       "      <td>1042</td>\n",
       "      <td>11</td>\n",
       "    </tr>\n",
       "    <tr>\n",
       "      <th>11</th>\n",
       "      <td>6302509</td>\n",
       "      <td>ABHINAV SIWACH</td>\n",
       "      <td>Open</td>\n",
       "      <td>No</td>\n",
       "      <td>856</td>\n",
       "      <td>185</td>\n",
       "      <td>1041</td>\n",
       "      <td>12</td>\n",
       "    </tr>\n",
       "    <tr>\n",
       "      <th>12</th>\n",
       "      <td>2623117</td>\n",
       "      <td>VIDUSHI SINGH</td>\n",
       "      <td>Open</td>\n",
       "      <td>No</td>\n",
       "      <td>855</td>\n",
       "      <td>184</td>\n",
       "      <td>1039</td>\n",
       "      <td>13</td>\n",
       "    </tr>\n",
       "  </tbody>\n",
       "</table>\n",
       "</div>"
      ],
      "text/plain": [
       "    Roll_No                Name  Comm PwBD  W_total  PT_Marks  F_Total  Rank\n",
       "0   5809986      ISHITA KISHORE  Open   No      901       193     1094     1\n",
       "3    858695       SMRITI MISHRA  Open   No      882       173     1055     4\n",
       "4    906457      MAYUR HAZARIKA  Open   No      861       193     1054     5\n",
       "5   2409491  GAHANA NAVYA JAMES  Open   No      861       193     1054     6\n",
       "6   1802522   WASEEM AHMAD BHAT  Open   No      871       182     1053     7\n",
       "7    853004      ANIRUDDH YADAV  Open   No      856       195     1051     8\n",
       "9    205139    RAHUL SRIVASTAVA  Open   No      863       180     1043    10\n",
       "10  3407299     PARSANJEET KOUR  Open   No      837       205     1042    11\n",
       "11  6302509      ABHINAV SIWACH  Open   No      856       185     1041    12\n",
       "12  2623117       VIDUSHI SINGH  Open   No      855       184     1039    13"
      ]
     },
     "execution_count": 84,
     "metadata": {},
     "output_type": "execute_result"
    }
   ],
   "source": [
    "upsc_2022_df[upsc_2022_df.Comm == \"Open\"].head(10)"
   ]
  },
  {
   "cell_type": "code",
   "execution_count": 86,
   "id": "3dcf61a6",
   "metadata": {},
   "outputs": [
    {
     "data": {
      "text/html": [
       "<div>\n",
       "<style scoped>\n",
       "    .dataframe tbody tr th:only-of-type {\n",
       "        vertical-align: middle;\n",
       "    }\n",
       "\n",
       "    .dataframe tbody tr th {\n",
       "        vertical-align: top;\n",
       "    }\n",
       "\n",
       "    .dataframe thead th {\n",
       "        text-align: right;\n",
       "    }\n",
       "</style>\n",
       "<table border=\"1\" class=\"dataframe\">\n",
       "  <thead>\n",
       "    <tr style=\"text-align: right;\">\n",
       "      <th></th>\n",
       "      <th>Roll_No</th>\n",
       "      <th>Name</th>\n",
       "      <th>Comm</th>\n",
       "      <th>PwBD</th>\n",
       "      <th>W_total</th>\n",
       "      <th>PT_Marks</th>\n",
       "      <th>F_Total</th>\n",
       "      <th>Rank</th>\n",
       "    </tr>\n",
       "  </thead>\n",
       "  <tbody>\n",
       "    <tr>\n",
       "      <th>418</th>\n",
       "      <td>1145499</td>\n",
       "      <td>AKASH SHARMA</td>\n",
       "      <td>Open</td>\n",
       "      <td>PwBD-2</td>\n",
       "      <td>781</td>\n",
       "      <td>179</td>\n",
       "      <td>960</td>\n",
       "      <td>419</td>\n",
       "    </tr>\n",
       "    <tr>\n",
       "      <th>449</th>\n",
       "      <td>4200709</td>\n",
       "      <td>ANJALI SHARMA</td>\n",
       "      <td>Open</td>\n",
       "      <td>PwBD-2</td>\n",
       "      <td>782</td>\n",
       "      <td>175</td>\n",
       "      <td>957</td>\n",
       "      <td>450</td>\n",
       "    </tr>\n",
       "    <tr>\n",
       "      <th>498</th>\n",
       "      <td>427620</td>\n",
       "      <td>AKSHAT TIWARI</td>\n",
       "      <td>Open</td>\n",
       "      <td>PwBD-2</td>\n",
       "      <td>784</td>\n",
       "      <td>165</td>\n",
       "      <td>949</td>\n",
       "      <td>499</td>\n",
       "    </tr>\n",
       "    <tr>\n",
       "      <th>535</th>\n",
       "      <td>1422572</td>\n",
       "      <td>MADHAV BHARADWAJ</td>\n",
       "      <td>Open</td>\n",
       "      <td>PwBD-1</td>\n",
       "      <td>781</td>\n",
       "      <td>165</td>\n",
       "      <td>946</td>\n",
       "      <td>536</td>\n",
       "    </tr>\n",
       "    <tr>\n",
       "      <th>558</th>\n",
       "      <td>1048836</td>\n",
       "      <td>I E S S D MANOJ</td>\n",
       "      <td>Open</td>\n",
       "      <td>PwBD-1</td>\n",
       "      <td>786</td>\n",
       "      <td>157</td>\n",
       "      <td>943</td>\n",
       "      <td>559</td>\n",
       "    </tr>\n",
       "    <tr>\n",
       "      <th>605</th>\n",
       "      <td>862343</td>\n",
       "      <td>NEHA GOYAL</td>\n",
       "      <td>Open</td>\n",
       "      <td>PwBD-1</td>\n",
       "      <td>779</td>\n",
       "      <td>159</td>\n",
       "      <td>938</td>\n",
       "      <td>606</td>\n",
       "    </tr>\n",
       "    <tr>\n",
       "      <th>783</th>\n",
       "      <td>1225879</td>\n",
       "      <td>KARTIK KANSAL</td>\n",
       "      <td>Open</td>\n",
       "      <td>PwBD-1</td>\n",
       "      <td>760</td>\n",
       "      <td>162</td>\n",
       "      <td>922</td>\n",
       "      <td>784</td>\n",
       "    </tr>\n",
       "    <tr>\n",
       "      <th>784</th>\n",
       "      <td>1145515</td>\n",
       "      <td>ABHINAV KHANDELWAL</td>\n",
       "      <td>Open</td>\n",
       "      <td>PwBD-2</td>\n",
       "      <td>784</td>\n",
       "      <td>138</td>\n",
       "      <td>922</td>\n",
       "      <td>785</td>\n",
       "    </tr>\n",
       "    <tr>\n",
       "      <th>800</th>\n",
       "      <td>1048843</td>\n",
       "      <td>KALLAM SRIKANTH REDDY</td>\n",
       "      <td>Open</td>\n",
       "      <td>PwBD-1</td>\n",
       "      <td>755</td>\n",
       "      <td>162</td>\n",
       "      <td>917</td>\n",
       "      <td>801</td>\n",
       "    </tr>\n",
       "    <tr>\n",
       "      <th>807</th>\n",
       "      <td>6319513</td>\n",
       "      <td>SATENDER SINGH</td>\n",
       "      <td>Open</td>\n",
       "      <td>PwBD-2</td>\n",
       "      <td>739</td>\n",
       "      <td>176</td>\n",
       "      <td>915</td>\n",
       "      <td>808</td>\n",
       "    </tr>\n",
       "  </tbody>\n",
       "</table>\n",
       "</div>"
      ],
      "text/plain": [
       "     Roll_No                   Name  Comm    PwBD  W_total  PT_Marks  F_Total  \\\n",
       "418  1145499           AKASH SHARMA  Open  PwBD-2      781       179      960   \n",
       "449  4200709          ANJALI SHARMA  Open  PwBD-2      782       175      957   \n",
       "498   427620          AKSHAT TIWARI  Open  PwBD-2      784       165      949   \n",
       "535  1422572       MADHAV BHARADWAJ  Open  PwBD-1      781       165      946   \n",
       "558  1048836        I E S S D MANOJ  Open  PwBD-1      786       157      943   \n",
       "605   862343             NEHA GOYAL  Open  PwBD-1      779       159      938   \n",
       "783  1225879          KARTIK KANSAL  Open  PwBD-1      760       162      922   \n",
       "784  1145515     ABHINAV KHANDELWAL  Open  PwBD-2      784       138      922   \n",
       "800  1048843  KALLAM SRIKANTH REDDY  Open  PwBD-1      755       162      917   \n",
       "807  6319513         SATENDER SINGH  Open  PwBD-2      739       176      915   \n",
       "\n",
       "     Rank  \n",
       "418   419  \n",
       "449   450  \n",
       "498   499  \n",
       "535   536  \n",
       "558   559  \n",
       "605   606  \n",
       "783   784  \n",
       "784   785  \n",
       "800   801  \n",
       "807   808  "
      ]
     },
     "execution_count": 86,
     "metadata": {},
     "output_type": "execute_result"
    }
   ],
   "source": [
    "upsc_2022_df[(upsc_2022_df.Comm == \"Open\")& (upsc_2022_df.PwBD != \"No\")].head(10)"
   ]
  },
  {
   "cell_type": "code",
   "execution_count": 97,
   "id": "c13f9b5e",
   "metadata": {},
   "outputs": [
    {
     "name": "stdout",
     "output_type": "stream",
     "text": [
      "<class 'pandas.core.frame.DataFrame'>\n",
      "RangeIndex: 933 entries, 0 to 932\n",
      "Data columns (total 8 columns):\n",
      " #   Column    Non-Null Count  Dtype \n",
      "---  ------    --------------  ----- \n",
      " 0   Roll_No   933 non-null    int64 \n",
      " 1   Name      933 non-null    object\n",
      " 2   Comm      933 non-null    object\n",
      " 3   PwBD      933 non-null    object\n",
      " 4   W_total   933 non-null    int64 \n",
      " 5   PT_Marks  933 non-null    int64 \n",
      " 6   F_Total   933 non-null    int64 \n",
      " 7   Rank      933 non-null    int64 \n",
      "dtypes: int64(5), object(3)\n",
      "memory usage: 58.4+ KB\n"
     ]
    }
   ],
   "source": [
    "upsc_2022_df.info()"
   ]
  },
  {
   "cell_type": "markdown",
   "id": "2333fd60",
   "metadata": {},
   "source": [
    "# Let's try to create a predictive modeling for PT_Marks "
   ]
  },
  {
   "cell_type": "code",
   "execution_count": 91,
   "id": "eca9aece",
   "metadata": {},
   "outputs": [
    {
     "data": {
      "text/plain": [
       "pandas.core.frame.DataFrame"
      ]
     },
     "execution_count": 91,
     "metadata": {},
     "output_type": "execute_result"
    }
   ],
   "source": [
    "type( upsc_2022_df)"
   ]
  },
  {
   "cell_type": "code",
   "execution_count": null,
   "id": "1c2f9064",
   "metadata": {},
   "outputs": [],
   "source": [
    "ups"
   ]
  }
 ],
 "metadata": {
  "kernelspec": {
   "display_name": "Python 3 (ipykernel)",
   "language": "python",
   "name": "python3"
  },
  "language_info": {
   "codemirror_mode": {
    "name": "ipython",
    "version": 3
   },
   "file_extension": ".py",
   "mimetype": "text/x-python",
   "name": "python",
   "nbconvert_exporter": "python",
   "pygments_lexer": "ipython3",
   "version": "3.11.5"
  }
 },
 "nbformat": 4,
 "nbformat_minor": 5
}
